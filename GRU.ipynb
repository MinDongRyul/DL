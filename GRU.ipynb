{
 "cells": [
  {
   "cell_type": "code",
   "execution_count": 20,
   "id": "a2368955",
   "metadata": {},
   "outputs": [],
   "source": [
    "import pandas as pd\n",
    "import numpy as np\n",
    "import tensorflow as tf\n",
    "import matplotlib.pyplot as plt\n",
    "from tensorflow.keras.layers import GRU, Dense, Dropout\n",
    "from tensorflow.keras.models import Sequential"
   ]
  },
  {
   "cell_type": "markdown",
   "id": "c7c983c5",
   "metadata": {},
   "source": [
    "[1] 데이터 로드 및 분포 확인"
   ]
  },
  {
   "cell_type": "code",
   "execution_count": 6,
   "id": "a5ec1b0e",
   "metadata": {},
   "outputs": [
    {
     "data": {
      "text/html": [
       "<div>\n",
       "<style scoped>\n",
       "    .dataframe tbody tr th:only-of-type {\n",
       "        vertical-align: middle;\n",
       "    }\n",
       "\n",
       "    .dataframe tbody tr th {\n",
       "        vertical-align: top;\n",
       "    }\n",
       "\n",
       "    .dataframe thead th {\n",
       "        text-align: right;\n",
       "    }\n",
       "</style>\n",
       "<table border=\"1\" class=\"dataframe\">\n",
       "  <thead>\n",
       "    <tr style=\"text-align: right;\">\n",
       "      <th></th>\n",
       "      <th>Date</th>\n",
       "      <th>Open</th>\n",
       "      <th>High</th>\n",
       "      <th>Low</th>\n",
       "      <th>Close</th>\n",
       "      <th>Adj Close</th>\n",
       "      <th>Volume</th>\n",
       "      <th>3MA</th>\n",
       "      <th>5MA</th>\n",
       "    </tr>\n",
       "  </thead>\n",
       "  <tbody>\n",
       "    <tr>\n",
       "      <th>0</th>\n",
       "      <td>2000-01-04</td>\n",
       "      <td>6000.0</td>\n",
       "      <td>6110.0</td>\n",
       "      <td>5660.0</td>\n",
       "      <td>6110.0</td>\n",
       "      <td>4563.383789</td>\n",
       "      <td>74195000</td>\n",
       "      <td>NaN</td>\n",
       "      <td>NaN</td>\n",
       "    </tr>\n",
       "    <tr>\n",
       "      <th>1</th>\n",
       "      <td>2000-01-05</td>\n",
       "      <td>5800.0</td>\n",
       "      <td>6060.0</td>\n",
       "      <td>5520.0</td>\n",
       "      <td>5580.0</td>\n",
       "      <td>4167.542969</td>\n",
       "      <td>74680000</td>\n",
       "      <td>NaN</td>\n",
       "      <td>NaN</td>\n",
       "    </tr>\n",
       "    <tr>\n",
       "      <th>2</th>\n",
       "      <td>2000-01-06</td>\n",
       "      <td>5750.0</td>\n",
       "      <td>5780.0</td>\n",
       "      <td>5580.0</td>\n",
       "      <td>5620.0</td>\n",
       "      <td>4197.416992</td>\n",
       "      <td>54390000</td>\n",
       "      <td>4309.447917</td>\n",
       "      <td>NaN</td>\n",
       "    </tr>\n",
       "    <tr>\n",
       "      <th>3</th>\n",
       "      <td>2000-01-07</td>\n",
       "      <td>5560.0</td>\n",
       "      <td>5670.0</td>\n",
       "      <td>5360.0</td>\n",
       "      <td>5540.0</td>\n",
       "      <td>4137.667969</td>\n",
       "      <td>40305000</td>\n",
       "      <td>4167.542643</td>\n",
       "      <td>NaN</td>\n",
       "    </tr>\n",
       "    <tr>\n",
       "      <th>4</th>\n",
       "      <td>2000-01-10</td>\n",
       "      <td>5600.0</td>\n",
       "      <td>5770.0</td>\n",
       "      <td>5580.0</td>\n",
       "      <td>5770.0</td>\n",
       "      <td>4309.448730</td>\n",
       "      <td>46880000</td>\n",
       "      <td>4214.844564</td>\n",
       "      <td>4275.09209</td>\n",
       "    </tr>\n",
       "  </tbody>\n",
       "</table>\n",
       "</div>"
      ],
      "text/plain": [
       "         Date    Open    High     Low   Close    Adj Close    Volume  \\\n",
       "0  2000-01-04  6000.0  6110.0  5660.0  6110.0  4563.383789  74195000   \n",
       "1  2000-01-05  5800.0  6060.0  5520.0  5580.0  4167.542969  74680000   \n",
       "2  2000-01-06  5750.0  5780.0  5580.0  5620.0  4197.416992  54390000   \n",
       "3  2000-01-07  5560.0  5670.0  5360.0  5540.0  4137.667969  40305000   \n",
       "4  2000-01-10  5600.0  5770.0  5580.0  5770.0  4309.448730  46880000   \n",
       "\n",
       "           3MA         5MA  \n",
       "0          NaN         NaN  \n",
       "1          NaN         NaN  \n",
       "2  4309.447917         NaN  \n",
       "3  4167.542643         NaN  \n",
       "4  4214.844564  4275.09209  "
      ]
     },
     "execution_count": 6,
     "metadata": {},
     "output_type": "execute_result"
    }
   ],
   "source": [
    "raw_df = pd.read_csv('./data/005930.KS.csv')\n",
    "\n",
    "raw_df['3MA'] = raw_df['Adj Close'].rolling(3).mean()\n",
    "raw_df['5MA'] = raw_df['Adj Close'].rolling(5).mean()\n",
    "raw_df.head()"
   ]
  },
  {
   "cell_type": "code",
   "execution_count": 8,
   "id": "63d184ab",
   "metadata": {},
   "outputs": [
    {
     "data": {
      "image/png": "[encoded data removed]",
      "text/plain": [
       "<Figure size 504x288 with 1 Axes>"
      ]
     },
     "metadata": {
      "needs_background": "light"
     },
     "output_type": "display_data"
    }
   ],
   "source": [
    "plt.figure(figsize=(7, 4))\n",
    "\n",
    "plt.title('SAMSUNG ELECTRONIC STOCK PRICE')\n",
    "plt.ylabel('price (won)')\n",
    "plt.xlabel('period (day)')\n",
    "plt.grid()\n",
    "\n",
    "plt.plot(raw_df['Adj Close'], label='Adj Close', color='b')\n",
    "plt.legend(loc='best')\n",
    "\n",
    "plt.show()\n",
    "# GRU이용하여 20년간의 주가 데이터 학습\n",
    "# 학습된 모델을 통해 예측"
   ]
  },
  {
   "cell_type": "code",
   "execution_count": 9,
   "id": "e3dc66a9",
   "metadata": {},
   "outputs": [
    {
     "data": {
      "text/html": [
       "<div>\n",
       "<style scoped>\n",
       "    .dataframe tbody tr th:only-of-type {\n",
       "        vertical-align: middle;\n",
       "    }\n",
       "\n",
       "    .dataframe tbody tr th {\n",
       "        vertical-align: top;\n",
       "    }\n",
       "\n",
       "    .dataframe thead th {\n",
       "        text-align: right;\n",
       "    }\n",
       "</style>\n",
       "<table border=\"1\" class=\"dataframe\">\n",
       "  <thead>\n",
       "    <tr style=\"text-align: right;\">\n",
       "      <th></th>\n",
       "      <th>Open</th>\n",
       "      <th>High</th>\n",
       "      <th>Low</th>\n",
       "      <th>Close</th>\n",
       "      <th>Adj Close</th>\n",
       "      <th>Volume</th>\n",
       "      <th>3MA</th>\n",
       "      <th>5MA</th>\n",
       "    </tr>\n",
       "  </thead>\n",
       "  <tbody>\n",
       "    <tr>\n",
       "      <th>count</th>\n",
       "      <td>5844.000000</td>\n",
       "      <td>5844.000000</td>\n",
       "      <td>5844.000000</td>\n",
       "      <td>5844.000000</td>\n",
       "      <td>5844.000000</td>\n",
       "      <td>5.844000e+03</td>\n",
       "      <td>5842.000000</td>\n",
       "      <td>5840.000000</td>\n",
       "    </tr>\n",
       "    <tr>\n",
       "      <th>mean</th>\n",
       "      <td>26233.239220</td>\n",
       "      <td>26493.918549</td>\n",
       "      <td>25965.847023</td>\n",
       "      <td>26227.012320</td>\n",
       "      <td>22783.017697</td>\n",
       "      <td>2.142574e+07</td>\n",
       "      <td>22778.858379</td>\n",
       "      <td>22774.653713</td>\n",
       "    </tr>\n",
       "    <tr>\n",
       "      <th>std</th>\n",
       "      <td>20860.017097</td>\n",
       "      <td>21028.804605</td>\n",
       "      <td>20681.153275</td>\n",
       "      <td>20843.814212</td>\n",
       "      <td>20377.741257</td>\n",
       "      <td>1.529895e+07</td>\n",
       "      <td>20369.551522</td>\n",
       "      <td>20361.684801</td>\n",
       "    </tr>\n",
       "    <tr>\n",
       "      <th>min</th>\n",
       "      <td>2540.000000</td>\n",
       "      <td>2760.000000</td>\n",
       "      <td>2420.000000</td>\n",
       "      <td>2730.000000</td>\n",
       "      <td>2038.958740</td>\n",
       "      <td>0.000000e+00</td>\n",
       "      <td>2083.771037</td>\n",
       "      <td>2098.708496</td>\n",
       "    </tr>\n",
       "    <tr>\n",
       "      <th>25%</th>\n",
       "      <td>10375.000000</td>\n",
       "      <td>10520.000000</td>\n",
       "      <td>10260.000000</td>\n",
       "      <td>10400.000000</td>\n",
       "      <td>7872.025391</td>\n",
       "      <td>1.172968e+07</td>\n",
       "      <td>7877.003703</td>\n",
       "      <td>7889.395947</td>\n",
       "    </tr>\n",
       "    <tr>\n",
       "      <th>50%</th>\n",
       "      <td>17870.000000</td>\n",
       "      <td>18020.000000</td>\n",
       "      <td>17670.000000</td>\n",
       "      <td>17870.000000</td>\n",
       "      <td>14120.687500</td>\n",
       "      <td>1.737548e+07</td>\n",
       "      <td>14119.659180</td>\n",
       "      <td>14144.406934</td>\n",
       "    </tr>\n",
       "    <tr>\n",
       "      <th>75%</th>\n",
       "      <td>41112.500000</td>\n",
       "      <td>41542.500000</td>\n",
       "      <td>40850.000000</td>\n",
       "      <td>41210.000000</td>\n",
       "      <td>35405.623047</td>\n",
       "      <td>2.659555e+07</td>\n",
       "      <td>35464.105143</td>\n",
       "      <td>35411.350391</td>\n",
       "    </tr>\n",
       "    <tr>\n",
       "      <th>max</th>\n",
       "      <td>90300.000000</td>\n",
       "      <td>96800.000000</td>\n",
       "      <td>89500.000000</td>\n",
       "      <td>91000.000000</td>\n",
       "      <td>87219.484375</td>\n",
       "      <td>1.642150e+08</td>\n",
       "      <td>86676.354167</td>\n",
       "      <td>86222.682813</td>\n",
       "    </tr>\n",
       "  </tbody>\n",
       "</table>\n",
       "</div>"
      ],
      "text/plain": [
       "               Open          High           Low         Close     Adj Close  \\\n",
       "count   5844.000000   5844.000000   5844.000000   5844.000000   5844.000000   \n",
       "mean   26233.239220  26493.918549  25965.847023  26227.012320  22783.017697   \n",
       "std    20860.017097  21028.804605  20681.153275  20843.814212  20377.741257   \n",
       "min     2540.000000   2760.000000   2420.000000   2730.000000   2038.958740   \n",
       "25%    10375.000000  10520.000000  10260.000000  10400.000000   7872.025391   \n",
       "50%    17870.000000  18020.000000  17670.000000  17870.000000  14120.687500   \n",
       "75%    41112.500000  41542.500000  40850.000000  41210.000000  35405.623047   \n",
       "max    90300.000000  96800.000000  89500.000000  91000.000000  87219.484375   \n",
       "\n",
       "             Volume           3MA           5MA  \n",
       "count  5.844000e+03   5842.000000   5840.000000  \n",
       "mean   2.142574e+07  22778.858379  22774.653713  \n",
       "std    1.529895e+07  20369.551522  20361.684801  \n",
       "min    0.000000e+00   2083.771037   2098.708496  \n",
       "25%    1.172968e+07   7877.003703   7889.395947  \n",
       "50%    1.737548e+07  14119.659180  14144.406934  \n",
       "75%    2.659555e+07  35464.105143  35411.350391  \n",
       "max    1.642150e+08  86676.354167  86222.682813  "
      ]
     },
     "execution_count": 9,
     "metadata": {},
     "output_type": "execute_result"
    }
   ],
   "source": [
    "raw_df.describe()"
   ]
  },
  {
   "cell_type": "code",
   "execution_count": 10,
   "id": "de9cb225",
   "metadata": {},
   "outputs": [
    {
     "data": {
      "text/plain": [
       "Date         0\n",
       "Open         0\n",
       "High         0\n",
       "Low          0\n",
       "Close        0\n",
       "Adj Close    0\n",
       "Volume       0\n",
       "3MA          2\n",
       "5MA          4\n",
       "dtype: int64"
      ]
     },
     "execution_count": 10,
     "metadata": {},
     "output_type": "execute_result"
    }
   ],
   "source": [
    "raw_df.isnull().sum()"
   ]
  },
  {
   "cell_type": "code",
   "execution_count": 12,
   "id": "f1a117b7",
   "metadata": {},
   "outputs": [
    {
     "name": "stdout",
     "output_type": "stream",
     "text": [
      "Date : 0\n",
      "Open : 0\n",
      "High : 0\n",
      "Low : 0\n",
      "Close : 0\n",
      "Adj Close : 0\n",
      "Volume : 0\n",
      "3MA : 0\n",
      "5MA : 0\n"
     ]
    }
   ],
   "source": [
    "# Volume값 0을 모두 NaN으로 대체\n",
    "\n",
    "raw_df['Volume'] = raw_df['Volume'].replace(0, np.nan)\n",
    "\n",
    "# 각 column의 0 개수 확인\n",
    "for col in raw_df.columns:\n",
    "    missing_rows = raw_df.loc[raw_df[col] == 0].shape[0]\n",
    "    print(col + ' : ' + str(missing_rows))"
   ]
  },
  {
   "cell_type": "code",
   "execution_count": 13,
   "id": "26a567cc",
   "metadata": {},
   "outputs": [
    {
     "data": {
      "text/plain": [
       "Date           0\n",
       "Open           0\n",
       "High           0\n",
       "Low            0\n",
       "Close          0\n",
       "Adj Close      0\n",
       "Volume       127\n",
       "3MA            2\n",
       "5MA            4\n",
       "dtype: int64"
      ]
     },
     "execution_count": 13,
     "metadata": {},
     "output_type": "execute_result"
    }
   ],
   "source": [
    "raw_df.isnull().sum()"
   ]
  },
  {
   "cell_type": "code",
   "execution_count": 14,
   "id": "76d23b3d",
   "metadata": {},
   "outputs": [
    {
     "data": {
      "text/plain": [
       "Date         0\n",
       "Open         0\n",
       "High         0\n",
       "Low          0\n",
       "Close        0\n",
       "Adj Close    0\n",
       "Volume       0\n",
       "3MA          0\n",
       "5MA          0\n",
       "dtype: int64"
      ]
     },
     "execution_count": 14,
     "metadata": {},
     "output_type": "execute_result"
    }
   ],
   "source": [
    "raw_df = raw_df.dropna()\n",
    "\n",
    "raw_df.isnull().sum()"
   ]
  },
  {
   "cell_type": "code",
   "execution_count": 15,
   "id": "64dd4202",
   "metadata": {
    "scrolled": true
   },
   "outputs": [
    {
     "name": "stdout",
     "output_type": "stream",
     "text": [
      "<class 'numpy.ndarray'> \n",
      "\n",
      "          Open      High       Low     Close  Adj Close       3MA       5MA  \\\n",
      "0     0.034868  0.032008  0.036288  0.034440   0.026655  0.025192  0.025698   \n",
      "1     0.037375  0.035517  0.038470  0.034440   0.026655  0.025634  0.025094   \n",
      "2     0.034982  0.031689  0.036518  0.033873   0.026217  0.026163  0.025343   \n",
      "3     0.034868  0.031689  0.036059  0.033760   0.026129  0.025987  0.025503   \n",
      "4     0.036235  0.033177  0.037437  0.035120   0.027181  0.026163  0.026018   \n",
      "...        ...       ...       ...       ...        ...       ...       ...   \n",
      "5708  0.709435  0.675670  0.715204  0.713379   0.747366  0.735875  0.736976   \n",
      "5709  0.725387  0.674607  0.723243  0.715645   0.749714  0.750061  0.742445   \n",
      "5710  0.720830  0.674607  0.722095  0.716778   0.750888  0.754001  0.747439   \n",
      "5711  0.718551  0.673543  0.723243  0.717911   0.752062  0.755577  0.756475   \n",
      "5712  0.729945  0.678860  0.718650  0.706582   0.740322  0.752425  0.756712   \n",
      "\n",
      "        Volume  \n",
      "0     0.285359  \n",
      "1     0.363715  \n",
      "2     0.177799  \n",
      "3     0.250704  \n",
      "4     0.300555  \n",
      "...        ...  \n",
      "5708  0.114196  \n",
      "5709  0.099250  \n",
      "5710  0.091320  \n",
      "5711  0.091745  \n",
      "5712  0.098356  \n",
      "\n",
      "[5713 rows x 8 columns]\n"
     ]
    }
   ],
   "source": [
    "# 딥러닝 학습이 잘되기 위해서는 정규화 작업이 필요\n",
    "# 즉 날짜를 나타내는 Date항목을 제외한 숫자로 표현되는 모든 column에 대해서 0~1값으로 정규화 수행\n",
    "\n",
    "# 데이터 전처리 - 정규화\n",
    "from sklearn.preprocessing import MinMaxScaler\n",
    "\n",
    "scaler = MinMaxScaler()\n",
    "\n",
    "scale_cols = ['Open', 'High', 'Low', 'Close', 'Adj Close', '3MA', '5MA', 'Volume'] # 정규화 대상 column 정의\n",
    "\n",
    "scaled_df = scaler.fit_transform(raw_df[scale_cols]) # 정규화 수행\n",
    "\n",
    "print(type(scaled_df), '\\n') # fin_transform의 return값이 numpy\n",
    "\n",
    "scaled_df = pd.DataFrame(scaled_df, columns = scale_cols) # 정규화된 새로운 DataFrame생성\n",
    "\n",
    "print(scaled_df)"
   ]
  },
  {
   "cell_type": "code",
   "execution_count": 16,
   "id": "9ac0990b",
   "metadata": {},
   "outputs": [
    {
     "name": "stdout",
     "output_type": "stream",
     "text": [
      "           3MA       5MA  Adj Close\n",
      "0     0.025192  0.025698   0.026655\n",
      "1     0.025634  0.025094   0.026655\n",
      "2     0.026163  0.025343   0.026217\n",
      "3     0.025987  0.025503   0.026129\n",
      "4     0.026163  0.026018   0.027181\n",
      "...        ...       ...        ...\n",
      "5708  0.735875  0.736976   0.747366\n",
      "5709  0.750061  0.742445   0.749714\n",
      "5710  0.754001  0.747439   0.750888\n",
      "5711  0.755577  0.756475   0.752062\n",
      "5712  0.752425  0.756712   0.740322\n",
      "\n",
      "[5713 rows x 3 columns]\n",
      "      Adj Close\n",
      "0      0.026655\n",
      "1      0.026655\n",
      "2      0.026217\n",
      "3      0.026129\n",
      "4      0.027181\n",
      "...         ...\n",
      "5708   0.747366\n",
      "5709   0.749714\n",
      "5710   0.750888\n",
      "5711   0.752062\n",
      "5712   0.740322\n",
      "\n",
      "[5713 rows x 1 columns]\n"
     ]
    }
   ],
   "source": [
    "# feature columns / label column 정의\n",
    "\n",
    "# 딥러닝 학습을 위한 입력데이터 feature column, 정답 데이터 label column 정의 후  numpy로 변환하여 데이터 전처리 과정 완료\n",
    "\n",
    "feature_cols = ['3MA', '5MA', 'Adj Close'] # feature 정의(입력 데이터)\n",
    "label_cols = ['Adj Close']                         # label 정의(정답 데이터)\n",
    "\n",
    "label_df = pd.DataFrame(scaled_df, columns = label_cols)\n",
    "feature_df = pd.DataFrame(scaled_df, columns = feature_cols)\n",
    "\n",
    "print(feature_df)\n",
    "print(label_df)\n",
    "\n",
    "label_np = label_df.to_numpy() # 딥러닝 학습을 위해 DataFrame -> numpy 변환\n",
    "feature_np = feature_df.to_numpy()"
   ]
  },
  {
   "cell_type": "markdown",
   "id": "2a5fc4e3",
   "metadata": {},
   "source": [
    "데이터 생성"
   ]
  },
  {
   "cell_type": "code",
   "execution_count": 17,
   "id": "a5648bf6",
   "metadata": {},
   "outputs": [],
   "source": [
    "# 입력 파라미터 feature, label => numpy type\n",
    "\n",
    "def make_sequence_dataset(feature, label, window_size):\n",
    "    \n",
    "    feature_list = [] # 생성될 feature_list\n",
    "    label_list = []     # 생성될 label_list\n",
    "    \n",
    "    for i in range(len(feature) - window_size):\n",
    "        \n",
    "        feature_list.append(feature[i:i+window_size])\n",
    "        label_list.append(label[i+window_size])\n",
    "        \n",
    "    return np.array(feature_list), np.array(label_list)\n",
    "    # feature_list = [[..], [..], [..], ..] 이므로 리턴 값 np.array(feature_list)는 (batch_size, time_steps, input_dims) 형상을 가짐"
   ]
  },
  {
   "cell_type": "code",
   "execution_count": 18,
   "id": "15ca1b9d",
   "metadata": {},
   "outputs": [
    {
     "name": "stdout",
     "output_type": "stream",
     "text": [
      "(5673, 40, 3) (5673, 1)\n"
     ]
    }
   ],
   "source": [
    "# 학습데이터 X, Y 생성\n",
    "\n",
    "window_size = 40\n",
    "\n",
    "X, Y  = make_sequence_dataset(feature_np, label_np, window_size)\n",
    "\n",
    "print(X.shape, Y.shape)"
   ]
  },
  {
   "cell_type": "code",
   "execution_count": 19,
   "id": "5f685088",
   "metadata": {},
   "outputs": [
    {
     "name": "stdout",
     "output_type": "stream",
     "text": [
      "(5473, 40, 3) (5473, 1)\n",
      "(200, 40, 3) (200, 1)\n"
     ]
    }
   ],
   "source": [
    "# 트레이닝 데이터 / 테스트 데이터 분리\n",
    "split = -200\n",
    "\n",
    "x_train = X[0 : split]\n",
    "y_train = Y[0 : split]\n",
    "\n",
    "x_test = X[split:]\n",
    "y_test = Y[split:]\n",
    "\n",
    "print(x_train.shape, y_train.shape)\n",
    "print(x_test.shape, y_test.shape)\n",
    "# train data 5473, test 200"
   ]
  },
  {
   "cell_type": "code",
   "execution_count": 22,
   "id": "17125095",
   "metadata": {},
   "outputs": [
    {
     "name": "stdout",
     "output_type": "stream",
     "text": [
      "Model: \"sequential_1\"\n",
      "_________________________________________________________________\n",
      " Layer (type)                Output Shape              Param #   \n",
      "=================================================================\n",
      " gru_1 (GRU)                 (None, 256)               200448    \n",
      "                                                                 \n",
      " dense_1 (Dense)             (None, 1)                 257       \n",
      "                                                                 \n",
      "=================================================================\n",
      "Total params: 200,705\n",
      "Trainable params: 200,705\n",
      "Non-trainable params: 0\n",
      "_________________________________________________________________\n"
     ]
    }
   ],
   "source": [
    "# GRU 모델 구축\n",
    "\n",
    "model = Sequential()\n",
    "\n",
    "model.add(GRU(256,\n",
    "                             activation='tanh', # LSTM계층에 tanh를 활성화 함수로 가지는 노드 수 256개 \n",
    "                             input_shape=x_train[0].shape)) # input_shape = (40, 3) 40개의 데이터로 미래 값 예측\n",
    "\n",
    "model.add(Dense(1, activation='linear'))\n",
    "\n",
    "model.summary()"
   ]
  },
  {
   "cell_type": "code",
   "execution_count": 23,
   "id": "7e222370",
   "metadata": {},
   "outputs": [
    {
     "name": "stdout",
     "output_type": "stream",
     "text": [
      "Epoch 1/100\n",
      "343/343 [==============================] - 32s 76ms/step - loss: 7.8681e-04 - mae: 0.0102 - val_loss: 3.7752e-04 - val_mae: 0.0166\n",
      "Epoch 2/100\n",
      "343/343 [==============================] - 24s 71ms/step - loss: 8.3782e-05 - mae: 0.0059 - val_loss: 2.4243e-04 - val_mae: 0.0122\n",
      "Epoch 3/100\n",
      "343/343 [==============================] - 24s 71ms/step - loss: 7.4337e-05 - mae: 0.0055 - val_loss: 1.4461e-04 - val_mae: 0.0096\n",
      "Epoch 4/100\n",
      "343/343 [==============================] - 24s 70ms/step - loss: 6.7309e-05 - mae: 0.0054 - val_loss: 1.6288e-04 - val_mae: 0.0100\n",
      "Epoch 5/100\n",
      "343/343 [==============================] - 24s 71ms/step - loss: 7.8280e-05 - mae: 0.0058 - val_loss: 1.2912e-04 - val_mae: 0.0092\n",
      "Epoch 6/100\n",
      "343/343 [==============================] - 24s 70ms/step - loss: 6.1197e-05 - mae: 0.0052 - val_loss: 1.4762e-04 - val_mae: 0.0095\n",
      "Epoch 7/100\n",
      "343/343 [==============================] - 24s 71ms/step - loss: 4.9695e-05 - mae: 0.0046 - val_loss: 1.5326e-04 - val_mae: 0.0103\n",
      "Epoch 8/100\n",
      "343/343 [==============================] - 24s 71ms/step - loss: 5.1108e-05 - mae: 0.0047 - val_loss: 1.9871e-04 - val_mae: 0.0119\n",
      "Epoch 9/100\n",
      "343/343 [==============================] - 24s 71ms/step - loss: 5.0284e-05 - mae: 0.0048 - val_loss: 3.2119e-04 - val_mae: 0.0148\n",
      "Epoch 10/100\n",
      "343/343 [==============================] - 24s 71ms/step - loss: 4.8130e-05 - mae: 0.0045 - val_loss: 2.3097e-04 - val_mae: 0.0120\n"
     ]
    },
    {
     "data": {
      "text/plain": [
       "<keras.callbacks.History at 0x26ed71d7460>"
      ]
     },
     "execution_count": 23,
     "metadata": {},
     "output_type": "execute_result"
    }
   ],
   "source": [
    "# 모델 컴파일 및 학습\n",
    "\n",
    "from tensorflow.keras.callbacks import EarlyStopping\n",
    "\n",
    "model.compile(loss='mse', optimizer='adam', metrics=['mae'])\n",
    "\n",
    "early_stop = EarlyStopping(monitor='val_loss', patience=5)\n",
    "\n",
    "model.fit(x_train, y_train, validation_data=(x_test, y_test), epochs=100, batch_size=16, callbacks=[early_stop])"
   ]
  },
  {
   "cell_type": "code",
   "execution_count": 24,
   "id": "1a52a2a9",
   "metadata": {},
   "outputs": [
    {
     "name": "stdout",
     "output_type": "stream",
     "text": [
      "7/7 [==============================] - 1s 40ms/step\n"
     ]
    },
    {
     "data": {
      "image/png": "[encoded data removed]",
      "text/plain": [
       "<Figure size 864x432 with 1 Axes>"
      ]
     },
     "metadata": {
      "needs_background": "light"
     },
     "output_type": "display_data"
    }
   ],
   "source": [
    "# 삼성전자 주가 예측\n",
    "\n",
    "pred = model.predict(x_test)\n",
    "\n",
    "plt.figure(figsize=(12, 6))\n",
    "plt.title('3MA+5MA+ Adj Close, window_size=40')\n",
    "plt.ylabel('adj close')\n",
    "plt.xlabel('period')\n",
    "plt.plot(y_test, label='actual')\n",
    "plt.plot(pred, label='prediction')\n",
    "plt.grid()\n",
    "plt.legend(loc='best')\n",
    "\n",
    "plt.show()"
   ]
  },
  {
   "cell_type": "code",
   "execution_count": null,
   "id": "6c27c546",
   "metadata": {},
   "outputs": [],
   "source": []
  }
 ],
 "metadata": {
  "kernelspec": {
   "display_name": "Python 3 (ipykernel)",
   "language": "python",
   "name": "python3"
  },
  "language_info": {
   "codemirror_mode": {
    "name": "ipython",
    "version": 3
   },
   "file_extension": ".py",
   "mimetype": "text/x-python",
   "name": "python",
   "nbconvert_exporter": "python",
   "pygments_lexer": "ipython3",
   "version": "3.9.12"
  }
 },
 "nbformat": 4,
 "nbformat_minor": 5
}
