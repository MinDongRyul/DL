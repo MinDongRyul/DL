{
 "cells": [
  {
   "cell_type": "code",
   "execution_count": 7,
   "id": "25056dd0",
   "metadata": {},
   "outputs": [],
   "source": [
    "import matplotlib.pyplot as plt\n",
    "import numpy as np\n",
    "import os\n",
    "import os.path as osp"
   ]
  },
  {
   "cell_type": "code",
   "execution_count": 11,
   "id": "15c20ca8",
   "metadata": {},
   "outputs": [],
   "source": [
    "import zipfile\n",
    "\n",
    "# 폴더 생성\n",
    "original_base_dir = '/Users/민동률/DL/data/datasets'\n",
    "os.mkdir(original_base_dir)\n",
    "\n",
    "# 압축 해제\n",
    "dataset_zip = zipfile.ZipFile('/Users/민동률/DL/data/test1.zip')\n",
    "dataset_zip.extractall(original_base_dir)\n",
    "dataset_zip.close()\n",
    "\n",
    "dataset_zip = zipfile.ZipFile('/Users/민동률/DL/data/train.zip')\n",
    "dataset_zip.extractall(original_base_dir)\n",
    "dataset_zip.close()"
   ]
  },
  {
   "cell_type": "code",
   "execution_count": 12,
   "id": "fe98f8a8",
   "metadata": {},
   "outputs": [],
   "source": [
    "import shutil\n",
    "\n",
    "# 폴더 생성\n",
    "original_dataset_dir = '/Users/민동률/DL/data/datasets/train'\n",
    "base_dir = '/Users/민동률/DL/data/datasets_small'\n",
    "os.mkdir(base_dir)\n",
    "\n",
    "train_dir = osp.join(base_dir, 'train')\n",
    "os.mkdir(train_dir)\n",
    "val_dir = osp.join(base_dir, 'val')\n",
    "os.mkdir(val_dir)\n",
    "test_dir = osp.join(base_dir, 'test')\n",
    "os.mkdir(test_dir)\n",
    "\n",
    "train_cats_dir = osp.join(train_dir, 'cats')\n",
    "os.mkdir(train_cats_dir)\n",
    "train_dogs_dir = osp.join(train_dir, 'dogs')\n",
    "os.mkdir(train_dogs_dir)\n",
    "\n",
    "val_cats_dir = osp.join(val_dir, 'cats')\n",
    "os.mkdir(val_cats_dir)\n",
    "val_dogs_dir = osp.join(val_dir, 'dogs')\n",
    "os.mkdir(val_dogs_dir)\n",
    "\n",
    "test_cats_dir = osp.join(test_dir, 'cats')\n",
    "os.mkdir(test_cats_dir)\n",
    "test_dogs_dir = osp.join(test_dir, 'dogs')\n",
    "os.mkdir(test_dogs_dir)"
   ]
  },
  {
   "cell_type": "code",
   "execution_count": 14,
   "id": "01b0a591",
   "metadata": {},
   "outputs": [],
   "source": [
    "# 고양이 학습 데이터 1000\n",
    "fnames = ['cat.{}.jpg'.format(i) for i in range(1000)]\n",
    "for fname in fnames :\n",
    "    src = osp.join(original_dataset_dir, fname)\n",
    "    dst = osp.join(train_cats_dir, fname)\n",
    "    shutil.copyfile(src, dst)\n",
    "\n",
    "# 검증 데이터 500 \n",
    "fnames = ['cat.{}.jpg'.format(i) for i in range(1000, 1500)]\n",
    "for fname in fnames :\n",
    "    src = osp.join(original_dataset_dir, fname)\n",
    "    dst = osp.join(val_cats_dir, fname)\n",
    "    shutil.copyfile(src, dst)\n",
    "\n",
    "# 테스트 데이터 500 \n",
    "fnames = ['cat.{}.jpg'.format(i) for i in range(1500, 2000)]\n",
    "for fname in fnames :\n",
    "    src = osp.join(original_dataset_dir, fname)\n",
    "    dst = osp.join(test_cats_dir, fname)\n",
    "    shutil.copyfile(src, dst)"
   ]
  },
  {
   "cell_type": "code",
   "execution_count": 18,
   "id": "76b5eb21",
   "metadata": {},
   "outputs": [],
   "source": [
    "# 강아지 학습 데이터 1000\n",
    "fnames = ['dog.{}.jpg'.format(i) for i in range(1000)]\n",
    "for idx, fname in enumerate(fnames) :\n",
    "    src = osp.join(original_dataset_dir, f'dog.{idx}.jpg')\n",
    "    dst = osp.join(train_dogs_dir, fname)\n",
    "    shutil.copyfile(src, dst)\n",
    "\n",
    "# 검증 데이터 500\n",
    "fnames = ['dog.{}.jpg'.format(i) for i in range(1000, 1500)]\n",
    "for fname in fnames :\n",
    "    src = osp.join(original_dataset_dir, fname)\n",
    "    dst = osp.join(val_dogs_dir, fname)\n",
    "    shutil.copyfile(src, dst)\n",
    "\n",
    "# 테스트 데이터 500 \n",
    "fnames = ['dog.{}.jpg'.format(i) for i in range(1500, 2000)]\n",
    "for fname in fnames :\n",
    "    src = osp.join(original_dataset_dir, fname)\n",
    "    dst = osp.join(test_dogs_dir, fname)\n",
    "    shutil.copyfile(src, dst)"
   ]
  },
  {
   "cell_type": "code",
   "execution_count": 19,
   "id": "db50ec1e",
   "metadata": {},
   "outputs": [
    {
     "name": "stdout",
     "output_type": "stream",
     "text": [
      "고양이 데이터셋\n",
      "train : 1000\n",
      "test : 500\n",
      "val : 500\n",
      "\n",
      "강아지 데이터셋\n",
      "train : 1000\n",
      "test : 500\n",
      "val : 500\n"
     ]
    }
   ],
   "source": [
    "# 분할된 데이터의 수 출력\n",
    "print(\"고양이 데이터셋\")\n",
    "print(\"train :\", len(os.listdir(train_cats_dir)))\n",
    "print(\"test :\", len(os.listdir(test_cats_dir)))\n",
    "print(\"val :\", len(os.listdir(val_cats_dir)))\n",
    "print()\n",
    "print(\"강아지 데이터셋\")\n",
    "print(\"train :\", len(os.listdir(train_dogs_dir)))\n",
    "print(\"test :\", len(os.listdir(test_dogs_dir)))\n",
    "print(\"val :\", len(os.listdir(val_dogs_dir)))"
   ]
  },
  {
   "cell_type": "markdown",
   "id": "cfb0f00a",
   "metadata": {},
   "source": [
    "### 1. 네트워크 구축하기\n",
    "      - (Conv2D + Maxpooling2D)3 + Conv2D + Dense2 입력크기 : 150 x 150"
   ]
  },
  {
   "cell_type": "code",
   "execution_count": 26,
   "id": "c7f46d11",
   "metadata": {},
   "outputs": [],
   "source": [
    "from keras import layers, models\n",
    "\n",
    "model = models.Sequential()\n",
    "model.add(layers.Conv2D(32, (3,3), activation='relu', input_shape=(150, 150, 3))) \n",
    "# Conv2D : 이미지이기에\n",
    "# 필터 : 32\n",
    "# kernel size : 3\n",
    "# activation : 활성화함수\n",
    "# input_shape : 150, 150, 3(너비, 높이, 채널(여기서는 컬러이기에 3))\n",
    "# (3, 3) -> kernel_size ([3, 3] or 3, (3,3) 가능)\n",
    "model.add(layers.MaxPooling2D((2,2))) # 2x2로 pooling\n",
    "model.add(layers.Conv2D(64, (3,3), activation='relu'))\n",
    "model.add(layers.MaxPooling2D(2,2))\n",
    "model.add(layers.Conv2D(128, (3,3), activation='relu'))\n",
    "model.add(layers.MaxPooling2D(2,2))\n",
    "model.add(layers.Conv2D(128, (3,3), activation='relu'))\n",
    "model.add(layers.MaxPooling2D(2,2))\n",
    "model.add(layers.Flatten()) # 1차원 벡터로 나열하기 위함\n",
    "model.add(layers.Dense(512, activation='relu'))\n",
    "model.add(layers.Dense(1, activation='sigmoid'))"
   ]
  },
  {
   "cell_type": "code",
   "execution_count": 27,
   "id": "a938bfba",
   "metadata": {
    "scrolled": false
   },
   "outputs": [
    {
     "name": "stdout",
     "output_type": "stream",
     "text": [
      "Model: \"sequential\"\n",
      "_________________________________________________________________\n",
      " Layer (type)                Output Shape              Param #   \n",
      "=================================================================\n",
      " conv2d (Conv2D)             (None, 148, 148, 32)      896       \n",
      "                                                                 \n",
      " max_pooling2d (MaxPooling2D  (None, 74, 74, 32)       0         \n",
      " )                                                               \n",
      "                                                                 \n",
      " conv2d_1 (Conv2D)           (None, 72, 72, 64)        18496     \n",
      "                                                                 \n",
      " max_pooling2d_1 (MaxPooling  (None, 36, 36, 64)       0         \n",
      " 2D)                                                             \n",
      "                                                                 \n",
      " conv2d_2 (Conv2D)           (None, 34, 34, 128)       73856     \n",
      "                                                                 \n",
      " max_pooling2d_2 (MaxPooling  (None, 17, 17, 128)      0         \n",
      " 2D)                                                             \n",
      "                                                                 \n",
      " conv2d_3 (Conv2D)           (None, 15, 15, 128)       147584    \n",
      "                                                                 \n",
      " max_pooling2d_3 (MaxPooling  (None, 7, 7, 128)        0         \n",
      " 2D)                                                             \n",
      "                                                                 \n",
      " flatten (Flatten)           (None, 6272)              0         \n",
      "                                                                 \n",
      " dense (Dense)               (None, 512)               3211776   \n",
      "                                                                 \n",
      " dense_1 (Dense)             (None, 1)                 513       \n",
      "                                                                 \n",
      "=================================================================\n",
      "Total params: 3,453,121\n",
      "Trainable params: 3,453,121\n",
      "Non-trainable params: 0\n",
      "_________________________________________________________________\n"
     ]
    }
   ],
   "source": [
    "model.summary()"
   ]
  },
  {
   "cell_type": "code",
   "execution_count": 28,
   "id": "5a3ede7a",
   "metadata": {},
   "outputs": [
    {
     "name": "stderr",
     "output_type": "stream",
     "text": [
      "WARNING:absl:`lr` is deprecated in Keras optimizer, please use `learning_rate` or use the legacy optimizer, e.g.,tf.keras.optimizers.legacy.RMSprop.\n"
     ]
    }
   ],
   "source": [
    "# 모델의 훈련 설정하기\n",
    "from tensorflow.keras import optimizers\n",
    "\n",
    "model.compile(optimizer=optimizers.RMSprop(lr=1e-4), # lr : learnint rate 설정\n",
    "              loss='binary_crossentropy',\n",
    "              metrics=['accuracy'])# 최적화, 손실함수, 성능평가지표"
   ]
  },
  {
   "cell_type": "markdown",
   "id": "523529eb",
   "metadata": {},
   "source": [
    "### 데이터 전처리 \n",
    "    1. 사진 파일 읽기\n",
    "    2. JEPG 콘텐츠를 RGB픽셀 값으로 디코딩\n",
    "    3. 부동 소수 타입의 텐서로 변환\n",
    "    4. 픽셀 값 (0~255)의 스케일을 [0,1]로 조정\n",
    "\n",
    "keras.preprocessing.image 라이브러리 사용\n",
    "- ImageDataGenerator 클래스 : 디스크에 있는 이미지 파일을 전처리된 배치 텐서로 자동으로 바꿔주는 파이썬 generator을 만들어줌\n",
    "\n",
    "cf. 파이썬 generator 반복자(iterator)처럼 작동하는 객체로 for .. in 연산자에 사용할 수 있다."
   ]
  },
  {
   "cell_type": "code",
   "execution_count": 29,
   "id": "a25b76c6",
   "metadata": {},
   "outputs": [
    {
     "name": "stdout",
     "output_type": "stream",
     "text": [
      "Found 2000 images belonging to 2 classes.\n",
      "Found 1000 images belonging to 2 classes.\n"
     ]
    }
   ],
   "source": [
    "# ImageDataGenerator를 사용하여 디렉토리에서 이미지 읽기\n",
    "from keras.preprocessing.image import ImageDataGenerator\n",
    "\n",
    "train_datagen = ImageDataGenerator(rescale=1./255) # -> 픽셀 값(0~255)의 스케일을 [0, 1]로 조정\n",
    "test_datagen = ImageDataGenerator(rescale=1./255)\n",
    "\n",
    "train_generator = train_datagen.flow_from_directory(\n",
    "    train_dir, # 타겟 디렉토리\n",
    "    target_size=(150,150),\n",
    "    batch_size=20,\n",
    "    class_mode='binary'\n",
    ")\n",
    "\n",
    "val_generator = test_datagen.flow_from_directory(\n",
    "    val_dir,\n",
    "    target_size=(150, 150),\n",
    "    batch_size=20,\n",
    "    class_mode='binary'\n",
    ")"
   ]
  },
  {
   "cell_type": "markdown",
   "id": "52f5979e",
   "metadata": {},
   "source": [
    "150x150 이미지 x 20개(batch_size) = 하나의 미니배치 → 크기 : (20,150,150,3)\n",
    "\n",
    "이진 레이블 배치 → 크기 : (20,)"
   ]
  },
  {
   "cell_type": "code",
   "execution_count": 30,
   "id": "bcd38188",
   "metadata": {},
   "outputs": [
    {
     "name": "stdout",
     "output_type": "stream",
     "text": [
      "(20, 150, 150, 3)\n",
      "(20,)\n"
     ]
    }
   ],
   "source": [
    "# generator가 생성하는 훈련 데이터와 레이블의 미니배치 크기 확인하기\n",
    "for data_batch, labels_batch in train_generator :\n",
    "    print(data_batch.shape) # 배치 높이 너비 channel\n",
    "    print(labels_batch.shape)\n",
    "    break"
   ]
  },
  {
   "cell_type": "markdown",
   "id": "7685e414",
   "metadata": {},
   "source": [
    "##### fit_generator(지금은 fit 사용을 추천)\n",
    "fit_generator(generator, steps_per_epoch=None, epochs=1, verbose=1, callbacks=None, validation_data=None, validation_steps=None, class_weight=None, max_queue_size=10, workers=1, use_multiprocessing=False, shuffle=True, initial_epoch=0)\n",
    "\n",
    "- generator : 입력과 타겟의 배치를 끝없이 반환하는 파이썬 제너레이터를 첫번째 변수로 입력\n",
    "- steps_per_epoch :\n",
    "하나의 에포크를 정의하기 위해 제너레이터로부터 얼마나 많은 샘플을 뽑을 것인지 지정\n",
    "steps_per_epoch 갯수만큼 generator로부터 미니배치를 뽑은 다음 steps_per_epoch 횟수만큼 경사 하강법 단계를 실행한 후 다음 에포크로 넘어감\n",
    "여기서는 20개의 샘플이 하나의 미니 배치이고 전체 2000개의 샘플이 있으므로 steps_per_epoch를 100으로 지정\n",
    "- validation_data :\n",
    "데이터 제너레이터 혹은 넘파이 배열의 튜플\n",
    "데이터 제너레이터를 사용하는 경우 검증 데이터의 배치를 끝없이 반환하므로 얼마나 많은 배치를 추출하여 평가할지 validation_steps 변수에 지정\n",
    "\n",
    "##### Q. 기존에는 fit(x,y, batch_size, epoch)만을 지정해주었다. 즉 generator를 사용하지는 않았는데 이번에 사용하는 이유가 뭘까?\n",
    "A. 데이터 전체를 로딩해줄 필요 없이 그때그때 필요한 배치 사이즈 만큼의 데이터만 불러들이기 위해서 generator를 사용한다.\n",
    "\n",
    "##### Q. steps_per_epoch/epoch이 헷갈린다.\n",
    "A. 기존에는 ImageDateGenerator 없이 전체 훈련데이터를 메모리에 올려놓고 배치 사이즈만 지정해서 끌어와썼다. 전체 훈련데이터의 샘플 수를 알기 때문에 한 epoch당 미니 배치를 몇번 추출해야하는지 알 수 있었다.\n",
    "예를 들어 MNIST 데이터셋은 훈련 데이터가 60000개 있고 배치 사이즈를 64개로 지정할 경우 6000//64개를 한 epoch으로 정의하면 되었다.\n",
    "\n",
    "그런데 전체 훈련 데이터가 너무 클 경우에는 ImageDataGenerator는 사용해야한다. ImageDataGenerator는 지정한 크기의 미니배치를 끝없이/랜덤으로 반환한다. (바로 위의 셀에 break를 제거하고 수행해보면 알 수 있다.) 따라서 한 epoch을 몇 번의 미니배치로 정의할 것인가가 중요하고 이를 steps_per_epoch라는 변수에 지정해준다. Cats&Dogs 예제와 같이 (전체 데이터셋 샘플 수/미니 배치 수)로 계산하는 것이 일반적인 것 같다.\n",
    "\n",
    "iteration/epoch/batch_size 개념이 헷갈린다면 https://losskatsu.github.io/machine-learning/epoch-batch/#2-batch-size%EC%9D%98-%EC%9D%98%EB%AF%B8 를 보자."
   ]
  },
  {
   "cell_type": "code",
   "execution_count": 32,
   "id": "75b37949",
   "metadata": {
    "scrolled": true
   },
   "outputs": [
    {
     "name": "stdout",
     "output_type": "stream",
     "text": [
      "Epoch 1/30\n",
      "100/100 [==============================] - 45s 452ms/step - loss: 0.6929 - accuracy: 0.5305 - val_loss: 0.6974 - val_accuracy: 0.5000\n",
      "Epoch 2/30\n",
      "100/100 [==============================] - 38s 383ms/step - loss: 0.6837 - accuracy: 0.5735 - val_loss: 0.6791 - val_accuracy: 0.5210\n",
      "Epoch 3/30\n",
      "100/100 [==============================] - 39s 389ms/step - loss: 0.6386 - accuracy: 0.6485 - val_loss: 0.5985 - val_accuracy: 0.6700\n",
      "Epoch 4/30\n",
      "100/100 [==============================] - 39s 392ms/step - loss: 0.5851 - accuracy: 0.6880 - val_loss: 0.5849 - val_accuracy: 0.6810\n",
      "Epoch 5/30\n",
      "100/100 [==============================] - 39s 389ms/step - loss: 0.5367 - accuracy: 0.7360 - val_loss: 0.5653 - val_accuracy: 0.7060\n",
      "Epoch 6/30\n",
      "100/100 [==============================] - 38s 381ms/step - loss: 0.4759 - accuracy: 0.7650 - val_loss: 0.5889 - val_accuracy: 0.7050\n",
      "Epoch 7/30\n",
      "100/100 [==============================] - 38s 383ms/step - loss: 0.4378 - accuracy: 0.7920 - val_loss: 0.5450 - val_accuracy: 0.7420\n",
      "Epoch 8/30\n",
      "100/100 [==============================] - 39s 385ms/step - loss: 0.3595 - accuracy: 0.8355 - val_loss: 0.6061 - val_accuracy: 0.7180\n",
      "Epoch 9/30\n",
      "100/100 [==============================] - 39s 393ms/step - loss: 0.3075 - accuracy: 0.8720 - val_loss: 0.6346 - val_accuracy: 0.7420\n",
      "Epoch 10/30\n",
      "100/100 [==============================] - 39s 385ms/step - loss: 0.2245 - accuracy: 0.9105 - val_loss: 0.7728 - val_accuracy: 0.7140\n",
      "Epoch 11/30\n",
      "100/100 [==============================] - 39s 387ms/step - loss: 0.1636 - accuracy: 0.9365 - val_loss: 0.8190 - val_accuracy: 0.7220\n",
      "Epoch 12/30\n",
      "100/100 [==============================] - 39s 386ms/step - loss: 0.1172 - accuracy: 0.9575 - val_loss: 1.4188 - val_accuracy: 0.6890\n",
      "Epoch 13/30\n",
      "100/100 [==============================] - 38s 384ms/step - loss: 0.0869 - accuracy: 0.9695 - val_loss: 1.3403 - val_accuracy: 0.7170\n",
      "Epoch 14/30\n",
      "100/100 [==============================] - 40s 398ms/step - loss: 0.0836 - accuracy: 0.9750 - val_loss: 1.3951 - val_accuracy: 0.7490\n",
      "Epoch 15/30\n",
      "100/100 [==============================] - 39s 390ms/step - loss: 0.0601 - accuracy: 0.9790 - val_loss: 1.2515 - val_accuracy: 0.7270\n",
      "Epoch 16/30\n",
      "100/100 [==============================] - 39s 393ms/step - loss: 0.0509 - accuracy: 0.9855 - val_loss: 2.5228 - val_accuracy: 0.6730\n",
      "Epoch 17/30\n",
      "100/100 [==============================] - 39s 388ms/step - loss: 0.1051 - accuracy: 0.9790 - val_loss: 1.5992 - val_accuracy: 0.7190\n",
      "Epoch 18/30\n",
      "100/100 [==============================] - 39s 391ms/step - loss: 0.0247 - accuracy: 0.9930 - val_loss: 1.9146 - val_accuracy: 0.7160\n",
      "Epoch 19/30\n",
      "100/100 [==============================] - 39s 385ms/step - loss: 0.0471 - accuracy: 0.9920 - val_loss: 2.1198 - val_accuracy: 0.7210\n",
      "Epoch 20/30\n",
      "100/100 [==============================] - 39s 391ms/step - loss: 0.0181 - accuracy: 0.9940 - val_loss: 2.2108 - val_accuracy: 0.7260\n",
      "Epoch 21/30\n",
      "100/100 [==============================] - 39s 392ms/step - loss: 0.0680 - accuracy: 0.9835 - val_loss: 2.0782 - val_accuracy: 0.7170\n",
      "Epoch 22/30\n",
      "100/100 [==============================] - 39s 389ms/step - loss: 0.0361 - accuracy: 0.9915 - val_loss: 2.0889 - val_accuracy: 0.7460\n",
      "Epoch 23/30\n",
      "100/100 [==============================] - 39s 392ms/step - loss: 0.0467 - accuracy: 0.9895 - val_loss: 2.9802 - val_accuracy: 0.6930\n",
      "Epoch 24/30\n",
      "100/100 [==============================] - 39s 388ms/step - loss: 0.0435 - accuracy: 0.9850 - val_loss: 2.5018 - val_accuracy: 0.7240\n",
      "Epoch 25/30\n",
      "100/100 [==============================] - 38s 382ms/step - loss: 0.0269 - accuracy: 0.9925 - val_loss: 2.8599 - val_accuracy: 0.7030\n",
      "Epoch 26/30\n",
      "100/100 [==============================] - 40s 399ms/step - loss: 0.0672 - accuracy: 0.9880 - val_loss: 2.7587 - val_accuracy: 0.7140\n",
      "Epoch 27/30\n",
      "100/100 [==============================] - 38s 379ms/step - loss: 0.0288 - accuracy: 0.9910 - val_loss: 3.0397 - val_accuracy: 0.7060\n",
      "Epoch 28/30\n",
      "100/100 [==============================] - 39s 387ms/step - loss: 9.4040e-04 - accuracy: 1.0000 - val_loss: 3.3557 - val_accuracy: 0.7300\n",
      "Epoch 29/30\n",
      "100/100 [==============================] - 40s 403ms/step - loss: 0.0177 - accuracy: 0.9945 - val_loss: 3.6683 - val_accuracy: 0.7180\n",
      "Epoch 30/30\n",
      "100/100 [==============================] - 39s 390ms/step - loss: 0.0232 - accuracy: 0.9930 - val_loss: 3.2449 - val_accuracy: 0.7160\n"
     ]
    }
   ],
   "source": [
    "# 배치 제너레이터를 사용하여 모델 훈련하기\n",
    "history = model.fit(\n",
    "    train_generator, \n",
    "    steps_per_epoch=100,\n",
    "    epochs=30, \n",
    "    validation_data= val_generator,\n",
    "    validation_steps=50)"
   ]
  },
  {
   "cell_type": "code",
   "execution_count": null,
   "id": "45407d51",
   "metadata": {},
   "outputs": [],
   "source": [
    "# 모델 저장하기\n",
    "model.save('./cats_and_dogs_small_1.h5')"
   ]
  },
  {
   "cell_type": "code",
   "execution_count": 33,
   "id": "b8ed68ed",
   "metadata": {},
   "outputs": [
    {
     "data": {
      "image/png": "[encoded data removed]",
      "text/plain": [
       "<Figure size 640x480 with 1 Axes>"
      ]
     },
     "metadata": {},
     "output_type": "display_data"
    },
    {
     "data": {
      "image/png": "[encoded data removed]",
      "text/plain": [
       "<Figure size 640x480 with 1 Axes>"
      ]
     },
     "metadata": {},
     "output_type": "display_data"
    }
   ],
   "source": [
    "# 훈련의 정확도와 손실 그래프 그리기\n",
    "import matplotlib.pyplot as plt\n",
    "import numpy as np\n",
    "\n",
    "def history_plot(history_dict):\n",
    "    acc = history_dict['accuracy']\n",
    "    val_acc = history_dict['val_accuracy']\n",
    "    loss = history_dict['loss']\n",
    "    val_loss = history_dict['val_loss']\n",
    "\n",
    "    epochs = np.arange(1, len(acc)+1)\n",
    "    plt.plot(epochs, acc,'bo', label='train')\n",
    "    plt.plot(epochs, val_acc, label='val')\n",
    "    plt.title('Accuracy')\n",
    "    plt.legend()\n",
    "    plt.show()\n",
    "\n",
    "    plt.plot(epochs, loss, 'bo', label='train')\n",
    "    plt.plot(epochs, val_loss, label='val')\n",
    "    plt.title('Loss')\n",
    "    plt.legend()\n",
    "    plt.show()\n",
    "\n",
    "history_plot(history.history)"
   ]
  },
  {
   "cell_type": "markdown",
   "id": "5386b546",
   "metadata": {},
   "source": [
    "### 2"
   ]
  }
 ],
 "metadata": {
  "kernelspec": {
   "display_name": "Python 3 (ipykernel)",
   "language": "python",
   "name": "python3"
  },
  "language_info": {
   "codemirror_mode": {
    "name": "ipython",
    "version": 3
   },
   "file_extension": ".py",
   "mimetype": "text/x-python",
   "name": "python",
   "nbconvert_exporter": "python",
   "pygments_lexer": "ipython3",
   "version": "3.8.17"
  }
 },
 "nbformat": 4,
 "nbformat_minor": 5
}
