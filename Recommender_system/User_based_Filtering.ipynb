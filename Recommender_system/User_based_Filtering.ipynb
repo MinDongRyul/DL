{
 "cells": [
  {
   "cell_type": "markdown",
   "id": "7393788c",
   "metadata": {},
   "source": [
    "## Ref\n",
    "- https://velog.io/@ie8907/%EC%B6%94%EC%B2%9C-%EC%8B%9C%EC%8A%A4%ED%85%9C-Recommender-System"
   ]
  },
  {
   "cell_type": "code",
   "execution_count": 15,
   "id": "7fd0341d",
   "metadata": {},
   "outputs": [],
   "source": [
    "from collections import defaultdict\n",
    "from tqdm import tqdm"
   ]
  },
  {
   "cell_type": "code",
   "execution_count": 1,
   "id": "40bd7b7f",
   "metadata": {},
   "outputs": [],
   "source": [
    "import pandas as pd\n",
    "import numpy as np\n",
    "\n",
    "movies_df = pd.read_csv('./ml-32m/movies.csv')\n",
    "ratings_df = pd.read_csv('./ml-32m/ratings.csv')"
   ]
  },
  {
   "cell_type": "code",
   "execution_count": 2,
   "id": "53f6835f",
   "metadata": {},
   "outputs": [
    {
     "data": {
      "text/html": [
       "<div>\n",
       "<style scoped>\n",
       "    .dataframe tbody tr th:only-of-type {\n",
       "        vertical-align: middle;\n",
       "    }\n",
       "\n",
       "    .dataframe tbody tr th {\n",
       "        vertical-align: top;\n",
       "    }\n",
       "\n",
       "    .dataframe thead th {\n",
       "        text-align: right;\n",
       "    }\n",
       "</style>\n",
       "<table border=\"1\" class=\"dataframe\">\n",
       "  <thead>\n",
       "    <tr style=\"text-align: right;\">\n",
       "      <th></th>\n",
       "      <th>movieId</th>\n",
       "      <th>title</th>\n",
       "      <th>genres</th>\n",
       "    </tr>\n",
       "  </thead>\n",
       "  <tbody>\n",
       "    <tr>\n",
       "      <th>0</th>\n",
       "      <td>1</td>\n",
       "      <td>Toy Story (1995)</td>\n",
       "      <td>Adventure|Animation|Children|Comedy|Fantasy</td>\n",
       "    </tr>\n",
       "    <tr>\n",
       "      <th>1</th>\n",
       "      <td>2</td>\n",
       "      <td>Jumanji (1995)</td>\n",
       "      <td>Adventure|Children|Fantasy</td>\n",
       "    </tr>\n",
       "    <tr>\n",
       "      <th>2</th>\n",
       "      <td>3</td>\n",
       "      <td>Grumpier Old Men (1995)</td>\n",
       "      <td>Comedy|Romance</td>\n",
       "    </tr>\n",
       "    <tr>\n",
       "      <th>3</th>\n",
       "      <td>4</td>\n",
       "      <td>Waiting to Exhale (1995)</td>\n",
       "      <td>Comedy|Drama|Romance</td>\n",
       "    </tr>\n",
       "    <tr>\n",
       "      <th>4</th>\n",
       "      <td>5</td>\n",
       "      <td>Father of the Bride Part II (1995)</td>\n",
       "      <td>Comedy</td>\n",
       "    </tr>\n",
       "  </tbody>\n",
       "</table>\n",
       "</div>"
      ],
      "text/plain": [
       "   movieId                               title   \n",
       "0        1                    Toy Story (1995)  \\\n",
       "1        2                      Jumanji (1995)   \n",
       "2        3             Grumpier Old Men (1995)   \n",
       "3        4            Waiting to Exhale (1995)   \n",
       "4        5  Father of the Bride Part II (1995)   \n",
       "\n",
       "                                        genres  \n",
       "0  Adventure|Animation|Children|Comedy|Fantasy  \n",
       "1                   Adventure|Children|Fantasy  \n",
       "2                               Comedy|Romance  \n",
       "3                         Comedy|Drama|Romance  \n",
       "4                                       Comedy  "
      ]
     },
     "execution_count": 2,
     "metadata": {},
     "output_type": "execute_result"
    }
   ],
   "source": [
    "movies_df.head()"
   ]
  },
  {
   "cell_type": "code",
   "execution_count": 3,
   "id": "7867f31c",
   "metadata": {},
   "outputs": [
    {
     "data": {
      "text/html": [
       "<div>\n",
       "<style scoped>\n",
       "    .dataframe tbody tr th:only-of-type {\n",
       "        vertical-align: middle;\n",
       "    }\n",
       "\n",
       "    .dataframe tbody tr th {\n",
       "        vertical-align: top;\n",
       "    }\n",
       "\n",
       "    .dataframe thead th {\n",
       "        text-align: right;\n",
       "    }\n",
       "</style>\n",
       "<table border=\"1\" class=\"dataframe\">\n",
       "  <thead>\n",
       "    <tr style=\"text-align: right;\">\n",
       "      <th></th>\n",
       "      <th>userId</th>\n",
       "      <th>movieId</th>\n",
       "      <th>rating</th>\n",
       "      <th>timestamp</th>\n",
       "    </tr>\n",
       "  </thead>\n",
       "  <tbody>\n",
       "    <tr>\n",
       "      <th>0</th>\n",
       "      <td>1</td>\n",
       "      <td>17</td>\n",
       "      <td>4.0</td>\n",
       "      <td>944249077</td>\n",
       "    </tr>\n",
       "    <tr>\n",
       "      <th>1</th>\n",
       "      <td>1</td>\n",
       "      <td>25</td>\n",
       "      <td>1.0</td>\n",
       "      <td>944250228</td>\n",
       "    </tr>\n",
       "    <tr>\n",
       "      <th>2</th>\n",
       "      <td>1</td>\n",
       "      <td>29</td>\n",
       "      <td>2.0</td>\n",
       "      <td>943230976</td>\n",
       "    </tr>\n",
       "    <tr>\n",
       "      <th>3</th>\n",
       "      <td>1</td>\n",
       "      <td>30</td>\n",
       "      <td>5.0</td>\n",
       "      <td>944249077</td>\n",
       "    </tr>\n",
       "    <tr>\n",
       "      <th>4</th>\n",
       "      <td>1</td>\n",
       "      <td>32</td>\n",
       "      <td>5.0</td>\n",
       "      <td>943228858</td>\n",
       "    </tr>\n",
       "  </tbody>\n",
       "</table>\n",
       "</div>"
      ],
      "text/plain": [
       "   userId  movieId  rating  timestamp\n",
       "0       1       17     4.0  944249077\n",
       "1       1       25     1.0  944250228\n",
       "2       1       29     2.0  943230976\n",
       "3       1       30     5.0  944249077\n",
       "4       1       32     5.0  943228858"
      ]
     },
     "execution_count": 3,
     "metadata": {},
     "output_type": "execute_result"
    }
   ],
   "source": [
    "ratings_df.head()"
   ]
  },
  {
   "cell_type": "code",
   "execution_count": 4,
   "id": "acc7a0e5",
   "metadata": {},
   "outputs": [
    {
     "data": {
      "text/plain": [
       "((87585, 3), (32000204, 4))"
      ]
     },
     "execution_count": 4,
     "metadata": {},
     "output_type": "execute_result"
    }
   ],
   "source": [
    "movies_df.shape, ratings_df.shape"
   ]
  },
  {
   "cell_type": "code",
   "execution_count": 6,
   "id": "72d80b2e",
   "metadata": {},
   "outputs": [
    {
     "data": {
      "text/plain": [
       "200948"
      ]
     },
     "execution_count": 6,
     "metadata": {},
     "output_type": "execute_result"
    }
   ],
   "source": [
    "ratings_df['userId'].nunique()"
   ]
  },
  {
   "cell_type": "code",
   "execution_count": 10,
   "id": "afd458f4",
   "metadata": {},
   "outputs": [],
   "source": []
  },
  {
   "cell_type": "code",
   "execution_count": 118,
   "id": "331500d8",
   "metadata": {},
   "outputs": [
    {
     "name": "stderr",
     "output_type": "stream",
     "text": [
      "32000204it [07:04, 75462.41it/s]\n"
     ]
    }
   ],
   "source": [
    "ratings_dict = {}\n",
    "\n",
    "for idx, row in tqdm(ratings_df.iterrows()):\n",
    "    \n",
    "    user_id = str(int(row['userId']))\n",
    "    movie_id = str(int(row['movieId']))\n",
    "    rating = row['rating']\n",
    "    \n",
    "    if user_id not in ratings_dict:\n",
    "        \n",
    "        ratings_dict[user_id] = {}\n",
    "        \n",
    "    ratings_dict[user_id][movie_id] = rating"
   ]
  },
  {
   "cell_type": "code",
   "execution_count": 145,
   "id": "5f2c3937",
   "metadata": {},
   "outputs": [],
   "source": [
    "from sklearn.metrics.pairwise import cosine_similarity\n",
    "\n",
    "def user_based_collaborative_filtering(ratings_dict, target_user, k=5):\n",
    "    # 1. 특정 사용자와 다른 사용자 간의 유사도 계산\n",
    "    similarities = {}\n",
    "    target_user_ratings = np.array(list(ratings_dict[target_user].values())).reshape(1, -1)\n",
    "\n",
    "    for user in tqdm(ratings_dict):\n",
    "        if user == target_user:\n",
    "            continue\n",
    "        \n",
    "        targets, others = [], []\n",
    "        if len(set(ratings_dict[user].values())) >= len(set(ratings_dict[target_user].values())):\n",
    "            for key in ratings_dict[target_user].keys():\n",
    "                if key in ratings_dict[user]:\n",
    "                    targets.append(ratings_dict[target_user][key])\n",
    "                    others.append(ratings_dict[user][key])\n",
    "        else:\n",
    "            for key in ratings_dict[user].keys():\n",
    "                if key in ratings_dict[target_user]:\n",
    "                    targets.append(ratings_dict[target_user][key])\n",
    "                    others.append(ratings_dict[user][key])\n",
    "        \n",
    "        if len(others) <= 0:\n",
    "            continue\n",
    "        \n",
    "        other_user_ratings = np.array(others).reshape(1, -1)\n",
    "        target_user_ratings = np.array(targets).reshape(1, -1)\n",
    "        similarity = cosine_similarity(target_user_ratings, other_user_ratings)[0, 0]\n",
    "        similarities[user] = similarity\n",
    "        \n",
    "        # 기존 코드\n",
    "        # other_user_ratings = np.array(list(ratings_dict[user].values())).reshape(1, -1)\n",
    "        # similarity = cosine_similarity(target_user_ratings, other_user_ratings)[0, 0]\n",
    "        # similarities[user] = similarity\n",
    "\n",
    "    # 유사도를 기준으로 내림차순 정렬\n",
    "    sorted_similarities = sorted(similarities.items(), key=lambda x: x[1], reverse=True)\n",
    "\n",
    "    # 상위 k명의 이웃 선택\n",
    "    top_k_neighbors = sorted_similarities[:k]\n",
    "\n",
    "    # 평가하지 않은 영화 추출\n",
    "    not_rated_movies = set(movies_df['movieId'].astype('str')) - set(ratings_dict[target_user].keys())\n",
    "\n",
    "    # 2. 추천 영화 평점 예측\n",
    "    movie_recommendations = {}\n",
    "    for movie_id in not_rated_movies:\n",
    "        weighted_sum = 0\n",
    "        similarity_sum = 0\n",
    "\n",
    "        for neighbor, similarity in top_k_neighbors:\n",
    "            if movie_id in ratings_dict[neighbor]:\n",
    "                weighted_sum += ratings_dict[neighbor][movie_id] * similarity\n",
    "                similarity_sum += similarity\n",
    "        \n",
    "        if similarity_sum > 0:\n",
    "            predicted_rating = weighted_sum / similarity_sum\n",
    "            movie_recommendations[movie_id] = predicted_rating\n",
    "\n",
    "    # 예측 평점을 기준으로 상위 영화 선택\n",
    "    top_movies = sorted(movie_recommendations.items(), key=lambda x: x[1], reverse=True)[:10]\n",
    "\n",
    "    return top_movies, similarities"
   ]
  },
  {
   "cell_type": "code",
   "execution_count": 147,
   "id": "2a48f512",
   "metadata": {},
   "outputs": [
    {
     "name": "stderr",
     "output_type": "stream",
     "text": [
      "100%|█████████████████████████████████| 200948/200948 [00:23<00:00, 8379.46it/s]\n"
     ]
    },
    {
     "name": "stdout",
     "output_type": "stream",
     "text": [
      "  Movie ID  Predicted Rating\n",
      "0    33615               5.0\n",
      "1     6889               5.0\n",
      "2   133219               5.0\n",
      "3    71264               5.0\n",
      "4     2571               5.0\n",
      "5    30707               5.0\n",
      "6    62999               5.0\n",
      "7     1566               5.0\n",
      "8     2987               5.0\n",
      "9      745               5.0\n"
     ]
    }
   ],
   "source": [
    "# 예시\n",
    "target_user_id = '2'\n",
    "recommendations, similarities = user_based_collaborative_filtering(ratings_dict, target_user_id)\n",
    "\n",
    "result = pd.DataFrame(recommendations, columns=['Movie ID', 'Predicted Rating'])\n",
    "print(result)"
   ]
  }
 ],
 "metadata": {
  "kernelspec": {
   "display_name": "Python 3 (ipykernel)",
   "language": "python",
   "name": "python3"
  },
  "language_info": {
   "codemirror_mode": {
    "name": "ipython",
    "version": 3
   },
   "file_extension": ".py",
   "mimetype": "text/x-python",
   "name": "python",
   "nbconvert_exporter": "python",
   "pygments_lexer": "ipython3",
   "version": "3.8.17"
  }
 },
 "nbformat": 4,
 "nbformat_minor": 5
}
