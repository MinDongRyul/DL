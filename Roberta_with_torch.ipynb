{
 "cells": [
  {
   "cell_type": "code",
   "execution_count": 1,
   "id": "ab552dde",
   "metadata": {},
   "outputs": [],
   "source": [
    "import torch\n",
    "import torch.nn as nn\n",
    "import torchinfo as ti\n",
    "import torchsummary as ts\n",
    "\n",
    "import math\n",
    "import matplotlib.pyplot as plt\n",
    "\n",
    "from transformers import AutoConfig, AutoTokenizer, AutoModelForMaskedLM"
   ]
  },
  {
   "cell_type": "code",
   "execution_count": 2,
   "id": "e9b364d2",
   "metadata": {},
   "outputs": [],
   "source": [
    "MODEL_NAME = 'FacebookAI/xlm-roberta-base'\n",
    "config = AutoConfig.from_pretrained(MODEL_NAME)\n",
    "tokenizer = AutoTokenizer.from_pretrained(MODEL_NAME)"
   ]
  },
  {
   "cell_type": "code",
   "execution_count": 3,
   "id": "38b7d22a",
   "metadata": {},
   "outputs": [
    {
     "data": {
      "text/plain": [
       "XLMRobertaConfig {\n",
       "  \"_name_or_path\": \"FacebookAI/xlm-roberta-base\",\n",
       "  \"architectures\": [\n",
       "    \"XLMRobertaForMaskedLM\"\n",
       "  ],\n",
       "  \"attention_probs_dropout_prob\": 0.1,\n",
       "  \"bos_token_id\": 0,\n",
       "  \"classifier_dropout\": null,\n",
       "  \"eos_token_id\": 2,\n",
       "  \"hidden_act\": \"gelu\",\n",
       "  \"hidden_dropout_prob\": 0.1,\n",
       "  \"hidden_size\": 768,\n",
       "  \"initializer_range\": 0.02,\n",
       "  \"intermediate_size\": 3072,\n",
       "  \"layer_norm_eps\": 1e-05,\n",
       "  \"max_position_embeddings\": 514,\n",
       "  \"model_type\": \"xlm-roberta\",\n",
       "  \"num_attention_heads\": 12,\n",
       "  \"num_hidden_layers\": 12,\n",
       "  \"output_past\": true,\n",
       "  \"pad_token_id\": 1,\n",
       "  \"position_embedding_type\": \"absolute\",\n",
       "  \"transformers_version\": \"4.42.4\",\n",
       "  \"type_vocab_size\": 1,\n",
       "  \"use_cache\": true,\n",
       "  \"vocab_size\": 250002\n",
       "}"
      ]
     },
     "execution_count": 3,
     "metadata": {},
     "output_type": "execute_result"
    }
   ],
   "source": [
    "config"
   ]
  },
  {
   "cell_type": "code",
   "execution_count": 4,
   "id": "fe6c8890",
   "metadata": {
    "scrolled": false
   },
   "outputs": [
    {
     "data": {
      "application/vnd.jupyter.widget-view+json": {
       "model_id": "ff5c415b84cf4671bc090ae6a90575b9",
       "version_major": 2,
       "version_minor": 0
      },
      "text/plain": [
       "model.safetensors:   0%|          | 0.00/1.12G [00:00<?, ?B/s]"
      ]
     },
     "metadata": {},
     "output_type": "display_data"
    },
    {
     "name": "stderr",
     "output_type": "stream",
     "text": [
      "Some weights of the model checkpoint at FacebookAI/xlm-roberta-base were not used when initializing XLMRobertaForMaskedLM: ['roberta.pooler.dense.bias', 'roberta.pooler.dense.weight']\n",
      "- This IS expected if you are initializing XLMRobertaForMaskedLM from the checkpoint of a model trained on another task or with another architecture (e.g. initializing a BertForSequenceClassification model from a BertForPreTraining model).\n",
      "- This IS NOT expected if you are initializing XLMRobertaForMaskedLM from the checkpoint of a model that you expect to be exactly identical (initializing a BertForSequenceClassification model from a BertForSequenceClassification model).\n"
     ]
    },
    {
     "data": {
      "text/plain": [
       "XLMRobertaForMaskedLM(\n",
       "  (roberta): XLMRobertaModel(\n",
       "    (embeddings): XLMRobertaEmbeddings(\n",
       "      (word_embeddings): Embedding(250002, 768, padding_idx=1)\n",
       "      (position_embeddings): Embedding(514, 768, padding_idx=1)\n",
       "      (token_type_embeddings): Embedding(1, 768)\n",
       "      (LayerNorm): LayerNorm((768,), eps=1e-05, elementwise_affine=True)\n",
       "      (dropout): Dropout(p=0.1, inplace=False)\n",
       "    )\n",
       "    (encoder): XLMRobertaEncoder(\n",
       "      (layer): ModuleList(\n",
       "        (0-11): 12 x XLMRobertaLayer(\n",
       "          (attention): XLMRobertaAttention(\n",
       "            (self): XLMRobertaSelfAttention(\n",
       "              (query): Linear(in_features=768, out_features=768, bias=True)\n",
       "              (key): Linear(in_features=768, out_features=768, bias=True)\n",
       "              (value): Linear(in_features=768, out_features=768, bias=True)\n",
       "              (dropout): Dropout(p=0.1, inplace=False)\n",
       "            )\n",
       "            (output): XLMRobertaSelfOutput(\n",
       "              (dense): Linear(in_features=768, out_features=768, bias=True)\n",
       "              (LayerNorm): LayerNorm((768,), eps=1e-05, elementwise_affine=True)\n",
       "              (dropout): Dropout(p=0.1, inplace=False)\n",
       "            )\n",
       "          )\n",
       "          (intermediate): XLMRobertaIntermediate(\n",
       "            (dense): Linear(in_features=768, out_features=3072, bias=True)\n",
       "            (intermediate_act_fn): GELUActivation()\n",
       "          )\n",
       "          (output): XLMRobertaOutput(\n",
       "            (dense): Linear(in_features=3072, out_features=768, bias=True)\n",
       "            (LayerNorm): LayerNorm((768,), eps=1e-05, elementwise_affine=True)\n",
       "            (dropout): Dropout(p=0.1, inplace=False)\n",
       "          )\n",
       "        )\n",
       "      )\n",
       "    )\n",
       "  )\n",
       "  (lm_head): XLMRobertaLMHead(\n",
       "    (dense): Linear(in_features=768, out_features=768, bias=True)\n",
       "    (layer_norm): LayerNorm((768,), eps=1e-05, elementwise_affine=True)\n",
       "    (decoder): Linear(in_features=768, out_features=250002, bias=True)\n",
       "  )\n",
       ")"
      ]
     },
     "execution_count": 4,
     "metadata": {},
     "output_type": "execute_result"
    }
   ],
   "source": [
    "# Load model directly\n",
    "model = AutoModelForMaskedLM.from_pretrained(MODEL_NAME)\n",
    "model"
   ]
  },
  {
   "cell_type": "code",
   "execution_count": 36,
   "id": "73e0dd11",
   "metadata": {},
   "outputs": [
    {
     "data": {
      "text/plain": [
       "=====================================================================================\n",
       "Layer (type:depth-idx)                                       Param #\n",
       "=====================================================================================\n",
       "XLMRobertaForMaskedLM                                        --\n",
       "├─XLMRobertaModel: 1-1                                       --\n",
       "│    └─XLMRobertaEmbeddings: 2-1                             --\n",
       "│    │    └─Embedding: 3-1                                   192,001,536\n",
       "│    │    └─Embedding: 3-2                                   394,752\n",
       "│    │    └─Embedding: 3-3                                   768\n",
       "│    │    └─LayerNorm: 3-4                                   1,536\n",
       "│    │    └─Dropout: 3-5                                     --\n",
       "│    └─XLMRobertaEncoder: 2-2                                --\n",
       "│    │    └─ModuleList: 3-6                                  85,054,464\n",
       "├─XLMRobertaLMHead: 1-2                                      --\n",
       "│    └─Linear: 2-3                                           590,592\n",
       "│    └─LayerNorm: 2-4                                        1,536\n",
       "│    └─Linear: 2-5                                           192,251,538\n",
       "=====================================================================================\n",
       "Total params: 470,296,722\n",
       "Trainable params: 470,296,722\n",
       "Non-trainable params: 0\n",
       "====================================================================================="
      ]
     },
     "execution_count": 36,
     "metadata": {},
     "output_type": "execute_result"
    }
   ],
   "source": [
    "ti.summary(model)"
   ]
  },
  {
   "cell_type": "markdown",
   "id": "efdc4693",
   "metadata": {},
   "source": [
    "# Roberta Architecture"
   ]
  },
  {
   "cell_type": "code",
   "execution_count": null,
   "id": "c6448621",
   "metadata": {},
   "outputs": [],
   "source": [
    "XLMRobertaForTokenClassification(\n",
    "  (roberta): XLMRobertaModel(\n",
    "    (embeddings): XLMRobertaEmbeddings(\n",
    "      (word_embeddings): Embedding(250002, 1024, padding_idx=1)\n",
    "      (position_embeddings): Embedding(514, 1024, padding_idx=1)\n",
    "      (token_type_embeddings): Embedding(1, 1024)\n",
    "      (LayerNorm): LayerNorm((1024,), eps=1e-05, elementwise_affine=True)\n",
    "      (dropout): Dropout(p=0.1, inplace=False)\n",
    "    )\n",
    "    (encoder): XLMRobertaEncoder(\n",
    "      (layer): ModuleList(\n",
    "        (0-23): 24 x XLMRobertaLayer(\n",
    "          (attention): XLMRobertaAttention(\n",
    "            (self): XLMRobertaSelfAttention(\n",
    "              (query): Linear(in_features=1024, out_features=1024, bias=True)\n",
    "              (key): Linear(in_features=1024, out_features=1024, bias=True)\n",
    "              (value): Linear(in_features=1024, out_features=1024, bias=True)\n",
    "              (dropout): Dropout(p=0.1, inplace=False)\n",
    "            )\n",
    "            (output): XLMRobertaSelfOutput(\n",
    "              (dense): Linear(in_features=1024, out_features=1024, bias=True)\n",
    "              (LayerNorm): LayerNorm((1024,), eps=1e-05, elementwise_affine=True)\n",
    "              (dropout): Dropout(p=0.1, inplace=False)\n",
    "            )\n",
    "          )\n",
    "          (intermediate): XLMRobertaIntermediate(\n",
    "            (dense): Linear(in_features=1024, out_features=4096, bias=True)\n",
    "            (intermediate_act_fn): GELUActivation()\n",
    "          )\n",
    "          (output): XLMRobertaOutput(\n",
    "            (dense): Linear(in_features=4096, out_features=1024, bias=True)\n",
    "            (LayerNorm): LayerNorm((1024,), eps=1e-05, elementwise_affine=True)\n",
    "            (dropout): Dropout(p=0.1, inplace=False)\n",
    "          )\n",
    "        )\n",
    "      )\n",
    "    )\n",
    "  )\n",
    "  (dropout): Dropout(p=0.1, inplace=False)\n",
    "  (classifier): Linear(in_features=1024, out_features=2, bias=True)\n",
    ")"
   ]
  },
  {
   "cell_type": "markdown",
   "id": "1fcfdb85",
   "metadata": {},
   "source": [
    "# RobetaLayerNorm"
   ]
  },
  {
   "cell_type": "code",
   "execution_count": 7,
   "id": "cf58a3c4",
   "metadata": {},
   "outputs": [],
   "source": [
    "class RobetaLayerNorm(nn.Module):\n",
    "    def __init__(self, hidden_size, layer_norm_eps=1e-05):\n",
    "        super(RobetaLayerNorm, self).__init__()\n",
    "        self.gamma = nn.Parameter(torch.ones(hidden_size)) # weight에 대한 것\n",
    "        self.beta = nn.Parameter(torch.zeros(hidden_size)) # 바이어스에 대한 것\n",
    "        self.variance_epsilon = layer_norm_eps\n",
    "        \n",
    "    def forward(self, x):\n",
    "        # 평균\n",
    "        u = x.mean(-1, keepdim=True)\n",
    "        # 분산\n",
    "        s = (x - u).pow(2).mean(-1, keepdim=True)\n",
    "        # 일반 정규화 적용 variance_epsilon은 0으로 나누지 않도록 보조 항 삽입\n",
    "        x = (x - u) / torch.sqrt(s + self.variance_epsilon)\n",
    "        # 최종적으로 gamma 와 x를 곱하고 beta를 더해서 return\n",
    "        return self.gamma * x + self.beta"
   ]
  },
  {
   "cell_type": "markdown",
   "id": "679486c4",
   "metadata": {},
   "source": [
    "# XLMRobertaEmbeddings"
   ]
  },
  {
   "cell_type": "code",
   "execution_count": null,
   "id": "dffe20a6",
   "metadata": {},
   "outputs": [],
   "source": [
    "XLMRobertaEmbeddings(\n",
    "  (word_embeddings): Embedding(250002, 1024, padding_idx=1)\n",
    "  (position_embeddings): Embedding(514, 1024, padding_idx=1)\n",
    "  (token_type_embeddings): Embedding(1, 1024)\n",
    "  (LayerNorm): LayerNorm((1024,), eps=1e-05, elementwise_affine=True)\n",
    "  (dropout): Dropout(p=0.1, inplace=False)\n",
    ")"
   ]
  },
  {
   "cell_type": "code",
   "execution_count": 4,
   "id": "96281b05",
   "metadata": {},
   "outputs": [],
   "source": [
    "class XLMRobertaEmbeddings(nn.Module):\n",
    "    def __init__(self, config):\n",
    "        super(XLMRobertaEmbeddings, self).__init__()\n",
    "        \n",
    "        self.word_embeddings = nn.Embedding(config.vocab_size, config.hidden_size, padding_idx=1)\n",
    "        self.position_embeddings = nn.Embedding(config.max_position_embeddings, config.hidden_size, padding_idx=1)\n",
    "        self.token_type_embeddings = nn.Embedding(1, config.hidden_size)\n",
    "        \n",
    "        self.LayerNorm = nn.LayerNorm(config.hidden_size, eps=config.layer_norm_eps, elementwise_affine=True)\n",
    "        self.dropout = nn.Dropout(p=0.1, inplace=False)\n",
    "        \n",
    "    def forward(self, input_ids, token_type_ids=None):\n",
    "        \n",
    "        # word embedding\n",
    "        word_embeddings = self.word_embeddings(input_ids)\n",
    "        \n",
    "        # pos embedding\n",
    "        seq_len = input_ids.size(1)\n",
    "        position_ids = torch.arange(\n",
    "            seq_len, dtype=torch.long, device=input_ids.device)\n",
    "        position_ids = position_ids.unsqueeze(0).expand_as(input_ids)\n",
    "        position_embeddings = self.position_embeddings(position_ids)\n",
    "        \n",
    "        # token type ids embedding\n",
    "        # RoBERTa doesn’t have token_type_ids, so you don’t need to indicate which token belongs to which segment.\n",
    "        # Just separate your segments with the separation token tokenizer.sep_token (or </s>).\n",
    "        # if token_type_ids is None:\n",
    "        #     token_type_ids = torch.zeros_like(input_ids)\n",
    "        \n",
    "        # print('token_type_ids shape : {}'.format(token_type_ids.shape))\n",
    "        # token_type_embeddings = self.token_type_embeddings(token_type_ids)\n",
    "        \n",
    "        total_embedding = word_embeddings + position_embeddings # + token_type_embeddings\n",
    "        \n",
    "        total_embedding = self.LayerNorm(total_embedding)\n",
    "        total_embedding = self.dropout(total_embedding)\n",
    "        \n",
    "        return total_embedding"
   ]
  },
  {
   "cell_type": "code",
   "execution_count": 9,
   "id": "df13c09a",
   "metadata": {},
   "outputs": [
    {
     "data": {
      "text/plain": [
       "XLMRobertaEmbeddings(\n",
       "  (word_embeddings): Embedding(250002, 1024, padding_idx=1)\n",
       "  (position_embeddings): Embedding(514, 1024, padding_idx=1)\n",
       "  (token_type_embeddings): Embedding(1, 1024)\n",
       "  (LayerNorm): LayerNorm((1024,), eps=1e-05, elementwise_affine=True)\n",
       "  (dropout): Dropout(p=0.1, inplace=False)\n",
       ")"
      ]
     },
     "execution_count": 9,
     "metadata": {},
     "output_type": "execute_result"
    }
   ],
   "source": [
    "robeta_embedding = XLMRobertaEmbeddings(config)\n",
    "robeta_embedding"
   ]
  },
  {
   "cell_type": "code",
   "execution_count": 10,
   "id": "b55f391c",
   "metadata": {},
   "outputs": [
    {
     "data": {
      "text/plain": [
       "{'input_ids': tensor([[    0,  2673,   759,  9351,    83, 28235,     2,     1,     1],\n",
       "        [    0,  4865,  1135,     7,    83,   935,  9351,    32,     2]]), 'token_type_ids': tensor([[0, 0, 0, 0, 0, 0, 0, 0, 0],\n",
       "        [0, 0, 0, 0, 0, 0, 0, 0, 0]]), 'attention_mask': tensor([[1, 1, 1, 1, 1, 1, 1, 0, 0],\n",
       "        [1, 1, 1, 1, 1, 1, 1, 1, 1]])}"
      ]
     },
     "execution_count": 10,
     "metadata": {},
     "output_type": "execute_result"
    }
   ],
   "source": [
    "token = tokenizer(['Hi my name is DR', 'What`s is your name?'], return_tensors='pt', return_token_type_ids=True, padding=True)\n",
    "token"
   ]
  },
  {
   "cell_type": "code",
   "execution_count": 11,
   "id": "49378079",
   "metadata": {},
   "outputs": [],
   "source": [
    "input_ids = token['input_ids']\n",
    "token_type_ids = token['token_type_ids']\n",
    "attention_mask = token['attention_mask']"
   ]
  },
  {
   "cell_type": "code",
   "execution_count": 12,
   "id": "2624402d",
   "metadata": {},
   "outputs": [
    {
     "data": {
      "text/plain": [
       "torch.int64"
      ]
     },
     "execution_count": 12,
     "metadata": {},
     "output_type": "execute_result"
    }
   ],
   "source": [
    "input_ids.dtype"
   ]
  },
  {
   "cell_type": "code",
   "execution_count": 13,
   "id": "b6d4256d",
   "metadata": {},
   "outputs": [
    {
     "data": {
      "text/plain": [
       "torch.Size([2, 9, 1024])"
      ]
     },
     "execution_count": 13,
     "metadata": {},
     "output_type": "execute_result"
    }
   ],
   "source": [
    "robeta_embedding(input_ids, token_type_ids).shape"
   ]
  },
  {
   "cell_type": "markdown",
   "id": "836fde13",
   "metadata": {},
   "source": [
    "# XLMRobertaSelfAttention"
   ]
  },
  {
   "cell_type": "code",
   "execution_count": null,
   "id": "20115c00",
   "metadata": {},
   "outputs": [],
   "source": [
    "XLMRobertaSelfAttention(\n",
    "  (query): Linear(in_features=1024, out_features=1024, bias=True)\n",
    "  (key): Linear(in_features=1024, out_features=1024, bias=True)\n",
    "  (value): Linear(in_features=1024, out_features=1024, bias=True)\n",
    "  (dropout): Dropout(p=0.1, inplace=False)\n",
    ")"
   ]
  },
  {
   "cell_type": "code",
   "execution_count": 5,
   "id": "e53ec8f4",
   "metadata": {},
   "outputs": [
    {
     "name": "stdout",
     "output_type": "stream",
     "text": [
      "torch.Size([2, 4, 4])\n",
      "Original Attention Scores: tensor([[[-2.0798,  1.1145,  1.5379, -0.1509],\n",
      "         [-0.4204, -0.7292, -0.6762, -0.1095],\n",
      "         [ 0.5364,  0.1331, -1.1638, -1.4582],\n",
      "         [-0.3376,  0.3296,  0.7896, -0.5031]],\n",
      "\n",
      "        [[-0.8278, -0.9356, -0.2948,  0.0626],\n",
      "         [-0.3656, -1.0651,  0.4983,  0.5633],\n",
      "         [-0.7811,  0.1333, -0.6682, -0.8084],\n",
      "         [-0.8472,  0.1104, -0.3160,  0.4492]]])\n",
      "Dynamic Mask: tensor([[[0., 1., 1., 1.],\n",
      "         [1., 0., 0., 0.],\n",
      "         [0., 1., 1., 0.],\n",
      "         [0., 0., 1., 0.]],\n",
      "\n",
      "        [[1., 0., 1., 1.],\n",
      "         [0., 0., 0., 0.],\n",
      "         [1., 1., 0., 1.],\n",
      "         [0., 1., 0., 1.]]])\n",
      "Masked Attention Scores: tensor([[[-1.0000e+09,  1.1145e+00,  1.5379e+00, -1.5092e-01],\n",
      "         [-4.2039e-01, -1.0000e+09, -1.0000e+09, -1.0000e+09],\n",
      "         [-1.0000e+09,  1.3310e-01, -1.1638e+00, -1.0000e+09],\n",
      "         [-1.0000e+09, -1.0000e+09,  7.8961e-01, -1.0000e+09]],\n",
      "\n",
      "        [[-8.2776e-01, -1.0000e+09, -2.9484e-01,  6.2566e-02],\n",
      "         [-1.0000e+09, -1.0000e+09, -1.0000e+09, -1.0000e+09],\n",
      "         [-7.8109e-01,  1.3328e-01, -1.0000e+09, -8.0837e-01],\n",
      "         [-1.0000e+09,  1.1035e-01, -1.0000e+09,  4.4924e-01]]])\n",
      "Attention Probabilities: tensor([[[0.0000, 0.3560, 0.5436, 0.1004],\n",
      "         [1.0000, 0.0000, 0.0000, 0.0000],\n",
      "         [0.0000, 0.7853, 0.2147, 0.0000],\n",
      "         [0.0000, 0.0000, 1.0000, 0.0000]],\n",
      "\n",
      "        [[0.1946, 0.0000, 0.3315, 0.4739],\n",
      "         [0.2500, 0.2500, 0.2500, 0.2500],\n",
      "         [0.2238, 0.5584, 0.0000, 0.2178],\n",
      "         [0.0000, 0.4161, 0.0000, 0.5839]]])\n"
     ]
    }
   ],
   "source": [
    "def apply_dynamic_masking_to_attention(attention_scores, dynamic_mask):\n",
    "        \"\"\"\n",
    "        Attention Score에 Dynamic Masking을 적용합니다.\n",
    "\n",
    "        Args:\n",
    "            attention_scores (torch.Tensor): Attention Score Tensor (batch_size, seq_len, seq_len).\n",
    "            dynamic_mask (torch.Tensor): Dynamic Mask Tensor (batch_size, seq_len, seq_len), \n",
    "                                         마스킹된 위치는 0, 유효한 위치는 1.\n",
    "\n",
    "        Returns:\n",
    "            torch.Tensor: Masking이 적용된 Attention Scores.\n",
    "        \"\"\"\n",
    "        # Dynamic Mask의 유효하지 않은 부분에 큰 음수 값 추가\n",
    "        attention_scores = attention_scores + (1 - dynamic_mask) * -1e9\n",
    "        return attention_scores\n",
    "    \n",
    "# 예제 데이터\n",
    "batch_size, seq_len, dim = 2, 4, 64\n",
    "query_layer = torch.randn(batch_size, seq_len, dim)\n",
    "key_layer = torch.randn(batch_size, seq_len, dim)\n",
    "\n",
    "# Step 1: Query와 Key로 Attention Scores 계산\n",
    "attention_scores = torch.matmul(query_layer, key_layer.transpose(-1, -2))  # (batch_size, seq_len, seq_len)\n",
    "\n",
    "# Step 2: 스케일링\n",
    "attention_scores = attention_scores / math.sqrt(dim)\n",
    "print(attention_scores.shape)\n",
    "# Step 3: Dynamic Mask 생성 (동적으로 지정된 마스크)\n",
    "# 예: 특정 위치를 확률적으로 마스킹\n",
    "dynamic_mask = torch.randint(0, 2, (attention_scores.shape)).float()  # 1 (유효), 0 (마스킹)\n",
    "\n",
    "# Step 4: Dynamic Masking 적용\n",
    "masked_attention_scores = apply_dynamic_masking_to_attention(attention_scores, dynamic_mask)\n",
    "\n",
    "# Step 5: Softmax 계산\n",
    "# attention_probs = torch.nn.functional.softmax(masked_attention_scores, dim=-1)\n",
    "\n",
    "# 출력 확인\n",
    "print(\"Original Attention Scores:\", attention_scores)\n",
    "print(\"Dynamic Mask:\", dynamic_mask)\n",
    "print(\"Masked Attention Scores:\", masked_attention_scores)\n",
    "# print(\"Attention Probabilities:\", attention_probs)"
   ]
  },
  {
   "cell_type": "code",
   "execution_count": 23,
   "id": "4f15a281",
   "metadata": {},
   "outputs": [],
   "source": [
    "class XLMRobertaSelfAttention(nn.Module):\n",
    "    def __init__(self, config):\n",
    "        super(XLMRobertaSelfAttention, self).__init__()\n",
    "        \n",
    "        # number of attention head\n",
    "        self.num_attention_heads = config.num_attention_heads\n",
    "        \n",
    "        self.attention_head_size = int(config.hidden_size / config.num_attention_heads)\n",
    "        self.all_head_size = self.num_attention_heads * self.attention_head_size\n",
    "        \n",
    "        # Self-Attention의 특징량을 작성하는 전결합 층\n",
    "        self.query = nn.Linear(config.hidden_size, self.all_head_size)\n",
    "        self.key = nn.Linear(config.hidden_size, self.all_head_size)\n",
    "        self.value = nn.Linear(config.hidden_size, self.all_head_size)\n",
    "        \n",
    "        # drop out\n",
    "        self.drop_out = nn.Dropout(config.attention_probs_dropout_prob)\n",
    "        \n",
    "    def transpose_for_scores(self, x):\n",
    "        '''\n",
    "            Multi-Headed Attention용으로 텐서의 형태 변환\n",
    "            [batch_size, seq_len, hidden] -> [batch_size, 12, seq_len, hidden/12]\n",
    "        '''\n",
    "        new_x_shape = x.size()[:-1] + (self.num_attention_heads, self.attention_head_size)\n",
    "        x = x.view(*new_x_shape)\n",
    "        return x.permute(0, 2, 1, 3)\n",
    "        \n",
    "    def apply_dynamic_masking_to_attention(attention_scores, dynamic_mask):\n",
    "        \"\"\"\n",
    "        Attention Score에 Dynamic Masking을 적용합니다.\n",
    "\n",
    "        Args:\n",
    "            attention_scores (torch.Tensor): Attention Score Tensor (batch_size, seq_len, seq_len).\n",
    "            dynamic_mask (torch.Tensor): Dynamic Mask Tensor (batch_size, seq_len, seq_len), \n",
    "                                         마스킹된 위치는 0, 유효한 위치는 1.\n",
    "\n",
    "        Returns:\n",
    "            torch.Tensor: Masking이 적용된 Attention Scores.\n",
    "        \"\"\"\n",
    "        # Dynamic Mask의 유효하지 않은 부분에 큰 음수 값 추가\n",
    "        attention_scores = attention_scores + (1 - dynamic_mask) * -1e9\n",
    "        return attention_scores\n",
    "        \n",
    "    def forward(self, hidden_states, attention_mask, attention_show_fig=False):\n",
    "        \n",
    "        # query, key, value 계산\n",
    "        query_layer = self.query(hidden_states)\n",
    "        key_layer = self.key(hidden_states)\n",
    "        value_layer = self.value(hidden_states)\n",
    "        \n",
    "        # Multi-Headed Attention용으로 텐서 형태 변환\n",
    "        query_multi_layer = self.transpose_for_scores(query_layer)\n",
    "        key_multi_layer = self.transpose_for_scores(key_layer)\n",
    "        value_multi_layer = self.transpose_for_scores(value_layer)\n",
    "        \n",
    "        # query & key attention score 계산\n",
    "        attention_score = torch.matmul(query_multi_layer, key_multi_layer.transpose(-1, -2))\n",
    "        # softmax 전 scaling 진행\n",
    "        attention_score = attention_score / math.sqrt(self.attention_head_size)\n",
    "        # dynamic masking 적용\n",
    "        # dynamic_mask = torch.randint(0, 2, (attention_score.shape)).float()\n",
    "        # masked_attention_scores = apply_dynamic_masking_to_attention(attention_scores, dynamic_mask)\n",
    "       \n",
    "        # [PAD] token 음수화\n",
    "        # attention_mask : 문장에 [PAD]가 있을 때 -10000이라는 큰 음의 양수를 더해줌으로써 softmax에서의 값이 작아지게끔 하는 효과를 지님\n",
    "        attention_scores = attention_score + attention_mask\n",
    "        # softmax 계산\n",
    "        attention_probs = nn.Softmax(dim=-1)(attention_scores)\n",
    "        # print(torch.where( attention_probs > 1, attention_probs, 0))\n",
    "        # dropout\n",
    "        attention_probs = self.drop_out(attention_probs)\n",
    "        \n",
    "        # value 곱\n",
    "        context_layer = torch.matmul(attention_probs, value_multi_layer)\n",
    "        \n",
    "        # 기존의 차원으로 돌리고 펼쳐주기\n",
    "        context_layer = context_layer.permute(0, 2, 1, 3).contiguous()\n",
    "        new_context_layer_shape = context_layer.size()[:-2] + (self.all_head_size,)\n",
    "        context_layer = context_layer.view(*new_context_layer_shape)\n",
    "        \n",
    "        # attention_show일 경우 attention_probs도 반환\n",
    "        if attention_show_fig == True:\n",
    "            return context_layer, attention_probs\n",
    "        elif attention_show_fig == False:\n",
    "            return context_layer"
   ]
  },
  {
   "cell_type": "code",
   "execution_count": 154,
   "id": "1a46e5a8",
   "metadata": {},
   "outputs": [
    {
     "data": {
      "text/plain": [
       "8.0"
      ]
     },
     "execution_count": 154,
     "metadata": {},
     "output_type": "execute_result"
    }
   ],
   "source": [
    "math.sqrt(768/12)"
   ]
  },
  {
   "cell_type": "code",
   "execution_count": 16,
   "id": "2098f2e9",
   "metadata": {},
   "outputs": [
    {
     "data": {
      "text/plain": [
       "XLMRobertaSelfAttention(\n",
       "  (query): Linear(in_features=1024, out_features=1024, bias=True)\n",
       "  (key): Linear(in_features=1024, out_features=1024, bias=True)\n",
       "  (value): Linear(in_features=1024, out_features=1024, bias=True)\n",
       "  (drop_out): Dropout(p=0.1, inplace=False)\n",
       ")"
      ]
     },
     "execution_count": 16,
     "metadata": {},
     "output_type": "execute_result"
    }
   ],
   "source": [
    "roberta_self_attn = XLMRobertaSelfAttention(config)\n",
    "roberta_self_attn"
   ]
  },
  {
   "cell_type": "markdown",
   "id": "6c27a4c4",
   "metadata": {},
   "source": [
    "# XLMRobertaSelfOutput"
   ]
  },
  {
   "cell_type": "code",
   "execution_count": null,
   "id": "7b4da2b6",
   "metadata": {},
   "outputs": [],
   "source": [
    "(output): XLMRobertaSelfOutput(\n",
    "  (dense): Linear(in_features=1024, out_features=1024, bias=True)\n",
    "  (LayerNorm): LayerNorm((1024,), eps=1e-05, elementwise_affine=True)\n",
    "  (dropout): Dropout(p=0.1, inplace=False)\n",
    ")"
   ]
  },
  {
   "cell_type": "code",
   "execution_count": 24,
   "id": "6afd1915",
   "metadata": {},
   "outputs": [],
   "source": [
    "class XLMRobertaSelfOutput(nn.Module):\n",
    "    def __init__(self, config):\n",
    "        super(XLMRobertaSelfOutput, self).__init__()\n",
    "        \n",
    "        self.dense = nn.Linear(config.hidden_size, config.hidden_size, bias=True)\n",
    "        self.LayerNorm = nn.LayerNorm(config.hidden_size, eps=config.layer_norm_eps, elementwise_affine=True)\n",
    "        self.dropout = nn.Dropout(p=0.1, inplace=False)\n",
    "    \n",
    "    def forward(self, hidden_states, input_tensor):\n",
    "        \n",
    "        hidden_states = self.dense(hidden_states)\n",
    "        hidden_states = self.LayerNorm(hidden_states)\n",
    "        hidden_states = self.dropout(hidden_states + input_tensor)\n",
    "        \n",
    "        return hidden_states"
   ]
  },
  {
   "cell_type": "code",
   "execution_count": 20,
   "id": "04a32a44",
   "metadata": {
    "scrolled": true
   },
   "outputs": [
    {
     "data": {
      "text/plain": [
       "XLMRobertaSelfOutput(\n",
       "  (dense): Linear(in_features=1024, out_features=1024, bias=True)\n",
       "  (LayerNorm): LayerNorm((1024,), eps=1e-05, elementwise_affine=True)\n",
       "  (dropout): Dropout(p=0.1, inplace=False)\n",
       ")"
      ]
     },
     "execution_count": 20,
     "metadata": {},
     "output_type": "execute_result"
    }
   ],
   "source": [
    "roberta_self_output = XLMRobertaSelfOutput(config)\n",
    "roberta_self_output"
   ]
  },
  {
   "cell_type": "markdown",
   "id": "deb38c41",
   "metadata": {},
   "source": [
    "# XLMRobertaAttention"
   ]
  },
  {
   "cell_type": "code",
   "execution_count": null,
   "id": "4bb57116",
   "metadata": {},
   "outputs": [],
   "source": [
    "(attention): XLMRobertaAttention(\n",
    "    (self): XLMRobertaSelfAttention(\n",
    "      (query): Linear(in_features=1024, out_features=1024, bias=True)\n",
    "      (key): Linear(in_features=1024, out_features=1024, bias=True)\n",
    "      (value): Linear(in_features=1024, out_features=1024, bias=True)\n",
    "      (dropout): Dropout(p=0.1, inplace=False)\n",
    "    )\n",
    "    (output): XLMRobertaSelfOutput(\n",
    "      (dense): Linear(in_features=1024, out_features=1024, bias=True)\n",
    "      (LayerNorm): LayerNorm((1024,), eps=1e-05, elementwise_affine=True)\n",
    "      (dropout): Dropout(p=0.1, inplace=False)\n",
    "    )\n",
    "  )"
   ]
  },
  {
   "cell_type": "code",
   "execution_count": 25,
   "id": "fbc33f1b",
   "metadata": {},
   "outputs": [],
   "source": [
    "class XLMRobertaAttention(nn.Module):\n",
    "    def __init__(self, config):\n",
    "        super(XLMRobertaAttention, self).__init__()\n",
    "        \n",
    "        self.self = XLMRobertaSelfAttention(config)\n",
    "        self.output = XLMRobertaSelfOutput(config)\n",
    "        \n",
    "    def forward(self, input_tensor, attention_mask, attention_show_fig):\n",
    "        if attention_show_fig:\n",
    "            self_output, attention_probs = self.self(input_tensor, attention_mask, attention_show_fig)\n",
    "            attention_output = self.output(self_output, input_tensor)\n",
    "            return attention_output, attention_probs\n",
    "        \n",
    "        else:\n",
    "            self_output = self.self(input_tensor, attention_mask, attention_show_fig)\n",
    "            attention_output = self.output(self_output, input_tensor)\n",
    "            return attention_output"
   ]
  },
  {
   "cell_type": "code",
   "execution_count": 22,
   "id": "59b1126b",
   "metadata": {
    "scrolled": true
   },
   "outputs": [
    {
     "data": {
      "text/plain": [
       "XLMRobertaAttention(\n",
       "  (self): XLMRobertaSelfAttention(\n",
       "    (query): Linear(in_features=1024, out_features=1024, bias=True)\n",
       "    (key): Linear(in_features=1024, out_features=1024, bias=True)\n",
       "    (value): Linear(in_features=1024, out_features=1024, bias=True)\n",
       "    (drop_out): Dropout(p=0.1, inplace=False)\n",
       "  )\n",
       "  (output): XLMRobertaSelfOutput(\n",
       "    (dense): Linear(in_features=1024, out_features=1024, bias=True)\n",
       "    (LayerNorm): LayerNorm((1024,), eps=1e-05, elementwise_affine=True)\n",
       "    (dropout): Dropout(p=0.1, inplace=False)\n",
       "  )\n",
       ")"
      ]
     },
     "execution_count": 22,
     "metadata": {},
     "output_type": "execute_result"
    }
   ],
   "source": [
    "roberta_attn = XLMRobertaAttention(config)\n",
    "roberta_attn"
   ]
  },
  {
   "cell_type": "code",
   "execution_count": 23,
   "id": "9c325de3",
   "metadata": {
    "scrolled": true
   },
   "outputs": [
    {
     "name": "stdout",
     "output_type": "stream",
     "text": [
      "before roberta embedding input_ids shape : torch.Size([2, 9])\n",
      "after roberta embedding shape : torch.Size([2, 9, 1024])\n",
      "attention mask shape : torch.Size([2, 9])\n",
      "extended_attention_mask shape : torch.Size([2, 1, 1, 9])\n",
      "after roberta attn result shape : torch.Size([2, 9, 1024])\n"
     ]
    }
   ],
   "source": [
    "print('before roberta embedding input_ids shape : {}'.format(input_ids.shape))\n",
    "hidden_states = robeta_embedding(input_ids, token_type_ids)\n",
    "print('after roberta embedding shape : {}'.format(hidden_states.shape))\n",
    "print('attention mask shape : {}'.format(token['attention_mask'].shape))\n",
    "\n",
    "attention_mask = token['attention_mask']\n",
    "\n",
    "extended_attention_mask = attention_mask.unsqueeze(1).unsqueeze(2)\n",
    "        \n",
    "# 마스크는 0, 1 이지만 소프트맥스를 계산할 때 마스크가 되도록 0과 -inf로 한다.\n",
    "# -inf 대신 -10000으로 한다\n",
    "extended_attention_mask = extended_attention_mask.to(dtype=torch.float32)\n",
    "extended_attention_mask = (1.0 - extended_attention_mask) * -10000.0\n",
    "print('extended_attention_mask shape : {}'.format(extended_attention_mask.shape))\n",
    "\n",
    "result = roberta_attn(hidden_states, extended_attention_mask)\n",
    "print('after roberta attn result shape : {}'.format(result.shape))"
   ]
  },
  {
   "cell_type": "markdown",
   "id": "5f3968d6",
   "metadata": {},
   "source": [
    "# XLMRobertaIntermediate"
   ]
  },
  {
   "cell_type": "code",
   "execution_count": null,
   "id": "1cce6932",
   "metadata": {},
   "outputs": [],
   "source": [
    "(intermediate): XLMRobertaIntermediate(\n",
    "    (dense): Linear(in_features=1024, out_features=4096, bias=True)\n",
    "    (intermediate_act_fn): GELUActivation()\n",
    "  )"
   ]
  },
  {
   "cell_type": "code",
   "execution_count": 26,
   "id": "2c1d4e0d",
   "metadata": {},
   "outputs": [],
   "source": [
    "class GELUActivation(nn.Module):\n",
    "    def __init__(self):\n",
    "        super(GELUActivation, self).__init__()\n",
    "    \n",
    "    def forward(self, x):\n",
    "        return x * 0.5 * (1.0 + torch.erf(x / math.sqrt(2.0)))"
   ]
  },
  {
   "cell_type": "code",
   "execution_count": 27,
   "id": "ba704298",
   "metadata": {},
   "outputs": [],
   "source": [
    "class XLMRobertaIntermediate(nn.Module):\n",
    "    def __init__(self, config):\n",
    "        super(XLMRobertaIntermediate, self).__init__()\n",
    "        self.dense = nn.Linear(config.hidden_size, config.intermediate_size, bias=True)\n",
    "        self.intermediate_act_fn = GELUActivation()\n",
    "        \n",
    "    def forward(self, hidden_states):\n",
    "        hidden_states = self.dense(hidden_states)\n",
    "        hidden_states = self.intermediate_act_fn(hidden_states) # GELU에 의한 활성화\n",
    "        return hidden_states"
   ]
  },
  {
   "cell_type": "code",
   "execution_count": 26,
   "id": "68064c3d",
   "metadata": {},
   "outputs": [
    {
     "data": {
      "text/plain": [
       "XLMRobertaIntermediate(\n",
       "  (dense): Linear(in_features=1024, out_features=4096, bias=True)\n",
       "  (intermediate_act_fn): GELUActivation()\n",
       ")"
      ]
     },
     "execution_count": 26,
     "metadata": {},
     "output_type": "execute_result"
    }
   ],
   "source": [
    "roberta_inter = XLMRobertaIntermediate(config)\n",
    "roberta_inter"
   ]
  },
  {
   "cell_type": "code",
   "execution_count": 27,
   "id": "723d6d1a",
   "metadata": {
    "scrolled": true
   },
   "outputs": [
    {
     "data": {
      "text/plain": [
       "torch.Size([2, 9, 4096])"
      ]
     },
     "execution_count": 27,
     "metadata": {},
     "output_type": "execute_result"
    }
   ],
   "source": [
    "roberta_inter(hidden_states).shape"
   ]
  },
  {
   "cell_type": "markdown",
   "id": "f183eeb3",
   "metadata": {},
   "source": [
    "# XLMRobertaOutput"
   ]
  },
  {
   "cell_type": "code",
   "execution_count": null,
   "id": "e1d7575e",
   "metadata": {},
   "outputs": [],
   "source": [
    "(output): XLMRobertaOutput(\n",
    "    (dense): Linear(in_features=4096, out_features=1024, bias=True)\n",
    "    (LayerNorm): LayerNorm((1024,), eps=1e-05, elementwise_affine=True)\n",
    "    (dropout): Dropout(p=0.1, inplace=False)\n",
    "  )"
   ]
  },
  {
   "cell_type": "code",
   "execution_count": 28,
   "id": "b5e02079",
   "metadata": {},
   "outputs": [],
   "source": [
    "class XLMRobertaOutput(nn.Module):\n",
    "    def __init__(self, config):\n",
    "        super(XLMRobertaOutput, self).__init__()\n",
    "        \n",
    "        self.dense = nn.Linear(config.intermediate_size, config.hidden_size, bias=True)\n",
    "        self.LayerNorm = nn.LayerNorm(config.hidden_size, eps=config.layer_norm_eps, elementwise_affine=True)\n",
    "        self.dropout = nn.Dropout(p=config.attention_probs_dropout_prob, inplace=False)\n",
    "        \n",
    "    def forward(self, hidden_states, input_tensor):\n",
    "        \n",
    "        hidden_states = self.dense(hidden_states)\n",
    "        hidden_states = self.dropout(hidden_states)\n",
    "        hidden_states = self.LayerNorm(hidden_states + input_tensor)\n",
    "        \n",
    "        return hidden_states"
   ]
  },
  {
   "cell_type": "code",
   "execution_count": 29,
   "id": "f840fb53",
   "metadata": {},
   "outputs": [
    {
     "data": {
      "text/plain": [
       "XLMRobertaSelfOutput(\n",
       "  (dense): Linear(in_features=1024, out_features=1024, bias=True)\n",
       "  (LayerNorm): LayerNorm((1024,), eps=1e-05, elementwise_affine=True)\n",
       "  (dropout): Dropout(p=0.1, inplace=False)\n",
       ")"
      ]
     },
     "execution_count": 29,
     "metadata": {},
     "output_type": "execute_result"
    }
   ],
   "source": [
    "roberta_output = XLMRobertaSelfOutput(config)\n",
    "roberta_output"
   ]
  },
  {
   "cell_type": "markdown",
   "id": "7d5ce89c",
   "metadata": {},
   "source": [
    "# XLMRobertaLayer"
   ]
  },
  {
   "cell_type": "code",
   "execution_count": null,
   "id": "d380c463",
   "metadata": {},
   "outputs": [],
   "source": [
    "XLMRobertaLayer(\n",
    "  (attention): XLMRobertaAttention(\n",
    "    (self): XLMRobertaSelfAttention(\n",
    "      (query): Linear(in_features=1024, out_features=1024, bias=True)\n",
    "      (key): Linear(in_features=1024, out_features=1024, bias=True)\n",
    "      (value): Linear(in_features=1024, out_features=1024, bias=True)\n",
    "      (dropout): Dropout(p=0.1, inplace=False)\n",
    "    )\n",
    "    (output): XLMRobertaSelfOutput(\n",
    "      (dense): Linear(in_features=1024, out_features=1024, bias=True)\n",
    "      (LayerNorm): LayerNorm((1024,), eps=1e-05, elementwise_affine=True)\n",
    "      (dropout): Dropout(p=0.1, inplace=False)\n",
    "    )\n",
    "  )\n",
    "  (intermediate): XLMRobertaIntermediate(\n",
    "    (dense): Linear(in_features=1024, out_features=4096, bias=True)\n",
    "    (intermediate_act_fn): GELUActivation()\n",
    "  )\n",
    "  (output): XLMRobertaOutput(\n",
    "    (dense): Linear(in_features=4096, out_features=1024, bias=True)\n",
    "    (LayerNorm): LayerNorm((1024,), eps=1e-05, elementwise_affine=True)\n",
    "    (dropout): Dropout(p=0.1, inplace=False)\n",
    "  )\n",
    ")"
   ]
  },
  {
   "cell_type": "code",
   "execution_count": 29,
   "id": "ffa77276",
   "metadata": {},
   "outputs": [],
   "source": [
    "class XLMRobertaLayer(nn.Module):\n",
    "    def __init__(self, config):\n",
    "        super(XLMRobertaLayer, self).__init__()\n",
    "        \n",
    "        self.attention = XLMRobertaAttention(config)\n",
    "        self.intermediate = XLMRobertaIntermediate(config)\n",
    "        self.output = XLMRobertaOutput(config)\n",
    "        \n",
    "    def forward(self, hidden_states, attention_mask, attention_show_fig=False):\n",
    "        \n",
    "        if attention_show_fig == True:\n",
    "            '''attention_show일 경우 attention_probs도 반환'''\n",
    "            attention_output, attention_probs = self.attention(hidden_states, \n",
    "                                                               attention_mask, \n",
    "                                                               attention_show_fig)\n",
    "            \n",
    "            intermediate_output = self.intermediate(attention_output)\n",
    "            \n",
    "            layer_output = self.output(intermediate_output, attention_output)\n",
    "            \n",
    "            return layer_output, attention_probs\n",
    "        \n",
    "        elif attention_show_fig == False:\n",
    "            attention_output = self.attention(hidden_states, \n",
    "                                              attention_mask, \n",
    "                                              attention_show_fig)\n",
    "            \n",
    "            intermediate_output = self.intermediate(attention_output)\n",
    "            \n",
    "            layer_output = self.output(intermediate_output, attention_output)\n",
    "            \n",
    "            return layer_output # [batch_size, seq_length, hidden_size]"
   ]
  },
  {
   "cell_type": "code",
   "execution_count": 31,
   "id": "57263ecc",
   "metadata": {},
   "outputs": [
    {
     "data": {
      "text/plain": [
       "XLMRobertaLayer(\n",
       "  (attention): XLMRobertaAttention(\n",
       "    (self): XLMRobertaSelfAttention(\n",
       "      (query): Linear(in_features=1024, out_features=1024, bias=True)\n",
       "      (key): Linear(in_features=1024, out_features=1024, bias=True)\n",
       "      (value): Linear(in_features=1024, out_features=1024, bias=True)\n",
       "      (drop_out): Dropout(p=0.1, inplace=False)\n",
       "    )\n",
       "    (output): XLMRobertaSelfOutput(\n",
       "      (dense): Linear(in_features=1024, out_features=1024, bias=True)\n",
       "      (LayerNorm): LayerNorm((1024,), eps=1e-05, elementwise_affine=True)\n",
       "      (dropout): Dropout(p=0.1, inplace=False)\n",
       "    )\n",
       "  )\n",
       "  (intermediate): XLMRobertaIntermediate(\n",
       "    (dense): Linear(in_features=1024, out_features=4096, bias=True)\n",
       "    (intermediate_act_fn): GELUActivation()\n",
       "  )\n",
       "  (output): XLMRobertaOutput(\n",
       "    (dense): Linear(in_features=4096, out_features=1024, bias=True)\n",
       "    (LayerNorm): LayerNorm((1024,), eps=1e-05, elementwise_affine=True)\n",
       "    (dropout): Dropout(p=0.1, inplace=False)\n",
       "  )\n",
       ")"
      ]
     },
     "execution_count": 31,
     "metadata": {},
     "output_type": "execute_result"
    }
   ],
   "source": [
    "roberta_layer = XLMRobertaLayer(config)\n",
    "roberta_layer"
   ]
  },
  {
   "cell_type": "markdown",
   "id": "992061b3",
   "metadata": {},
   "source": [
    "# XLMRobertaEncoder"
   ]
  },
  {
   "cell_type": "code",
   "execution_count": null,
   "id": "3e0a8532",
   "metadata": {},
   "outputs": [],
   "source": [
    "XLMRobertaEncoder(\n",
    "  (layer): ModuleList(\n",
    "    (0-23): 24 x XLMRobertaLayer(\n",
    "      (attention): XLMRobertaAttention(\n",
    "        (self): XLMRobertaSelfAttention(\n",
    "          (query): Linear(in_features=1024, out_features=1024, bias=True)\n",
    "          (key): Linear(in_features=1024, out_features=1024, bias=True)\n",
    "          (value): Linear(in_features=1024, out_features=1024, bias=True)\n",
    "          (dropout): Dropout(p=0.1, inplace=False)\n",
    "        )\n",
    "        (output): XLMRobertaSelfOutput(\n",
    "          (dense): Linear(in_features=1024, out_features=1024, bias=True)\n",
    "          (LayerNorm): LayerNorm((1024,), eps=1e-05, elementwise_affine=True)\n",
    "          (dropout): Dropout(p=0.1, inplace=False)\n",
    "        )\n",
    "      )\n",
    "      (intermediate): XLMRobertaIntermediate(\n",
    "        (dense): Linear(in_features=1024, out_features=4096, bias=True)\n",
    "        (intermediate_act_fn): GELUActivation()\n",
    "      )\n",
    "      (output): XLMRobertaOutput(\n",
    "        (dense): Linear(in_features=4096, out_features=1024, bias=True)\n",
    "        (LayerNorm): LayerNorm((1024,), eps=1e-05, elementwise_affine=True)\n",
    "        (dropout): Dropout(p=0.1, inplace=False)\n",
    "      )\n",
    "    )\n",
    "  )\n",
    ")"
   ]
  },
  {
   "cell_type": "code",
   "execution_count": 30,
   "id": "b91e7304",
   "metadata": {},
   "outputs": [],
   "source": [
    "class XLMRobertaEncoder(nn.Module):\n",
    "    def __init__(self, config):\n",
    "        super(XLMRobertaEncoder, self).__init__()\n",
    "            \n",
    "        self.layer = nn.ModuleList([XLMRobertaLayer(config) for _ in range(config.num_hidden_layers)])\n",
    "        \n",
    "    def forward(self, \n",
    "                hidden_states, \n",
    "                attention_mask, \n",
    "                output_all_encoded_layers=True, \n",
    "                attention_show_fig=False):\n",
    "        \n",
    "        # 반환 값으로 사용할 리스트\n",
    "        all_encoder_layers = []\n",
    "        \n",
    "        # BertLayer 모듈의 처리 반복\n",
    "        for layer_module in self.layer:\n",
    "            \n",
    "            if attention_show_fig == True:\n",
    "                '''attention_show의 경우 attention_probs도 반환'''\n",
    "                hidden_states, attention_probs = layer_module(hidden_states, attention_mask, attention_show_fig)\n",
    "            elif attention_show_fig == False:\n",
    "                hidden_states = layer_module(hidden_states, attention_mask, attention_show_fig)\n",
    "                \n",
    "            # 반환 값으로 BertLayer에서 출력된 특징량만을 사용할 경우의 처리\n",
    "            if output_all_encoded_layers:\n",
    "                all_encoder_layers.append(hidden_states)\n",
    "                    \n",
    "        # 반환 값으로 마지막 BertLayer에서 출력된 특징량만을 사용할 경우의 처리\n",
    "        if not output_all_encoded_layers:\n",
    "            all_encoder_layers.append(hidden_states)\n",
    "            \n",
    "        # attention_show의 경우 attention_probs(마지막 12단)도 반환한다.\n",
    "        if attention_show_fig == True:\n",
    "            return all_encoder_layers, attention_probs\n",
    "        elif attention_show_fig == False:\n",
    "            return all_encoder_layers"
   ]
  },
  {
   "cell_type": "code",
   "execution_count": 33,
   "id": "26d0b696",
   "metadata": {},
   "outputs": [
    {
     "data": {
      "text/plain": [
       "XLMRobertaEncoder(\n",
       "  (layer): ModuleList(\n",
       "    (0-23): 24 x XLMRobertaLayer(\n",
       "      (attention): XLMRobertaAttention(\n",
       "        (self): XLMRobertaSelfAttention(\n",
       "          (query): Linear(in_features=1024, out_features=1024, bias=True)\n",
       "          (key): Linear(in_features=1024, out_features=1024, bias=True)\n",
       "          (value): Linear(in_features=1024, out_features=1024, bias=True)\n",
       "          (drop_out): Dropout(p=0.1, inplace=False)\n",
       "        )\n",
       "        (output): XLMRobertaSelfOutput(\n",
       "          (dense): Linear(in_features=1024, out_features=1024, bias=True)\n",
       "          (LayerNorm): LayerNorm((1024,), eps=1e-05, elementwise_affine=True)\n",
       "          (dropout): Dropout(p=0.1, inplace=False)\n",
       "        )\n",
       "      )\n",
       "      (intermediate): XLMRobertaIntermediate(\n",
       "        (dense): Linear(in_features=1024, out_features=4096, bias=True)\n",
       "        (intermediate_act_fn): GELUActivation()\n",
       "      )\n",
       "      (output): XLMRobertaOutput(\n",
       "        (dense): Linear(in_features=4096, out_features=1024, bias=True)\n",
       "        (LayerNorm): LayerNorm((1024,), eps=1e-05, elementwise_affine=True)\n",
       "        (dropout): Dropout(p=0.1, inplace=False)\n",
       "      )\n",
       "    )\n",
       "  )\n",
       ")"
      ]
     },
     "execution_count": 33,
     "metadata": {},
     "output_type": "execute_result"
    }
   ],
   "source": [
    "roberta_encoder = XLMRobertaEncoder(config)\n",
    "roberta_encoder"
   ]
  },
  {
   "cell_type": "markdown",
   "id": "4232fbce",
   "metadata": {},
   "source": [
    "# XLMRobertaModel"
   ]
  },
  {
   "cell_type": "code",
   "execution_count": null,
   "id": "26fa7205",
   "metadata": {},
   "outputs": [],
   "source": [
    "XLMRobertaModel(\n",
    "    (embeddings): XLMRobertaEmbeddings(\n",
    "      (word_embeddings): Embedding(250002, 1024, padding_idx=1)\n",
    "      (position_embeddings): Embedding(514, 1024, padding_idx=1)\n",
    "      (token_type_embeddings): Embedding(1, 1024)\n",
    "      (LayerNorm): LayerNorm((1024,), eps=1e-05, elementwise_affine=True)\n",
    "      (dropout): Dropout(p=0.1, inplace=False)\n",
    "    )\n",
    "    (encoder): XLMRobertaEncoder(\n",
    "      (layer): ModuleList(\n",
    "        (0-23): 24 x XLMRobertaLayer(\n",
    "          (attention): XLMRobertaAttention(\n",
    "            (self): XLMRobertaSelfAttention(\n",
    "              (query): Linear(in_features=1024, out_features=1024, bias=True)\n",
    "              (key): Linear(in_features=1024, out_features=1024, bias=True)\n",
    "              (value): Linear(in_features=1024, out_features=1024, bias=True)\n",
    "              (dropout): Dropout(p=0.1, inplace=False)\n",
    "            )\n",
    "            (output): XLMRobertaSelfOutput(\n",
    "              (dense): Linear(in_features=1024, out_features=1024, bias=True)\n",
    "              (LayerNorm): LayerNorm((1024,), eps=1e-05, elementwise_affine=True)\n",
    "              (dropout): Dropout(p=0.1, inplace=False)\n",
    "            )\n",
    "          )\n",
    "          (intermediate): XLMRobertaIntermediate(\n",
    "            (dense): Linear(in_features=1024, out_features=4096, bias=True)\n",
    "            (intermediate_act_fn): GELUActivation()\n",
    "          )\n",
    "          (output): XLMRobertaOutput(\n",
    "            (dense): Linear(in_features=4096, out_features=1024, bias=True)\n",
    "            (LayerNorm): LayerNorm((1024,), eps=1e-05, elementwise_affine=True)\n",
    "            (dropout): Dropout(p=0.1, inplace=False)\n",
    "          )\n",
    "        )\n",
    "      )\n",
    "    )\n",
    "  )"
   ]
  },
  {
   "cell_type": "code",
   "execution_count": 31,
   "id": "7897634e",
   "metadata": {},
   "outputs": [],
   "source": [
    "class XLMRobertaModel(nn.Module):\n",
    "    def __init__(self, config):\n",
    "        super(XLMRobertaModel, self).__init__()\n",
    "        \n",
    "        self.embeddings = XLMRobertaEmbeddings(config)\n",
    "        self.encoder = XLMRobertaEncoder(config)\n",
    "        \n",
    "    def forward(self, input_tensor, \n",
    "                attention_mask, \n",
    "                token_type_ids=None, \n",
    "                output_all_encoded_layers=True, \n",
    "                attention_show_fig=False):\n",
    "    \n",
    "        # Attention 마스크와 첫 번째, 두 번째 문장의 id가 없으면 작성\n",
    "        if attention_mask is None:\n",
    "            attention_mask = torch.one_like(input_ids)\n",
    "        if token_type_ids is None:\n",
    "            token_type_ids = torch.zeros_like(input_ids)\n",
    "        \n",
    "        # 마스크 변형 [minibatch, 1, 1, seq_length]로 한다.\n",
    "        # 나중에 Multi-Headed Self-Attention에서 사용할 수 있는 형태로 하기 위하여\n",
    "        extended_attention_mask = attention_mask.unsqueeze(1).unsqueeze(2)\n",
    "        \n",
    "        # 마스크는 0, 1 이지만 소프트맥스를 계산할 때 마스크가 되도록 0과 -inf로 한다.\n",
    "        # -inf 대신 -10000으로 한다\n",
    "        extended_attention_mask = extended_attention_mask.to(dtype=torch.float32)\n",
    "        extended_attention_mask = (1.0 - extended_attention_mask) * -10000.0\n",
    "        \n",
    "        # 순전파\n",
    "        # BertEmbeddings 모듈\n",
    "        embedding_output = self.embeddings(input_ids, token_type_ids)\n",
    "        \n",
    "        # BertLayer 모듈(Transformer)을 반복하는 BertEncoder 모듈\n",
    "        if attention_show_fig == True:\n",
    "            '''attention_show의 경우 attention_probs도 반환'''\n",
    "            encoded_layers, attention_probs = self.encoder(embedding_output,\n",
    "                                                           extended_attention_mask,\n",
    "                                                           output_all_encoded_layers,\n",
    "                                                           attention_show_fig)\n",
    "            \n",
    "        elif attention_show_fig == False:\n",
    "            encoded_layers = self.encoder(embedding_output,\n",
    "                                          extended_attention_mask,\n",
    "                                          output_all_encoded_layers,\n",
    "                                          attention_show_fig)\n",
    "        \n",
    "        \n",
    "        # output_all_encoded_layer가 False인 경우는 리스트가 아닌 텐서를 반환\n",
    "        if not output_all_encoded_layers:\n",
    "            encoded_layers = encoded_layers[-1]\n",
    "            \n",
    "        # attention_show의 경우 attention_probs(가장 마지막)도 반환한다.\n",
    "        if attention_show_fig == True:\n",
    "            return encoded_layers, attention_probs\n",
    "        elif attention_show_fig == False:\n",
    "            return encoded_layers"
   ]
  },
  {
   "cell_type": "code",
   "execution_count": 71,
   "id": "0efed394",
   "metadata": {},
   "outputs": [
    {
     "data": {
      "text/plain": [
       "XLMRobertaModel(\n",
       "  (embeddings): XLMRobertaEmbeddings(\n",
       "    (word_embeddings): Embedding(250002, 1024, padding_idx=1)\n",
       "    (position_embeddings): Embedding(514, 1024, padding_idx=1)\n",
       "    (token_type_embeddings): Embedding(1, 1024)\n",
       "    (LayerNorm): LayerNorm((1024,), eps=1e-05, elementwise_affine=True)\n",
       "    (dropout): Dropout(p=0.1, inplace=False)\n",
       "  )\n",
       "  (encoder): XLMRobertaEncoder(\n",
       "    (layer): ModuleList(\n",
       "      (0-23): 24 x XLMRobertaLayer(\n",
       "        (attention): XLMRobertaAttention(\n",
       "          (self): XLMRobertaSelfAttention(\n",
       "            (query): Linear(in_features=1024, out_features=1024, bias=True)\n",
       "            (key): Linear(in_features=1024, out_features=1024, bias=True)\n",
       "            (value): Linear(in_features=1024, out_features=1024, bias=True)\n",
       "            (drop_out): Dropout(p=0.1, inplace=False)\n",
       "          )\n",
       "          (output): XLMRobertaSelfOutput(\n",
       "            (dense): Linear(in_features=1024, out_features=1024, bias=True)\n",
       "            (LayerNorm): LayerNorm((1024,), eps=1e-05, elementwise_affine=True)\n",
       "            (dropout): Dropout(p=0.1, inplace=False)\n",
       "          )\n",
       "        )\n",
       "        (intermediate): XLMRobertaIntermediate(\n",
       "          (dense): Linear(in_features=1024, out_features=4096, bias=True)\n",
       "          (intermediate_act_fn): GELUActivation()\n",
       "        )\n",
       "        (output): XLMRobertaOutput(\n",
       "          (dense): Linear(in_features=4096, out_features=1024, bias=True)\n",
       "          (LayerNorm): LayerNorm((1024,), eps=1e-05, elementwise_affine=True)\n",
       "          (dropout): Dropout(p=0.1, inplace=False)\n",
       "        )\n",
       "      )\n",
       "    )\n",
       "  )\n",
       ")"
      ]
     },
     "execution_count": 71,
     "metadata": {},
     "output_type": "execute_result"
    }
   ],
   "source": [
    "roberta_model = XLMRobertaModel(config)\n",
    "roberta_model"
   ]
  },
  {
   "cell_type": "code",
   "execution_count": 72,
   "id": "ca1f7cad",
   "metadata": {},
   "outputs": [
    {
     "data": {
      "text/plain": [
       "=====================================================================================\n",
       "Layer (type:depth-idx)                                       Param #\n",
       "=====================================================================================\n",
       "XLMRobertaModel                                              --\n",
       "├─XLMRobertaEmbeddings: 1-1                                  --\n",
       "│    └─Embedding: 2-1                                        256,002,048\n",
       "│    └─Embedding: 2-2                                        526,336\n",
       "│    └─Embedding: 2-3                                        1,024\n",
       "│    └─LayerNorm: 2-4                                        2,048\n",
       "│    └─Dropout: 2-5                                          --\n",
       "├─XLMRobertaEncoder: 1-2                                     --\n",
       "│    └─ModuleList: 2-6                                       --\n",
       "│    │    └─XLMRobertaLayer: 3-1                             12,596,224\n",
       "│    │    └─XLMRobertaLayer: 3-2                             12,596,224\n",
       "│    │    └─XLMRobertaLayer: 3-3                             12,596,224\n",
       "│    │    └─XLMRobertaLayer: 3-4                             12,596,224\n",
       "│    │    └─XLMRobertaLayer: 3-5                             12,596,224\n",
       "│    │    └─XLMRobertaLayer: 3-6                             12,596,224\n",
       "│    │    └─XLMRobertaLayer: 3-7                             12,596,224\n",
       "│    │    └─XLMRobertaLayer: 3-8                             12,596,224\n",
       "│    │    └─XLMRobertaLayer: 3-9                             12,596,224\n",
       "│    │    └─XLMRobertaLayer: 3-10                            12,596,224\n",
       "│    │    └─XLMRobertaLayer: 3-11                            12,596,224\n",
       "│    │    └─XLMRobertaLayer: 3-12                            12,596,224\n",
       "│    │    └─XLMRobertaLayer: 3-13                            12,596,224\n",
       "│    │    └─XLMRobertaLayer: 3-14                            12,596,224\n",
       "│    │    └─XLMRobertaLayer: 3-15                            12,596,224\n",
       "│    │    └─XLMRobertaLayer: 3-16                            12,596,224\n",
       "│    │    └─XLMRobertaLayer: 3-17                            12,596,224\n",
       "│    │    └─XLMRobertaLayer: 3-18                            12,596,224\n",
       "│    │    └─XLMRobertaLayer: 3-19                            12,596,224\n",
       "│    │    └─XLMRobertaLayer: 3-20                            12,596,224\n",
       "│    │    └─XLMRobertaLayer: 3-21                            12,596,224\n",
       "│    │    └─XLMRobertaLayer: 3-22                            12,596,224\n",
       "│    │    └─XLMRobertaLayer: 3-23                            12,596,224\n",
       "│    │    └─XLMRobertaLayer: 3-24                            12,596,224\n",
       "=====================================================================================\n",
       "Total params: 558,840,832\n",
       "Trainable params: 558,840,832\n",
       "Non-trainable params: 0\n",
       "====================================================================================="
      ]
     },
     "execution_count": 72,
     "metadata": {},
     "output_type": "execute_result"
    }
   ],
   "source": [
    "ti.summary(roberta_model)"
   ]
  },
  {
   "cell_type": "markdown",
   "id": "ddae1d25",
   "metadata": {},
   "source": [
    "# XLMRobertaLMHead"
   ]
  },
  {
   "cell_type": "code",
   "execution_count": null,
   "id": "631f9b10",
   "metadata": {},
   "outputs": [],
   "source": [
    "(lm_head): XLMRobertaLMHead(\n",
    "    (dense): Linear(in_features=768, out_features=768, bias=True)\n",
    "    (layer_norm): LayerNorm((768,), eps=1e-05, elementwise_affine=True)\n",
    "    (decoder): Linear(in_features=768, out_features=250002, bias=True)\n",
    "  )"
   ]
  },
  {
   "cell_type": "code",
   "execution_count": 32,
   "id": "0ed5cceb",
   "metadata": {},
   "outputs": [],
   "source": [
    "class XLMRobertaLMHead(nn.Module):\n",
    "    def __init__(self, config):\n",
    "        super(XLMRobertaLMHead, self).__init__()\n",
    "        \n",
    "        self.dense = nn.Linear(config.hidden_size, config.hidden_size, bias=True)\n",
    "        self.layer_norm = nn.LayerNorm(config.hidden_size, eps=config.layer_norm_eps, elementwise_affine=True)\n",
    "        self.decoder = nn.Linear(config.hidden_size, config.vocab_size, bias=True)\n",
    "    \n",
    "    def forward(self, hidden_states):\n",
    "        \n",
    "        hidden_states = self.dense(hidden_states)\n",
    "        hidden_states = self.layer_norm(hidden_states)\n",
    "        hidden_states = self.decoder(hidden_states)\n",
    "        \n",
    "        return hidden_states"
   ]
  },
  {
   "cell_type": "markdown",
   "id": "ec81e559",
   "metadata": {},
   "source": [
    "# XLMRobertaForTokenClassification"
   ]
  },
  {
   "cell_type": "code",
   "execution_count": null,
   "id": "92d7d0e8",
   "metadata": {},
   "outputs": [],
   "source": [
    "XLMRobertaForTokenClassification(\n",
    "  (roberta): XLMRobertaModel(\n",
    "    (embeddings): XLMRobertaEmbeddings(\n",
    "      (word_embeddings): Embedding(250002, 1024, padding_idx=1)\n",
    "      (position_embeddings): Embedding(514, 1024, padding_idx=1)\n",
    "      (token_type_embeddings): Embedding(1, 1024)\n",
    "      (LayerNorm): LayerNorm((1024,), eps=1e-05, elementwise_affine=True)\n",
    "      (dropout): Dropout(p=0.1, inplace=False)\n",
    "    )\n",
    "    (encoder): XLMRobertaEncoder(\n",
    "      (layer): ModuleList(\n",
    "        (0-23): 24 x XLMRobertaLayer(\n",
    "          (attention): XLMRobertaAttention(\n",
    "            (self): XLMRobertaSelfAttention(\n",
    "              (query): Linear(in_features=1024, out_features=1024, bias=True)\n",
    "              (key): Linear(in_features=1024, out_features=1024, bias=True)\n",
    "              (value): Linear(in_features=1024, out_features=1024, bias=True)\n",
    "              (dropout): Dropout(p=0.1, inplace=False)\n",
    "            )\n",
    "            (output): XLMRobertaSelfOutput(\n",
    "              (dense): Linear(in_features=1024, out_features=1024, bias=True)\n",
    "              (LayerNorm): LayerNorm((1024,), eps=1e-05, elementwise_affine=True)\n",
    "              (dropout): Dropout(p=0.1, inplace=False)\n",
    "            )\n",
    "          )\n",
    "          (intermediate): XLMRobertaIntermediate(\n",
    "            (dense): Linear(in_features=1024, out_features=4096, bias=True)\n",
    "            (intermediate_act_fn): GELUActivation()\n",
    "          )\n",
    "          (output): XLMRobertaOutput(\n",
    "            (dense): Linear(in_features=4096, out_features=1024, bias=True)\n",
    "            (LayerNorm): LayerNorm((1024,), eps=1e-05, elementwise_affine=True)\n",
    "            (dropout): Dropout(p=0.1, inplace=False)\n",
    "          )\n",
    "        )\n",
    "      )\n",
    "    )\n",
    "  )\n",
    "  (dropout): Dropout(p=0.1, inplace=False)\n",
    "  (classifier): Linear(in_features=1024, out_features=2, bias=True)\n",
    ")"
   ]
  },
  {
   "cell_type": "code",
   "execution_count": 46,
   "id": "cc2fca2f",
   "metadata": {},
   "outputs": [],
   "source": [
    "class XLMRobertaForTokenClassification(nn.Module):\n",
    "    def __init__(self, config, class_num):\n",
    "        super(XLMRobertaForTokenClassification, self).__init__()\n",
    "        \n",
    "        self.roberta = XLMRobertaModel(config)\n",
    "        self.dropout = nn.Dropout(p=config.attention_probs_dropout_prob, inplace=False)\n",
    "        self.classifier = nn.Linear(config.hidden_size, class_num, bias=True)\n",
    "        \n",
    "    def forward(self, \n",
    "                input_tensor, \n",
    "                attention_mask, \n",
    "                token_type_ids=None, \n",
    "                output_all_encoded_layers=True, \n",
    "                attention_show_fig=False):\n",
    "        \n",
    "        encoded_layers = self.roberta(input_tensor, \n",
    "                         attention_mask, \n",
    "                         token_type_ids, \n",
    "                         output_all_encoded_layers, \n",
    "                         attention_show_fig)\n",
    "        \n",
    "        if not output_all_encoded_layers:\n",
    "            encoded_layers = encoded_layers[-1]\n",
    "            \n",
    "        encoded_layers = self.dropout(encoded_layers)\n",
    "        output = self.classifier(encoded_layers)\n",
    "        \n",
    "        return output"
   ]
  },
  {
   "cell_type": "code",
   "execution_count": 44,
   "id": "28bba348",
   "metadata": {
    "scrolled": false
   },
   "outputs": [
    {
     "data": {
      "text/plain": [
       "XLMRobertaForTokenClassification(\n",
       "  (roberta): XLMRobertaModel(\n",
       "    (embeddings): XLMRobertaEmbeddings(\n",
       "      (word_embeddings): Embedding(250002, 1024, padding_idx=1)\n",
       "      (position_embeddings): Embedding(514, 1024, padding_idx=1)\n",
       "      (token_type_embeddings): Embedding(1, 1024)\n",
       "      (LayerNorm): LayerNorm((1024,), eps=1e-05, elementwise_affine=True)\n",
       "      (dropout): Dropout(p=0.1, inplace=False)\n",
       "    )\n",
       "    (encoder): XLMRobertaEncoder(\n",
       "      (layer): ModuleList(\n",
       "        (0-23): 24 x XLMRobertaLayer(\n",
       "          (attention): XLMRobertaAttention(\n",
       "            (self): XLMRobertaSelfAttention(\n",
       "              (query): Linear(in_features=1024, out_features=1024, bias=True)\n",
       "              (key): Linear(in_features=1024, out_features=1024, bias=True)\n",
       "              (value): Linear(in_features=1024, out_features=1024, bias=True)\n",
       "              (drop_out): Dropout(p=0.1, inplace=False)\n",
       "            )\n",
       "            (output): XLMRobertaSelfOutput(\n",
       "              (dense): Linear(in_features=1024, out_features=1024, bias=True)\n",
       "              (LayerNorm): LayerNorm((1024,), eps=1e-05, elementwise_affine=True)\n",
       "              (dropout): Dropout(p=0.1, inplace=False)\n",
       "            )\n",
       "          )\n",
       "          (intermediate): XLMRobertaIntermediate(\n",
       "            (dense): Linear(in_features=1024, out_features=4096, bias=True)\n",
       "            (intermediate_act_fn): GELUActivation()\n",
       "          )\n",
       "          (output): XLMRobertaOutput(\n",
       "            (dense): Linear(in_features=4096, out_features=1024, bias=True)\n",
       "            (LayerNorm): LayerNorm((1024,), eps=1e-05, elementwise_affine=True)\n",
       "            (dropout): Dropout(p=0.1, inplace=False)\n",
       "          )\n",
       "        )\n",
       "      )\n",
       "    )\n",
       "  )\n",
       "  (dropout): Dropout(p=0.1, inplace=False)\n",
       "  (classifier): Linear(in_features=1024, out_features=2, bias=True)\n",
       ")"
      ]
     },
     "execution_count": 44,
     "metadata": {},
     "output_type": "execute_result"
    }
   ],
   "source": [
    "final_model = XLMRobertaForTokenClassification(config, 2)\n",
    "final_model"
   ]
  },
  {
   "cell_type": "code",
   "execution_count": 40,
   "id": "bc8f48bd",
   "metadata": {},
   "outputs": [
    {
     "data": {
      "text/plain": [
       "==========================================================================================\n",
       "Layer (type:depth-idx)                                            Param #\n",
       "==========================================================================================\n",
       "XLMRobertaForTokenClassification                                  --\n",
       "├─XLMRobertaModel: 1-1                                            --\n",
       "│    └─XLMRobertaEmbeddings: 2-1                                  --\n",
       "│    │    └─Embedding: 3-1                                        256,002,048\n",
       "│    │    └─Embedding: 3-2                                        526,336\n",
       "│    │    └─Embedding: 3-3                                        1,024\n",
       "│    │    └─LayerNorm: 3-4                                        2,048\n",
       "│    │    └─Dropout: 3-5                                          --\n",
       "│    └─XLMRobertaEncoder: 2-2                                     --\n",
       "│    │    └─ModuleList: 3-6                                       302,309,376\n",
       "├─Dropout: 1-2                                                    --\n",
       "├─Linear: 1-3                                                     2,050\n",
       "==========================================================================================\n",
       "Total params: 558,842,882\n",
       "Trainable params: 558,842,882\n",
       "Non-trainable params: 0\n",
       "=========================================================================================="
      ]
     },
     "execution_count": 40,
     "metadata": {},
     "output_type": "execute_result"
    }
   ],
   "source": [
    "ti.summary(final_model)"
   ]
  },
  {
   "cell_type": "markdown",
   "id": "418be6ec",
   "metadata": {},
   "source": [
    "# XLMRobertaForMaskedLM"
   ]
  },
  {
   "cell_type": "code",
   "execution_count": null,
   "id": "9b70b83d",
   "metadata": {},
   "outputs": [],
   "source": [
    "XLMRobertaForMaskedLM(\n",
    "  (roberta): XLMRobertaModel(\n",
    "    (embeddings): XLMRobertaEmbeddings(\n",
    "      (word_embeddings): Embedding(250002, 768, padding_idx=1)\n",
    "      (position_embeddings): Embedding(514, 768, padding_idx=1)\n",
    "      (token_type_embeddings): Embedding(1, 768)\n",
    "      (LayerNorm): LayerNorm((768,), eps=1e-05, elementwise_affine=True)\n",
    "      (dropout): Dropout(p=0.1, inplace=False)\n",
    "    )\n",
    "    (encoder): XLMRobertaEncoder(\n",
    "      (layer): ModuleList(\n",
    "        (0-11): 12 x XLMRobertaLayer(\n",
    "          (attention): XLMRobertaAttention(\n",
    "            (self): XLMRobertaSelfAttention(\n",
    "              (query): Linear(in_features=768, out_features=768, bias=True)\n",
    "              (key): Linear(in_features=768, out_features=768, bias=True)\n",
    "              (value): Linear(in_features=768, out_features=768, bias=True)\n",
    "              (dropout): Dropout(p=0.1, inplace=False)\n",
    "            )\n",
    "            (output): XLMRobertaSelfOutput(\n",
    "              (dense): Linear(in_features=768, out_features=768, bias=True)\n",
    "              (LayerNorm): LayerNorm((768,), eps=1e-05, elementwise_affine=True)\n",
    "              (dropout): Dropout(p=0.1, inplace=False)\n",
    "            )\n",
    "          )\n",
    "          (intermediate): XLMRobertaIntermediate(\n",
    "            (dense): Linear(in_features=768, out_features=3072, bias=True)\n",
    "            (intermediate_act_fn): GELUActivation()\n",
    "          )\n",
    "          (output): XLMRobertaOutput(\n",
    "            (dense): Linear(in_features=3072, out_features=768, bias=True)\n",
    "            (LayerNorm): LayerNorm((768,), eps=1e-05, elementwise_affine=True)\n",
    "            (dropout): Dropout(p=0.1, inplace=False)\n",
    "          )\n",
    "        )\n",
    "      )\n",
    "    )\n",
    "  )\n",
    "  (lm_head): XLMRobertaLMHead(\n",
    "    (dense): Linear(in_features=768, out_features=768, bias=True)\n",
    "    (layer_norm): LayerNorm((768,), eps=1e-05, elementwise_affine=True)\n",
    "    (decoder): Linear(in_features=768, out_features=250002, bias=True)\n",
    "  )\n",
    ")"
   ]
  },
  {
   "cell_type": "code",
   "execution_count": 33,
   "id": "64739b80",
   "metadata": {},
   "outputs": [],
   "source": [
    "class XLMRobertaForMaskedLM(nn.Module):\n",
    "    def __init__(self, config):\n",
    "        super(XLMRobertaForMaskedLM, self).__init__()\n",
    "        \n",
    "        self.roberta = XLMRobertaModel(config)\n",
    "        self.lm_head = XLMRobertaLMHead(config)\n",
    "        \n",
    "    def forward(self, \n",
    "                input_tensor, \n",
    "                attention_mask, \n",
    "                token_type_ids=None, \n",
    "                output_all_encoded_layers=True, \n",
    "                attention_show_fig=False):\n",
    "        \n",
    "        if attention_show_fig:\n",
    "            encoded_layers, attention_probs = self.roberta(input_tensor, \n",
    "                             attention_mask, \n",
    "                             token_type_ids, \n",
    "                             output_all_encoded_layers, \n",
    "                             attention_show_fig)\n",
    "            output = self.lm_head(encoded_layers)\n",
    "            # attention_probs = nn.Softmax(dim=-1)(attention_probs)\n",
    "            return output, attention_probs\n",
    "        else:\n",
    "            encoded_layers = self.roberta(input_tensor, \n",
    "                             attention_mask, \n",
    "                             token_type_ids, \n",
    "                             output_all_encoded_layers, \n",
    "                             attention_show_fig)\n",
    "            output = self.lm_head(encoded_layers)\n",
    "            return output"
   ]
  },
  {
   "cell_type": "code",
   "execution_count": 34,
   "id": "61f417c9",
   "metadata": {},
   "outputs": [
    {
     "data": {
      "text/plain": [
       "XLMRobertaForMaskedLM(\n",
       "  (roberta): XLMRobertaModel(\n",
       "    (embeddings): XLMRobertaEmbeddings(\n",
       "      (word_embeddings): Embedding(250002, 768, padding_idx=1)\n",
       "      (position_embeddings): Embedding(514, 768, padding_idx=1)\n",
       "      (token_type_embeddings): Embedding(1, 768)\n",
       "      (LayerNorm): LayerNorm((768,), eps=1e-05, elementwise_affine=True)\n",
       "      (dropout): Dropout(p=0.1, inplace=False)\n",
       "    )\n",
       "    (encoder): XLMRobertaEncoder(\n",
       "      (layer): ModuleList(\n",
       "        (0-11): 12 x XLMRobertaLayer(\n",
       "          (attention): XLMRobertaAttention(\n",
       "            (self): XLMRobertaSelfAttention(\n",
       "              (query): Linear(in_features=768, out_features=768, bias=True)\n",
       "              (key): Linear(in_features=768, out_features=768, bias=True)\n",
       "              (value): Linear(in_features=768, out_features=768, bias=True)\n",
       "              (drop_out): Dropout(p=0.1, inplace=False)\n",
       "            )\n",
       "            (output): XLMRobertaSelfOutput(\n",
       "              (dense): Linear(in_features=768, out_features=768, bias=True)\n",
       "              (LayerNorm): LayerNorm((768,), eps=1e-05, elementwise_affine=True)\n",
       "              (dropout): Dropout(p=0.1, inplace=False)\n",
       "            )\n",
       "          )\n",
       "          (intermediate): XLMRobertaIntermediate(\n",
       "            (dense): Linear(in_features=768, out_features=3072, bias=True)\n",
       "            (intermediate_act_fn): GELUActivation()\n",
       "          )\n",
       "          (output): XLMRobertaOutput(\n",
       "            (dense): Linear(in_features=3072, out_features=768, bias=True)\n",
       "            (LayerNorm): LayerNorm((768,), eps=1e-05, elementwise_affine=True)\n",
       "            (dropout): Dropout(p=0.1, inplace=False)\n",
       "          )\n",
       "        )\n",
       "      )\n",
       "    )\n",
       "  )\n",
       "  (lm_head): XLMRobertaLMHead(\n",
       "    (dense): Linear(in_features=768, out_features=768, bias=True)\n",
       "    (layer_norm): LayerNorm((768,), eps=1e-05, elementwise_affine=True)\n",
       "    (decoder): Linear(in_features=768, out_features=250002, bias=True)\n",
       "  )\n",
       ")"
      ]
     },
     "execution_count": 34,
     "metadata": {},
     "output_type": "execute_result"
    }
   ],
   "source": [
    "final_model = XLMRobertaForMaskedLM(config)\n",
    "final_model"
   ]
  },
  {
   "cell_type": "code",
   "execution_count": 150,
   "id": "5f87b650",
   "metadata": {
    "scrolled": false
   },
   "outputs": [
    {
     "data": {
      "text/plain": [
       "================================================================================\n",
       "Layer (type:depth-idx)                                  Param #\n",
       "================================================================================\n",
       "XLMRobertaModel                                         --\n",
       "├─XLMRobertaEmbeddings: 1-1                             --\n",
       "│    └─Embedding: 2-1                                   192,001,536\n",
       "│    └─Embedding: 2-2                                   394,752\n",
       "│    └─Embedding: 2-3                                   768\n",
       "│    └─LayerNorm: 2-4                                   1,536\n",
       "│    └─Dropout: 2-5                                     --\n",
       "├─XLMRobertaEncoder: 1-2                                --\n",
       "│    └─ModuleList: 2-6                                  --\n",
       "│    │    └─XLMRobertaLayer: 3-1                        7,087,872\n",
       "│    │    └─XLMRobertaLayer: 3-2                        7,087,872\n",
       "│    │    └─XLMRobertaLayer: 3-3                        7,087,872\n",
       "│    │    └─XLMRobertaLayer: 3-4                        7,087,872\n",
       "│    │    └─XLMRobertaLayer: 3-5                        7,087,872\n",
       "│    │    └─XLMRobertaLayer: 3-6                        7,087,872\n",
       "│    │    └─XLMRobertaLayer: 3-7                        7,087,872\n",
       "│    │    └─XLMRobertaLayer: 3-8                        7,087,872\n",
       "│    │    └─XLMRobertaLayer: 3-9                        7,087,872\n",
       "│    │    └─XLMRobertaLayer: 3-10                       7,087,872\n",
       "│    │    └─XLMRobertaLayer: 3-11                       7,087,872\n",
       "│    │    └─XLMRobertaLayer: 3-12                       7,087,872\n",
       "================================================================================\n",
       "Total params: 277,453,056\n",
       "Trainable params: 277,453,056\n",
       "Non-trainable params: 0\n",
       "================================================================================"
      ]
     },
     "execution_count": 150,
     "metadata": {},
     "output_type": "execute_result"
    }
   ],
   "source": [
    "ti.summary(final_model.roberta)"
   ]
  },
  {
   "cell_type": "code",
   "execution_count": 121,
   "id": "59dde8ad",
   "metadata": {
    "scrolled": false
   },
   "outputs": [
    {
     "data": {
      "text/plain": [
       "=====================================================================================\n",
       "Layer (type:depth-idx)                                       Param #\n",
       "=====================================================================================\n",
       "XLMRobertaForMaskedLM                                        --\n",
       "├─XLMRobertaModel: 1-1                                       --\n",
       "│    └─XLMRobertaEmbeddings: 2-1                             --\n",
       "│    │    └─Embedding: 3-1                                   192,001,536\n",
       "│    │    └─Embedding: 3-2                                   394,752\n",
       "│    │    └─Embedding: 3-3                                   768\n",
       "│    │    └─LayerNorm: 3-4                                   1,536\n",
       "│    │    └─Dropout: 3-5                                     --\n",
       "│    └─XLMRobertaEncoder: 2-2                                --\n",
       "│    │    └─ModuleList: 3-6                                  85,054,464\n",
       "├─XLMRobertaLMHead: 1-2                                      --\n",
       "│    └─Linear: 2-3                                           590,592\n",
       "│    └─LayerNorm: 2-4                                        1,536\n",
       "│    └─Linear: 2-5                                           192,251,538\n",
       "=====================================================================================\n",
       "Total params: 470,296,722\n",
       "Trainable params: 470,296,722\n",
       "Non-trainable params: 0\n",
       "====================================================================================="
      ]
     },
     "execution_count": 121,
     "metadata": {},
     "output_type": "execute_result"
    }
   ],
   "source": [
    "ti.summary(final_model)"
   ]
  },
  {
   "cell_type": "code",
   "execution_count": null,
   "id": "7b2de55f",
   "metadata": {},
   "outputs": [],
   "source": [
    "=====================================================================================\n",
    "Layer (type:depth-idx)                                       Param #\n",
    "=====================================================================================\n",
    "XLMRobertaForMaskedLM                                        --\n",
    "├─XLMRobertaModel: 1-1                                       --\n",
    "│    └─XLMRobertaEmbeddings: 2-1                             --\n",
    "│    │    └─Embedding: 3-1                                   192,001,536\n",
    "│    │    └─Embedding: 3-2                                   394,752\n",
    "│    │    └─Embedding: 3-3                                   768\n",
    "│    │    └─LayerNorm: 3-4                                   1,536\n",
    "│    │    └─Dropout: 3-5                                     --\n",
    "│    └─XLMRobertaEncoder: 2-2                                --\n",
    "│    │    └─ModuleList: 3-6                                  85,054,464\n",
    "├─XLMRobertaLMHead: 1-2                                      --\n",
    "│    └─Linear: 2-3                                           590,592\n",
    "│    └─LayerNorm: 2-4                                        1,536\n",
    "│    └─Linear: 2-5                                           192,251,538\n",
    "=====================================================================================\n",
    "Total params: 470,296,722\n",
    "Trainable params: 470,296,722\n",
    "Non-trainable params: 0\n",
    "====================================================================================="
   ]
  },
  {
   "cell_type": "markdown",
   "id": "1cdb3e55",
   "metadata": {},
   "source": [
    "# 작동확인"
   ]
  },
  {
   "cell_type": "code",
   "execution_count": 35,
   "id": "69b8350f",
   "metadata": {
    "scrolled": true
   },
   "outputs": [
    {
     "name": "stdout",
     "output_type": "stream",
     "text": [
      "input_ids shape : torch.Size([2, 9])\n",
      "attention_mask shape : torch.Size([2, 9])\n",
      "token_type_ids shape : torch.Size([2, 9])\n",
      "encoded_layers의 텐서 크기: torch.Size([2, 9, 250002])\n",
      "attention_probs의 텐서 크기: torch.Size([2, 12, 9, 9])\n"
     ]
    }
   ],
   "source": [
    "token = tokenizer(['Hi my name is DR', 'What`s is your name?'], return_tensors='pt', return_token_type_ids=True, padding=True)\n",
    "\n",
    "# 동작 확인\n",
    "# 입력 준비\n",
    "input_ids = token['input_ids']\n",
    "attention_mask = token['attention_mask']\n",
    "token_type_ids = token['token_type_ids']\n",
    "print('input_ids shape : {}'.format(input_ids.shape))\n",
    "print('attention_mask shape : {}'.format(attention_mask.shape))\n",
    "print('token_type_ids shape : {}'.format(token_type_ids.shape))\n",
    "\n",
    "# 순전파\n",
    "encoded_layers, attention_probs = final_model(input_ids, \n",
    "                             token_type_ids, \n",
    "                             attention_mask, \n",
    "                             output_all_encoded_layers=False, \n",
    "                             attention_show_fig=True)\n",
    "\n",
    "print('encoded_layers의 텐서 크기:', encoded_layers.shape)\n",
    "print('attention_probs의 텐서 크기:', attention_probs.shape)"
   ]
  },
  {
   "cell_type": "code",
   "execution_count": 36,
   "id": "19128798",
   "metadata": {
    "scrolled": true
   },
   "outputs": [
    {
     "data": {
      "text/plain": [
       "[0, 2673, 759, 9351, 83, 28235, 2]"
      ]
     },
     "execution_count": 36,
     "metadata": {},
     "output_type": "execute_result"
    }
   ],
   "source": [
    "tokenizer.encode('Hi my name is DR')"
   ]
  },
  {
   "cell_type": "code",
   "execution_count": 37,
   "id": "b843dc03",
   "metadata": {},
   "outputs": [],
   "source": [
    "# for attn in attention_probs:\n",
    "#     print(torch.where(attn > 1, attn, 0))"
   ]
  },
  {
   "cell_type": "code",
   "execution_count": 38,
   "id": "a7300768",
   "metadata": {},
   "outputs": [
    {
     "data": {
      "image/png": "[encoded data removed]",
      "text/plain": [
       "<Figure size 1200x1200 with 13 Axes>"
      ]
     },
     "metadata": {},
     "output_type": "display_data"
    }
   ],
   "source": [
    "seq = 1\n",
    "input_ids_lst = token['input_ids'][seq].tolist()\n",
    "attn_size = attention_probs[seq][0].size()[0]\n",
    "decoded_token = [tokenizer.decode(ids) for ids in input_ids_lst]\n",
    "\n",
    "fig, axs = plt.subplots(4, 3, figsize=(12, 12), layout='constrained')\n",
    "\n",
    "cmap = 'viridis'\n",
    "\n",
    "t = 0\n",
    "for x in range(4):\n",
    "    for y in range(3):\n",
    "        ax = axs[x][y]\n",
    "        pcm = ax.matshow(attention_probs[seq][t].detach(), cmap=cmap)\n",
    "        ax.xaxis.tick_bottom()\n",
    "        ax.set_xticks(range(attn_size), decoded_token, rotation=90)\n",
    "        ax.set_yticks(range(attn_size), decoded_token)\n",
    "        \n",
    "        t += 1\n",
    "        ax.set_title('{} Multi Head Attention score'.format(t))\n",
    "\n",
    "fig.colorbar(pcm, ax=axs, orientation='vertical', fraction=1, pad=0.05)\n",
    "fig.suptitle('Attention score viualization', fontsize=15)\n",
    "plt.show()"
   ]
  }
 ],
 "metadata": {
  "kernelspec": {
   "display_name": "Python 3 (ipykernel)",
   "language": "python",
   "name": "python3"
  },
  "language_info": {
   "codemirror_mode": {
    "name": "ipython",
    "version": 3
   },
   "file_extension": ".py",
   "mimetype": "text/x-python",
   "name": "python",
   "nbconvert_exporter": "python",
   "pygments_lexer": "ipython3",
   "version": "3.8.17"
  }
 },
 "nbformat": 4,
 "nbformat_minor": 5
}
