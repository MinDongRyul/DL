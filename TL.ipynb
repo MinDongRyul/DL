{
 "cells": [
  {
   "cell_type": "code",
   "execution_count": 2,
   "id": "839a7532",
   "metadata": {},
   "outputs": [],
   "source": [
    "import tensorflow as tf\n",
    "from tensorflow.keras.models import Sequential\n",
    "from tensorflow.keras.applications import Xception, VGG16, MobileNet\n",
    "from tensorflow.keras.layers import Flatten, Dense, Dropout, GlobalAveragePooling2D\n",
    "from tensorflow.keras.preprocessing.image import ImageDataGenerator"
   ]
  },
  {
   "cell_type": "code",
   "execution_count": 3,
   "id": "52e0bc72",
   "metadata": {
    "scrolled": false
   },
   "outputs": [
    {
     "name": "stdout",
     "output_type": "stream",
     "text": [
      "Downloading data from https://storage.googleapis.com/tensorflow/keras-applications/xception/xception_weights_tf_dim_ordering_tf_kernels_notop.h5\n",
      "83683744/83683744 [==============================] - 6s 0us/step\n",
      "Model: \"sequential\"\n",
      "_________________________________________________________________\n",
      " Layer (type)                Output Shape              Param #   \n",
      "=================================================================\n",
      " xception (Functional)       (None, 7, 7, 2048)        20861480  \n",
      "                                                                 \n",
      " global_average_pooling2d (G  (None, 2048)             0         \n",
      " lobalAveragePooling2D)                                          \n",
      "                                                                 \n",
      " dense (Dense)               (None, 16)                32784     \n",
      "                                                                 \n",
      " dropout (Dropout)           (None, 16)                0         \n",
      "                                                                 \n",
      " dense_1 (Dense)             (None, 2)                 34        \n",
      "                                                                 \n",
      "=================================================================\n",
      "Total params: 20,894,298\n",
      "Trainable params: 20,839,770\n",
      "Non-trainable params: 54,528\n",
      "_________________________________________________________________\n"
     ]
    }
   ],
   "source": [
    "img_width, img_height = 224, 224\n",
    "\n",
    "base_model = Xception(weights='imagenet', include_top=False, input_shape=(img_width, img_height, 3))\n",
    "# pre-trained model : Xceptions\n",
    "# include_top=False : 사전학습모델의 특징 추출기만가져옴 / True : 사전학습모델의 특징추출기와 분류기 모두 가져옴\n",
    "model = Sequential()\n",
    "\n",
    "model.add(base_model)\n",
    "\n",
    "model.add(GlobalAveragePooling2D())\n",
    "\n",
    "# user-defined classifier\n",
    "model.add(Dense(16, activation='relu'))\n",
    "model.add(Dropout(0.25))\n",
    "model.add(Dense(2, activation='softmax')) # 정답은 'cat','dog' 2개이므로 출력층 노드는 2개\n",
    "\n",
    "model.summary()"
   ]
  },
  {
   "cell_type": "markdown",
   "id": "7f9d7b67",
   "metadata": {},
   "source": [
    "## 모델 전처리"
   ]
  },
  {
   "cell_type": "code",
   "execution_count": 11,
   "id": "8e7aa100",
   "metadata": {},
   "outputs": [],
   "source": [
    "# ImageDataGenerator 정의\n",
    "train_dir = '/Users/민동률/DL/data/datasets_small/train'\n",
    "test_dir = '/Users/민동률/DL/data/datasets_small/test'\n",
    "\n",
    "# rescale=1./255 : 이미지를 읽어올때 자동으로 정규화됨\n",
    "\n",
    "train_data_gen = ImageDataGenerator(rescale=1./255, rotation_range=10, width_shift_range=0.1,\n",
    "                                    height_shift_range=0.1, shear_range=0.1, zoom_range=0.1)\n",
    "\n",
    "test_data_gen = ImageDataGenerator(rescale=1./255)"
   ]
  },
  {
   "cell_type": "code",
   "execution_count": 12,
   "id": "ae8acb57",
   "metadata": {},
   "outputs": [
    {
     "name": "stdout",
     "output_type": "stream",
     "text": [
      "Found 2000 images belonging to 2 classes.\n",
      "Found 1000 images belonging to 2 classes.\n"
     ]
    }
   ],
   "source": [
    "# categorical이므로 정답은 one-hot encoding으로 정의됨\n",
    "\n",
    "train_data = train_data_gen.flow_from_directory(train_dir, batch_size=32, color_mode = 'rgb', shuffle=True, class_mode = 'categorical',\n",
    "                                                target_size=(img_width, img_height))\n",
    "\n",
    "test_data = test_data_gen.flow_from_directory(test_dir, batch_size=32, color_mode = 'rgb', shuffle=True, class_mode = 'categorical',\n",
    "                                              target_size=(img_width, img_height))\n"
   ]
  },
  {
   "cell_type": "code",
   "execution_count": 13,
   "id": "b4f77ac3",
   "metadata": {},
   "outputs": [
    {
     "name": "stdout",
     "output_type": "stream",
     "text": [
      "dict_items([('cats', 0), ('dogs', 1)])\n",
      "dict_items([('cats', 0), ('dogs', 1)])\n"
     ]
    }
   ],
   "source": [
    "# 정답 확인\n",
    "print(train_data.class_indices.items()) \n",
    "# class_indices속성을 이용하면, 문자열로 표시되는 데이터의 정답이 어떤 숫자로 매칭되어 있는지 확인 가능\n",
    "print(test_data.class_indices.items()) "
   ]
  },
  {
   "cell_type": "markdown",
   "id": "fe86d6b2",
   "metadata": {},
   "source": [
    "## 모델 컴파일 및 학습"
   ]
  },
  {
   "cell_type": "code",
   "execution_count": 14,
   "id": "bbcb9d30",
   "metadata": {},
   "outputs": [],
   "source": [
    "model.compile(loss='categorical_crossentropy', optimizer=tf.keras.optimizers.Adam(2e-5), metrics=['accuracy'])\n",
    "# Fine-Tuning은 학습율을 낮게(2e-5) 설정해서 pre-trained weights를 조금씩 업데이트 해주는 것이 핵심  "
   ]
  },
  {
   "cell_type": "code",
   "execution_count": null,
   "id": "5509014f",
   "metadata": {
    "scrolled": false
   },
   "outputs": [
    {
     "name": "stdout",
     "output_type": "stream",
     "text": [
      "Epoch 1/30\n",
      "63/63 [==============================] - ETA: 0s - loss: 0.5529 - accuracy: 0.6975\n",
      "Epoch 1: val_loss improved from inf to 0.29042, saving model to .\\cats_and_dogs_filtered_Xception_model.h5\n",
      "63/63 [==============================] - 248s 4s/step - loss: 0.5529 - accuracy: 0.6975 - val_loss: 0.2904 - val_accuracy: 0.9290\n",
      "Epoch 2/30\n",
      "63/63 [==============================] - ETA: 0s - loss: 0.2665 - accuracy: 0.9425\n",
      "Epoch 2: val_loss improved from 0.29042 to 0.08353, saving model to .\\cats_and_dogs_filtered_Xception_model.h5\n",
      "63/63 [==============================] - 239s 4s/step - loss: 0.2665 - accuracy: 0.9425 - val_loss: 0.0835 - val_accuracy: 0.9780\n",
      "Epoch 3/30\n",
      "63/63 [==============================] - ETA: 0s - loss: 0.1404 - accuracy: 0.9690\n",
      "Epoch 3: val_loss improved from 0.08353 to 0.05767, saving model to .\\cats_and_dogs_filtered_Xception_model.h5\n",
      "63/63 [==============================] - 241s 4s/step - loss: 0.1404 - accuracy: 0.9690 - val_loss: 0.0577 - val_accuracy: 0.9800\n",
      "Epoch 4/30\n",
      "63/63 [==============================] - ETA: 0s - loss: 0.0946 - accuracy: 0.9805\n",
      "Epoch 4: val_loss improved from 0.05767 to 0.05077, saving model to .\\cats_and_dogs_filtered_Xception_model.h5\n",
      "63/63 [==============================] - 239s 4s/step - loss: 0.0946 - accuracy: 0.9805 - val_loss: 0.0508 - val_accuracy: 0.9800\n",
      "Epoch 5/30\n",
      "63/63 [==============================] - ETA: 0s - loss: 0.0724 - accuracy: 0.9860\n",
      "Epoch 5: val_loss improved from 0.05077 to 0.04853, saving model to .\\cats_and_dogs_filtered_Xception_model.h5\n",
      "63/63 [==============================] - 239s 4s/step - loss: 0.0724 - accuracy: 0.9860 - val_loss: 0.0485 - val_accuracy: 0.9810\n",
      "Epoch 6/30\n",
      "63/63 [==============================] - ETA: 0s - loss: 0.0531 - accuracy: 0.9890\n",
      "Epoch 6: val_loss improved from 0.04853 to 0.04828, saving model to .\\cats_and_dogs_filtered_Xception_model.h5\n",
      "63/63 [==============================] - 235s 4s/step - loss: 0.0531 - accuracy: 0.9890 - val_loss: 0.0483 - val_accuracy: 0.9790\n",
      "Epoch 7/30\n",
      "63/63 [==============================] - ETA: 0s - loss: 0.0506 - accuracy: 0.9890\n",
      "Epoch 7: val_loss improved from 0.04828 to 0.04673, saving model to .\\cats_and_dogs_filtered_Xception_model.h5\n",
      "63/63 [==============================] - 235s 4s/step - loss: 0.0506 - accuracy: 0.9890 - val_loss: 0.0467 - val_accuracy: 0.9830\n",
      "Epoch 8/30\n",
      "63/63 [==============================] - ETA: 0s - loss: 0.0399 - accuracy: 0.9945\n",
      "Epoch 8: val_loss improved from 0.04673 to 0.04430, saving model to .\\cats_and_dogs_filtered_Xception_model.h5\n",
      "63/63 [==============================] - 234s 4s/step - loss: 0.0399 - accuracy: 0.9945 - val_loss: 0.0443 - val_accuracy: 0.9830\n",
      "Epoch 9/30\n",
      "63/63 [==============================] - ETA: 0s - loss: 0.0468 - accuracy: 0.9945\n",
      "Epoch 9: val_loss did not improve from 0.04430\n",
      "63/63 [==============================] - 244s 4s/step - loss: 0.0468 - accuracy: 0.9945 - val_loss: 0.0485 - val_accuracy: 0.9840\n",
      "Epoch 10/30\n",
      "63/63 [==============================] - ETA: 0s - loss: 0.0340 - accuracy: 0.9955\n",
      "Epoch 10: val_loss improved from 0.04430 to 0.04365, saving model to .\\cats_and_dogs_filtered_Xception_model.h5\n",
      "63/63 [==============================] - 242s 4s/step - loss: 0.0340 - accuracy: 0.9955 - val_loss: 0.0437 - val_accuracy: 0.9840\n",
      "Epoch 11/30\n",
      "63/63 [==============================] - ETA: 0s - loss: 0.0296 - accuracy: 0.9975\n",
      "Epoch 11: val_loss improved from 0.04365 to 0.04346, saving model to .\\cats_and_dogs_filtered_Xception_model.h5\n",
      "63/63 [==============================] - 237s 4s/step - loss: 0.0296 - accuracy: 0.9975 - val_loss: 0.0435 - val_accuracy: 0.9880\n",
      "Epoch 12/30\n",
      "63/63 [==============================] - ETA: 0s - loss: 0.0291 - accuracy: 0.9980\n",
      "Epoch 12: val_loss improved from 0.04346 to 0.04101, saving model to .\\cats_and_dogs_filtered_Xception_model.h5\n",
      "63/63 [==============================] - 252s 4s/step - loss: 0.0291 - accuracy: 0.9980 - val_loss: 0.0410 - val_accuracy: 0.9850\n",
      "Epoch 13/30\n",
      "63/63 [==============================] - ETA: 0s - loss: 0.0249 - accuracy: 0.9985\n",
      "Epoch 13: val_loss did not improve from 0.04101\n",
      "63/63 [==============================] - 525s 8s/step - loss: 0.0249 - accuracy: 0.9985 - val_loss: 0.0425 - val_accuracy: 0.9840\n",
      "Epoch 14/30\n",
      "63/63 [==============================] - ETA: 0s - loss: 0.0232 - accuracy: 0.9990\n",
      "Epoch 14: val_loss did not improve from 0.04101\n",
      "63/63 [==============================] - 623s 10s/step - loss: 0.0232 - accuracy: 0.9990 - val_loss: 0.0414 - val_accuracy: 0.9850\n",
      "Epoch 15/30\n",
      "63/63 [==============================] - ETA: 0s - loss: 0.0253 - accuracy: 0.9980\n",
      "Epoch 15: val_loss did not improve from 0.04101\n",
      "63/63 [==============================] - 603s 10s/step - loss: 0.0253 - accuracy: 0.9980 - val_loss: 0.0490 - val_accuracy: 0.9810\n",
      "Epoch 16/30\n",
      "63/63 [==============================] - ETA: 0s - loss: 0.0265 - accuracy: 0.9975\n",
      "Epoch 16: val_loss did not improve from 0.04101\n",
      "63/63 [==============================] - 584s 9s/step - loss: 0.0265 - accuracy: 0.9975 - val_loss: 0.0489 - val_accuracy: 0.9830\n",
      "Epoch 17/30\n",
      "63/63 [==============================] - ETA: 0s - loss: 0.0212 - accuracy: 0.9970\n",
      "Epoch 17: val_loss improved from 0.04101 to 0.04075, saving model to .\\cats_and_dogs_filtered_Xception_model.h5\n",
      "63/63 [==============================] - 600s 10s/step - loss: 0.0212 - accuracy: 0.9970 - val_loss: 0.0408 - val_accuracy: 0.9860\n",
      "Epoch 18/30\n",
      "63/63 [==============================] - ETA: 0s - loss: 0.0179 - accuracy: 0.9975\n",
      "Epoch 18: val_loss did not improve from 0.04075\n",
      "63/63 [==============================] - 607s 10s/step - loss: 0.0179 - accuracy: 0.9975 - val_loss: 0.0447 - val_accuracy: 0.9850\n",
      "Epoch 19/30\n",
      "63/63 [==============================] - ETA: 0s - loss: 0.0283 - accuracy: 0.9955\n",
      "Epoch 19: val_loss did not improve from 0.04075\n",
      "63/63 [==============================] - 617s 10s/step - loss: 0.0283 - accuracy: 0.9955 - val_loss: 0.0487 - val_accuracy: 0.9830\n",
      "Epoch 20/30\n",
      "63/63 [==============================] - ETA: 0s - loss: 0.0216 - accuracy: 0.9980\n",
      "Epoch 20: val_loss improved from 0.04075 to 0.03984, saving model to .\\cats_and_dogs_filtered_Xception_model.h5\n",
      "63/63 [==============================] - 624s 10s/step - loss: 0.0216 - accuracy: 0.9980 - val_loss: 0.0398 - val_accuracy: 0.9860\n",
      "Epoch 21/30\n",
      "63/63 [==============================] - ETA: 0s - loss: 0.0182 - accuracy: 0.9990 \n",
      "Epoch 21: val_loss did not improve from 0.03984\n",
      "63/63 [==============================] - 710s 11s/step - loss: 0.0182 - accuracy: 0.9990 - val_loss: 0.0399 - val_accuracy: 0.9850\n",
      "Epoch 22/30\n",
      "63/63 [==============================] - ETA: 0s - loss: 0.0144 - accuracy: 0.9980\n",
      "Epoch 22: val_loss improved from 0.03984 to 0.03855, saving model to .\\cats_and_dogs_filtered_Xception_model.h5\n",
      "63/63 [==============================] - 619s 10s/step - loss: 0.0144 - accuracy: 0.9980 - val_loss: 0.0386 - val_accuracy: 0.9860\n",
      "Epoch 23/30\n",
      "63/63 [==============================] - ETA: 0s - loss: 0.0145 - accuracy: 0.9995\n",
      "Epoch 23: val_loss improved from 0.03855 to 0.03853, saving model to .\\cats_and_dogs_filtered_Xception_model.h5\n",
      "63/63 [==============================] - 622s 10s/step - loss: 0.0145 - accuracy: 0.9995 - val_loss: 0.0385 - val_accuracy: 0.9840\n",
      "Epoch 24/30\n",
      "63/63 [==============================] - ETA: 0s - loss: 0.0141 - accuracy: 0.9995\n",
      "Epoch 24: val_loss improved from 0.03853 to 0.03718, saving model to .\\cats_and_dogs_filtered_Xception_model.h5\n",
      "63/63 [==============================] - 614s 10s/step - loss: 0.0141 - accuracy: 0.9995 - val_loss: 0.0372 - val_accuracy: 0.9860\n",
      "Epoch 25/30\n",
      "63/63 [==============================] - ETA: 0s - loss: 0.0141 - accuracy: 1.0000\n",
      "Epoch 25: val_loss did not improve from 0.03718\n",
      "63/63 [==============================] - 616s 10s/step - loss: 0.0141 - accuracy: 1.0000 - val_loss: 0.0374 - val_accuracy: 0.9850\n",
      "Epoch 26/30\n",
      "63/63 [==============================] - ETA: 0s - loss: 0.0111 - accuracy: 0.9990\n",
      "Epoch 26: val_loss did not improve from 0.03718\n",
      "63/63 [==============================] - 617s 10s/step - loss: 0.0111 - accuracy: 0.9990 - val_loss: 0.0412 - val_accuracy: 0.9840\n",
      "Epoch 27/30\n"
     ]
    },
    {
     "name": "stdout",
     "output_type": "stream",
     "text": [
      "63/63 [==============================] - ETA: 0s - loss: 0.0083 - accuracy: 1.0000\n",
      "Epoch 27: val_loss did not improve from 0.03718\n",
      "63/63 [==============================] - 619s 10s/step - loss: 0.0083 - accuracy: 1.0000 - val_loss: 0.0430 - val_accuracy: 0.9840\n",
      "Epoch 28/30\n",
      "48/63 [=====================>........] - ETA: 2:10 - loss: 0.0099 - accuracy: 0.9987"
     ]
    }
   ],
   "source": [
    "from datetime import datetime\n",
    "from tensorflow.keras.callbacks import ModelCheckpoint, EarlyStopping\n",
    "\n",
    "save_file_name = './cats_and_dogs_filtered_Xception_model.h5'\n",
    "\n",
    "checkpoint = ModelCheckpoint(save_file_name, monitor='val_loss', verbose=1, save_best_only=True, mode='auto')\n",
    "\n",
    "earlystopping = EarlyStopping(monitor='val_loss', patience=5)\n",
    "\n",
    "\n",
    "hist = model.fit(train_data, epochs=30, validation_data=test_data, callbacks=[checkpoint, earlystopping])"
   ]
  },
  {
   "cell_type": "markdown",
   "id": "74dd01aa",
   "metadata": {},
   "source": [
    "## 손실 및 정확도"
   ]
  },
  {
   "cell_type": "code",
   "execution_count": null,
   "id": "4d7e25fd",
   "metadata": {},
   "outputs": [],
   "source": [
    "import matplotlib.pyplot as plt\n",
    "\n",
    "plt.title('loss trend')\n",
    "plt.grid()\n",
    "plt.xlabel('epochs')\n",
    "plt.ylabel('loss')\n",
    "plt.plot(hist.history['loss'], label='train')\n",
    "plt.plot(hist.history['val_loss'], label='validation')\n",
    "plt.legend(loc='best')\n",
    "plt.show()"
   ]
  },
  {
   "cell_type": "code",
   "execution_count": null,
   "id": "ed1c755d",
   "metadata": {},
   "outputs": [],
   "source": [
    "plt.title('accuracy trend')\n",
    "plt.grid()\n",
    "plt.xlabel('epochs')\n",
    "plt.ylabel('accuracy')\n",
    "plt.plot(hist.history['accuracy'], label='train')\n",
    "plt.plot(hist.history['val_accuracy'], label='validation')\n",
    "plt.legend(loc='best')\n",
    "plt.show()"
   ]
  },
  {
   "cell_type": "markdown",
   "id": "a91467d0",
   "metadata": {},
   "source": [
    "## 테스트 데이터 로드 및 예측"
   ]
  },
  {
   "cell_type": "code",
   "execution_count": null,
   "id": "a28f2f22",
   "metadata": {},
   "outputs": [],
   "source": [
    "import cv2\n",
    "import glob\n",
    "\n",
    "test_img_list = []\n",
    "\n",
    "test_img_name_list = glob.glob('') # 테스트 이미지 파일이름 리스트\n",
    "\n",
    "for i in range(len(test_img_name_list)):\n",
    "    \n",
    "    # 테스트 이미지 파일 로드 및 전처리\n",
    "    src_img = cv2.imread(test_img_name_list[i], cv2.IMREAD_COLOR) # 이미지 불러오기\n",
    "    src_img = cv2.resize(src_img, dsize=(img_width, img_height))  # 사이즈 조절\n",
    "    \n",
    "    dst_img = c2.cvtColor(src_img, cv2.COLOR_BGR2RGB) # 컬러 조절?\n",
    "    dst_img = dst_img / 255.0 # 정규화\n",
    "    \n",
    "    test_img_list.append(dst_img)"
   ]
  },
  {
   "cell_type": "code",
   "execution_count": null,
   "id": "39797a5b",
   "metadata": {},
   "outputs": [],
   "source": [
    "plt.figure(figsize=(8, 6))\n",
    "\n",
    "for i in range(len(test_img_list)):\n",
    "    \n",
    "    plt.subplot(2, 3, i+1)\n",
    "    plt.axis('off')\n",
    "    plt.imshow(test_img_list[i])\n",
    "    \n",
    "plt.show()"
   ]
  },
  {
   "cell_type": "code",
   "execution_count": null,
   "id": "684facd0",
   "metadata": {},
   "outputs": [],
   "source": [
    "for i in range(len(test_img_list)):\n",
    "    \n",
    "    print(test_img_list[i].shape)"
   ]
  },
  {
   "cell_type": "code",
   "execution_count": null,
   "id": "91b2b5a9",
   "metadata": {},
   "outputs": [],
   "source": [
    "import numpy as np\n",
    "\n",
    "pred = model.predict(np.array(test_img_list)) # batch차원을 추가하여 predict실행(batch_size, width, height, channel)\n",
    "\n",
    "class_name = ['cat','dog'] # ImageDataGenerator 에서 cat = 0, dog = 1\n",
    "\n",
    "plt.figure(figsize=(8, 6))\n",
    "\n",
    "for i in range(len(pred)):\n",
    "    \n",
    "    plt.subplot(2, 3, i+1)\n",
    "    prediction = str(class_name[np.argmax(pred[i])])\n",
    "    probility = '{0:0.2f}'.format(100*max(pred[i]))\n",
    "    title_str = prediction + ' , ' + probility + '%'\n",
    "    plt.axis('off')\n",
    "    plt.title(tite_str)\n",
    "    plt.imshow(test_img_list[i])\n",
    "    \n",
    "plt.show()"
   ]
  },
  {
   "cell_type": "code",
   "execution_count": null,
   "id": "ba46065c",
   "metadata": {},
   "outputs": [],
   "source": [
    " "
   ]
  }
 ],
 "metadata": {
  "kernelspec": {
   "display_name": "Python 3 (ipykernel)",
   "language": "python",
   "name": "python3"
  },
  "language_info": {
   "codemirror_mode": {
    "name": "ipython",
    "version": 3
   },
   "file_extension": ".py",
   "mimetype": "text/x-python",
   "name": "python",
   "nbconvert_exporter": "python",
   "pygments_lexer": "ipython3",
   "version": "3.10.9"
  }
 },
 "nbformat": 4,
 "nbformat_minor": 5
}
