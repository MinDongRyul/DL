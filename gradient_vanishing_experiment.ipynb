{
 "cells": [
  {
   "cell_type": "code",
   "execution_count": 35,
   "id": "3717793b",
   "metadata": {},
   "outputs": [],
   "source": [
    "'''\n",
    "Data Engineering\n",
    "'''\n",
    "\n",
    "'''\n",
    "D1. Import Libraries for Data Engineering\n",
    "'''\n",
    "import numpy as np\n",
    "\n",
    "import torch\n",
    "import torchvision\n",
    "from torchvision import datasets\n",
    "import torchvision.transforms as transforms\n",
    "\n",
    "import matplotlib.pyplot as plt\n",
    "\n",
    "from torchsummary import summary, torchsummary\n",
    "\n",
    "from torchinfo import summary as ts"
   ]
  },
  {
   "cell_type": "code",
   "execution_count": 3,
   "id": "961b6bc5",
   "metadata": {},
   "outputs": [
    {
     "name": "stdout",
     "output_type": "stream",
     "text": [
      "Files already downloaded and verified\n",
      "Files already downloaded and verified\n"
     ]
    }
   ],
   "source": [
    "'''\n",
    "D2. Load CIFAR10 data\n",
    "'''\n",
    "train_dataset = datasets.CIFAR10(root='./data', \n",
    "                             download=True,\n",
    "                             train=True,\n",
    "                             transform=transforms.ToTensor())\n",
    "\n",
    "test_dataset = datasets.CIFAR10(root='./data', \n",
    "                            download=True,\n",
    "                            train=False,\n",
    "                             transform=transforms.ToTensor())"
   ]
  },
  {
   "cell_type": "code",
   "execution_count": 4,
   "id": "2c7095b0",
   "metadata": {},
   "outputs": [
    {
     "data": {
      "text/plain": [
       "<torch._C.Generator at 0x1148c2b50>"
      ]
     },
     "execution_count": 4,
     "metadata": {},
     "output_type": "execute_result"
    }
   ],
   "source": [
    "'''\n",
    "Model Engineering\n",
    "'''\n",
    "\n",
    "'''\n",
    "M1. Import Libraries for Model Engineering\n",
    "'''\n",
    "\n",
    "import torch.nn as nn\n",
    "import torch.optim as optimizers\n",
    "\n",
    "np.random.seed(123)\n",
    "torch.manual_seed(123)"
   ]
  },
  {
   "cell_type": "code",
   "execution_count": 5,
   "id": "7507befb",
   "metadata": {},
   "outputs": [],
   "source": [
    "'''\n",
    "M2. Set Hyperparameters\n",
    "'''\n",
    "hidden_size = 256 \n",
    "output_dim = 10 # output layer dimensionality = num_classes\n",
    "EPOCHS = 30\n",
    "batch_size = 256\n",
    "learning_rate = 0.001"
   ]
  },
  {
   "cell_type": "code",
   "execution_count": 6,
   "id": "717f934f",
   "metadata": {},
   "outputs": [],
   "source": [
    "'''\n",
    "M3. DataLoader\n",
    "'''\n",
    "\n",
    "train_ds = torch.utils.data.DataLoader(dataset=train_dataset,\n",
    "                                       batch_size=batch_size, \n",
    "                                       shuffle=True)\n",
    "test_ds = torch.utils.data.DataLoader(dataset=test_dataset,\n",
    "                                      batch_size=batch_size, \n",
    "                                      shuffle=False)"
   ]
  },
  {
   "cell_type": "code",
   "execution_count": 50,
   "id": "795b3e4a",
   "metadata": {},
   "outputs": [],
   "source": [
    "'''\n",
    "M4. Build NN model\n",
    "'''\n",
    "# 3-Layers Convolution neural network with one hidden layer\n",
    "class CNN_Model(nn.Module):\n",
    "    def __init__(self):\n",
    "        super(CNN_Model, self).__init__()\n",
    "\n",
    "        # Convolution 1\n",
    "        self.conv1 = nn.Conv2d(in_channels=3, out_channels=64, kernel_size=3, stride=1, padding=0, bias=False)\n",
    "        self.relu1 = nn.ReLU()\n",
    "\n",
    "        # Max pool 1\n",
    "        self.maxpool2d1 = nn.MaxPool2d(kernel_size=2)\n",
    "\n",
    "        # Convolution 2\n",
    "        self.conv2 = nn.Conv2d(in_channels=64, out_channels=128, kernel_size=3, stride=1, padding=0, bias=False)\n",
    "        self.relu2 = nn.ReLU()\n",
    "\n",
    "        # Max pool 2\n",
    "        self.maxpool2d2 = nn.MaxPool2d(kernel_size=2)\n",
    "\n",
    "        # Convolution 3\n",
    "        self.conv3 = nn.Conv2d(in_channels=128, out_channels=256, kernel_size=3, stride=1, padding=0, bias=False)\n",
    "        self.relu3 = nn.ReLU()\n",
    "\n",
    "        # Max pool 3\n",
    "        self.maxpool2d3 = nn.MaxPool2d(kernel_size=2)\n",
    "\n",
    "        # Fully connected 1 (readout)\n",
    "        self.d1 = nn.Linear(1024, 16, bias=False) \n",
    "        self.d2 = nn.Dropout(0.2)\n",
    "        self.d3 = nn.Linear(16, output_dim) \n",
    "\n",
    "    def forward(self, x):\n",
    "        # Convolution 1\n",
    "        x = self.conv1(x)\n",
    "        x = self.relu1(x)\n",
    "\n",
    "        # Max pool 1\n",
    "        x = self.maxpool2d1(x)\n",
    "\n",
    "        # Convolution 2 \n",
    "        x = self.conv2(x)\n",
    "        x = self.relu2(x)\n",
    "\n",
    "        # Max pool 2 \n",
    "        x = self.maxpool2d2(x)\n",
    "\n",
    "        # Convolution 3\n",
    "        x = self.conv3(x)\n",
    "        x = self.relu3(x)\n",
    "\n",
    "        # Max pool 3\n",
    "        x = self.maxpool2d3(x)\n",
    "\n",
    "        # Resize\n",
    "        # Original size: (100, 256, 2, 2)\n",
    "        # out.size(0): 100\n",
    "        # New out size: (100, 256*2*2)\n",
    "        x = x.view(x.size(0), -1)\n",
    "\n",
    "        # Linear function (readout)\n",
    "        x = self.d1(x)\n",
    "        x = self.d2(x)\n",
    "        out = self.d3(x)\n",
    "        return out"
   ]
  },
  {
   "cell_type": "code",
   "execution_count": 51,
   "id": "715b2569",
   "metadata": {},
   "outputs": [],
   "source": [
    "'''\n",
    "M4. Build NN model\n",
    "'''\n",
    "# 3-Layers Convolution neural network with one hidden layer\n",
    "class CNN_Sigmoid_Model(nn.Module):\n",
    "    def __init__(self):\n",
    "        super(CNN_Sigmoid_Model, self).__init__()\n",
    "\n",
    "        # Convolution 1\n",
    "        self.conv1 = nn.Conv2d(in_channels=3, out_channels=64, kernel_size=3, stride=1, padding=0, bias=False)\n",
    "        self.sig1 = nn.Sigmoid()\n",
    "\n",
    "        # Max pool 1\n",
    "        self.maxpool2d1 = nn.MaxPool2d(kernel_size=2)\n",
    "\n",
    "        # Convolution 2\n",
    "        self.conv2 = nn.Conv2d(in_channels=64, out_channels=128, kernel_size=3, stride=1, padding=0, bias=False)\n",
    "        self.sig2 = nn.Sigmoid()\n",
    "\n",
    "        # Max pool 2\n",
    "        self.maxpool2d2 = nn.MaxPool2d(kernel_size=2)\n",
    "\n",
    "        # Convolution 3\n",
    "        self.conv3 = nn.Conv2d(in_channels=128, out_channels=256, kernel_size=3, stride=1, padding=0, bias=False)\n",
    "        self.sig3 = nn.Sigmoid()\n",
    "\n",
    "        # Max pool 3\n",
    "        self.maxpool2d3 = nn.MaxPool2d(kernel_size=2)\n",
    "\n",
    "        # Convolution 3\n",
    "        self.conv3 = nn.Conv2d(in_channels=128, out_channels=256, kernel_size=3, stride=1, padding=0, bias=False)\n",
    "        self.sig3 = nn.Sigmoid()\n",
    "\n",
    "        # Max pool 3\n",
    "        self.maxpool2d3 = nn.MaxPool2d(kernel_size=2)\n",
    "        \n",
    "        # Convolution 3\n",
    "        self.conv3 = nn.Conv2d(in_channels=128, out_channels=256, kernel_size=3, stride=1, padding=0, bias=False)\n",
    "        self.sig3 = nn.Sigmoid()\n",
    "\n",
    "        # Max pool 3\n",
    "        self.maxpool2d3 = nn.MaxPool2d(kernel_size=2)\n",
    "        \n",
    "        # Fully connected 1 (readout)\n",
    "        self.d1 = nn.Linear(1024, 16, bias=False) \n",
    "        self.d2 = nn.Dropout(0.2)\n",
    "        self.d3 = nn.Linear(16, output_dim) \n",
    "\n",
    "    def forward(self, x):\n",
    "        # Convolution 1\n",
    "        x = self.conv1(x)\n",
    "        x = self.sig1(x)\n",
    "\n",
    "        # Max pool 1\n",
    "        x = self.maxpool2d1(x)\n",
    "\n",
    "        # Convolution 2 \n",
    "        x = self.conv2(x)\n",
    "        x = self.sig2(x)\n",
    "\n",
    "        # Max pool 2 \n",
    "        x = self.maxpool2d2(x)\n",
    "\n",
    "        # Convolution 3\n",
    "        x = self.conv3(x)\n",
    "        x = self.sig3(x)\n",
    "\n",
    "        # Max pool 3\n",
    "        x = self.maxpool2d3(x)\n",
    "\n",
    "        # Resize\n",
    "        # Original size: (100, 256, 2, 2)\n",
    "        # out.size(0): 100\n",
    "        # New out size: (100, 256*2*2)\n",
    "        x = x.view(x.size(0), -1)\n",
    "\n",
    "        # Linear function (readout)\n",
    "        x = self.d1(x)\n",
    "        x = self.d2(x)\n",
    "        out = self.d3(x)\n",
    "        return out"
   ]
  },
  {
   "cell_type": "code",
   "execution_count": 138,
   "id": "54e3d305",
   "metadata": {},
   "outputs": [],
   "source": [
    "'''\n",
    "M4. Build NN model\n",
    "'''\n",
    "\n",
    "class CNN(nn.Module):\n",
    "    def __init__(self, act):\n",
    "        super().__init__()\n",
    "        if act == 'Sigmoid':\n",
    "            self.conv = nn.Sequential(\n",
    "                nn.Conv2d(in_channels=3, out_channels=16, kernel_size=3, stride=1, padding=0, bias=False),\n",
    "                nn.Sigmoid(),\n",
    "                nn.MaxPool2d(kernel_size=2),\n",
    "                *[i for j in range(5) for i in [nn.Conv2d(16, 16, 3, bias=False, padding=1), nn.Sigmoid()]],\n",
    "                nn.Conv2d(in_channels=16, out_channels=10, kernel_size=3, stride=1, padding=0, bias=False),\n",
    "                nn.Sigmoid(),\n",
    "                nn.MaxPool2d(kernel_size=2)\n",
    "            )\n",
    "        elif act == 'ReLU':\n",
    "            self.conv = nn.Sequential(\n",
    "                nn.Conv2d(in_channels=3, out_channels=16, kernel_size=3, stride=1, padding=0, bias=False),\n",
    "                nn.ReLU(),\n",
    "                nn.MaxPool2d(kernel_size=2),\n",
    "                *[i for j in range(5) for i in [nn.Conv2d(16, 16, 3, bias=False, padding=1), nn.ReLU()]],\n",
    "                nn.Conv2d(in_channels=16, out_channels=10, kernel_size=3, stride=1, padding=0, bias=False),\n",
    "                nn.ReLU(),\n",
    "                nn.MaxPool2d(kernel_size=2)\n",
    "            )\n",
    "\n",
    "        self.d1 = nn.Linear(360, output_dim, bias=False) \n",
    "        \n",
    "    def forward(self, x):\n",
    "        x = self.conv(x)\n",
    "        x = torch.flatten(x, 1)\n",
    "        x = self.d1(x)\n",
    "        return x"
   ]
  },
  {
   "cell_type": "code",
   "execution_count": 141,
   "id": "1e334c3b",
   "metadata": {
    "scrolled": false
   },
   "outputs": [
    {
     "name": "stdout",
     "output_type": "stream",
     "text": [
      "----------------------------------------------------------------\n",
      "        Layer (type)               Output Shape         Param #\n",
      "================================================================\n",
      "            Conv2d-1           [-1, 16, 30, 30]             432\n",
      "              ReLU-2           [-1, 16, 30, 30]               0\n",
      "         MaxPool2d-3           [-1, 16, 15, 15]               0\n",
      "            Conv2d-4           [-1, 16, 15, 15]           2,304\n",
      "              ReLU-5           [-1, 16, 15, 15]               0\n",
      "            Conv2d-6           [-1, 16, 15, 15]           2,304\n",
      "              ReLU-7           [-1, 16, 15, 15]               0\n",
      "            Conv2d-8           [-1, 16, 15, 15]           2,304\n",
      "              ReLU-9           [-1, 16, 15, 15]               0\n",
      "           Conv2d-10           [-1, 16, 15, 15]           2,304\n",
      "             ReLU-11           [-1, 16, 15, 15]               0\n",
      "           Conv2d-12           [-1, 16, 15, 15]           2,304\n",
      "             ReLU-13           [-1, 16, 15, 15]               0\n",
      "           Conv2d-14           [-1, 10, 13, 13]           1,440\n",
      "             ReLU-15           [-1, 10, 13, 13]               0\n",
      "        MaxPool2d-16             [-1, 10, 6, 6]               0\n",
      "           Linear-17                   [-1, 10]           3,600\n",
      "================================================================\n",
      "Total params: 16,992\n",
      "Trainable params: 16,992\n",
      "Non-trainable params: 0\n",
      "----------------------------------------------------------------\n",
      "Input size (MB): 0.01\n",
      "Forward/backward pass size (MB): 0.55\n",
      "Params size (MB): 0.06\n",
      "Estimated Total Size (MB): 0.63\n",
      "----------------------------------------------------------------\n"
     ]
    },
    {
     "data": {
      "text/plain": [
       "(None,\n",
       " =================================================================\n",
       " Layer (type:depth-idx)                   Param #\n",
       " =================================================================\n",
       " CNN                                      --\n",
       " ├─Sequential: 1-1                        --\n",
       " │    └─Conv2d: 2-1                       432\n",
       " │    └─ReLU: 2-2                         --\n",
       " │    └─MaxPool2d: 2-3                    --\n",
       " │    └─Conv2d: 2-4                       2,304\n",
       " │    └─ReLU: 2-5                         --\n",
       " │    └─Conv2d: 2-6                       2,304\n",
       " │    └─ReLU: 2-7                         --\n",
       " │    └─Conv2d: 2-8                       2,304\n",
       " │    └─ReLU: 2-9                         --\n",
       " │    └─Conv2d: 2-10                      2,304\n",
       " │    └─ReLU: 2-11                        --\n",
       " │    └─Conv2d: 2-12                      2,304\n",
       " │    └─ReLU: 2-13                        --\n",
       " │    └─Conv2d: 2-14                      1,440\n",
       " │    └─ReLU: 2-15                        --\n",
       " │    └─MaxPool2d: 2-16                   --\n",
       " ├─Linear: 1-2                            3,600\n",
       " =================================================================\n",
       " Total params: 16,992\n",
       " Trainable params: 16,992\n",
       " Non-trainable params: 0\n",
       " =================================================================)"
      ]
     },
     "execution_count": 141,
     "metadata": {},
     "output_type": "execute_result"
    }
   ],
   "source": [
    "relu_model = CNN(act='ReLU').to(device)\n",
    "summary(relu_model.to('cpu'), input_size=(3, 32, 32)), ts(relu_model.to('cpu'))"
   ]
  },
  {
   "cell_type": "code",
   "execution_count": 142,
   "id": "f005f19b",
   "metadata": {},
   "outputs": [],
   "source": [
    "'''\n",
    "M8. Define train loop\n",
    "'''\n",
    "\n",
    "def train_step(model, images, labels, NoB, optimizer, criterion):\n",
    "        \n",
    "    r_grad = torch.zeros(NoB)\n",
    "    r_weight = torch.zeros(NoB)\n",
    "        \n",
    "    model.train()\n",
    "    # origin shape: [100, 1, 28, 28]\n",
    "    images = images.to(device)\n",
    "    labels = labels.to(device)\n",
    "\n",
    "    # Forward pass\n",
    "    predictions = model(images)\n",
    "    loss = criterion(predictions, labels)\n",
    "    loss_val = loss.item()\n",
    "\n",
    "    # Backward and optimize\n",
    "    optimizer.zero_grad()\n",
    "    loss.backward()\n",
    "    optimizer.step()\n",
    "    \n",
    "    with torch.no_grad():\n",
    "        weight_list = [m.weight for m in model.modules() if isinstance(m, nn.Conv2d) or isinstance(m, nn.Linear)]\n",
    "        r_grad += torch.tensor([w.grad.abs().sum() * images.shape[0] / w.numel() for w in weight_list])\n",
    "        r_weight += torch.tensor([w.abs().sum() / w.numel() for w in weight_list])\n",
    "\n",
    "    # Pytorch need a manual coding for accuracy\n",
    "    # max returns (value ,index)\n",
    "    _, predicted = torch.max(predictions.data, 1)           \n",
    "    n_samples = labels.size(0)\n",
    "    n_correct = (predicted == labels).sum().item()\n",
    "    acc = 100.0 * n_correct / n_samples\n",
    "\n",
    "    return loss_val, acc, r_grad, r_weight"
   ]
  },
  {
   "cell_type": "code",
   "execution_count": 143,
   "id": "1d5c7daa",
   "metadata": {},
   "outputs": [],
   "source": [
    "'''\n",
    "M9. Define validation / test loop\n",
    "'''\n",
    "\n",
    "def test_step(model, images, labels):\n",
    "    model.eval()\n",
    "    # origin shape: [100, 1, 28, 28]\n",
    "    images = images.to(device)\n",
    "    labels = labels.to(device)\n",
    "\n",
    "    # Forward pass\n",
    "    predictions = model(images)\n",
    "    loss = criterion(predictions, labels)\n",
    "    loss_val = loss.item()\n",
    "\n",
    "    # Pytorch need a manual coding for accuracy\n",
    "    # max returns (value ,index)\n",
    "    _, predicted = torch.max(predictions.data, 1)           \n",
    "    n_samples = labels.size(0)\n",
    "    n_correct = (predicted == labels).sum().item()\n",
    "    acc = 100.0 * n_correct / n_samples\n",
    "\n",
    "    return loss_val, acc"
   ]
  },
  {
   "cell_type": "code",
   "execution_count": 150,
   "id": "34751100",
   "metadata": {
    "scrolled": true
   },
   "outputs": [
    {
     "name": "stdout",
     "output_type": "stream",
     "text": [
      "device : mps\n"
     ]
    },
    {
     "name": "stderr",
     "output_type": "stream",
     "text": [
      "/var/folders/bx/kws8rd4525gfj8xnyb4pbjrh0000gn/T/ipykernel_35041/814995046.py:65: TqdmDeprecationWarning: This function will be removed in tqdm==5.0.0\n",
      "Please use `tqdm.notebook.tqdm` instead of `tqdm.tqdm_notebook`\n",
      "  with tqdm_notebook(total=len(train_ds), desc=f\"Train Epoch {epoch+1}\") as pbar:\n"
     ]
    },
    {
     "data": {
      "application/vnd.jupyter.widget-view+json": {
       "model_id": "706846b687a64f509509083b7512e2d3",
       "version_major": 2,
       "version_minor": 0
      },
      "text/plain": [
       "Train Epoch 1:   0%|          | 0/196 [00:00<?, ?it/s]"
      ]
     },
     "metadata": {},
     "output_type": "display_data"
    },
    {
     "data": {
      "application/vnd.jupyter.widget-view+json": {
       "model_id": "fdd8d2171b8546608262d4a43fd5374b",
       "version_major": 2,
       "version_minor": 0
      },
      "text/plain": [
       "Train Epoch 2:   0%|          | 0/196 [00:00<?, ?it/s]"
      ]
     },
     "metadata": {},
     "output_type": "display_data"
    },
    {
     "data": {
      "application/vnd.jupyter.widget-view+json": {
       "model_id": "bea5f96bce5b4208be6c51814c6b5bac",
       "version_major": 2,
       "version_minor": 0
      },
      "text/plain": [
       "Train Epoch 3:   0%|          | 0/196 [00:00<?, ?it/s]"
      ]
     },
     "metadata": {},
     "output_type": "display_data"
    },
    {
     "data": {
      "application/vnd.jupyter.widget-view+json": {
       "model_id": "bf81bdf79a1c472cae0300d4a672b079",
       "version_major": 2,
       "version_minor": 0
      },
      "text/plain": [
       "Train Epoch 4:   0%|          | 0/196 [00:00<?, ?it/s]"
      ]
     },
     "metadata": {},
     "output_type": "display_data"
    },
    {
     "data": {
      "application/vnd.jupyter.widget-view+json": {
       "model_id": "6aaa9e3417b645b284cb2a352b2e48b0",
       "version_major": 2,
       "version_minor": 0
      },
      "text/plain": [
       "Train Epoch 5:   0%|          | 0/196 [00:00<?, ?it/s]"
      ]
     },
     "metadata": {},
     "output_type": "display_data"
    },
    {
     "data": {
      "application/vnd.jupyter.widget-view+json": {
       "model_id": "6cbe825ff0cc439a85a289b161107cd4",
       "version_major": 2,
       "version_minor": 0
      },
      "text/plain": [
       "Train Epoch 6:   0%|          | 0/196 [00:00<?, ?it/s]"
      ]
     },
     "metadata": {},
     "output_type": "display_data"
    },
    {
     "data": {
      "application/vnd.jupyter.widget-view+json": {
       "model_id": "14e9b6d010904a8b8a643205fd701f80",
       "version_major": 2,
       "version_minor": 0
      },
      "text/plain": [
       "Train Epoch 7:   0%|          | 0/196 [00:00<?, ?it/s]"
      ]
     },
     "metadata": {},
     "output_type": "display_data"
    },
    {
     "data": {
      "application/vnd.jupyter.widget-view+json": {
       "model_id": "d0cb235eacd6404b8ea909017c0a9dbd",
       "version_major": 2,
       "version_minor": 0
      },
      "text/plain": [
       "Train Epoch 8:   0%|          | 0/196 [00:00<?, ?it/s]"
      ]
     },
     "metadata": {},
     "output_type": "display_data"
    },
    {
     "data": {
      "application/vnd.jupyter.widget-view+json": {
       "model_id": "07d538056ecb48afa3e260e54945ee2b",
       "version_major": 2,
       "version_minor": 0
      },
      "text/plain": [
       "Train Epoch 9:   0%|          | 0/196 [00:00<?, ?it/s]"
      ]
     },
     "metadata": {},
     "output_type": "display_data"
    },
    {
     "data": {
      "application/vnd.jupyter.widget-view+json": {
       "model_id": "7098f1fb91e84ccfa2d7e362010bc29c",
       "version_major": 2,
       "version_minor": 0
      },
      "text/plain": [
       "Train Epoch 10:   0%|          | 0/196 [00:00<?, ?it/s]"
      ]
     },
     "metadata": {},
     "output_type": "display_data"
    },
    {
     "data": {
      "application/vnd.jupyter.widget-view+json": {
       "model_id": "9d151eccbdf942ff8e410137bd4a72e1",
       "version_major": 2,
       "version_minor": 0
      },
      "text/plain": [
       "Train Epoch 11:   0%|          | 0/196 [00:00<?, ?it/s]"
      ]
     },
     "metadata": {},
     "output_type": "display_data"
    },
    {
     "data": {
      "application/vnd.jupyter.widget-view+json": {
       "model_id": "d43bd21e95a146b3af12223bdac7e55c",
       "version_major": 2,
       "version_minor": 0
      },
      "text/plain": [
       "Train Epoch 12:   0%|          | 0/196 [00:00<?, ?it/s]"
      ]
     },
     "metadata": {},
     "output_type": "display_data"
    },
    {
     "data": {
      "application/vnd.jupyter.widget-view+json": {
       "model_id": "7cdddb2df501450c9c1b951f060b41fa",
       "version_major": 2,
       "version_minor": 0
      },
      "text/plain": [
       "Train Epoch 13:   0%|          | 0/196 [00:00<?, ?it/s]"
      ]
     },
     "metadata": {},
     "output_type": "display_data"
    },
    {
     "data": {
      "application/vnd.jupyter.widget-view+json": {
       "model_id": "5a13db6959be423da9e0a678bc702271",
       "version_major": 2,
       "version_minor": 0
      },
      "text/plain": [
       "Train Epoch 14:   0%|          | 0/196 [00:00<?, ?it/s]"
      ]
     },
     "metadata": {},
     "output_type": "display_data"
    },
    {
     "data": {
      "application/vnd.jupyter.widget-view+json": {
       "model_id": "73e29bbda81a4c46b98c7f0212fb4278",
       "version_major": 2,
       "version_minor": 0
      },
      "text/plain": [
       "Train Epoch 15:   0%|          | 0/196 [00:00<?, ?it/s]"
      ]
     },
     "metadata": {},
     "output_type": "display_data"
    },
    {
     "data": {
      "application/vnd.jupyter.widget-view+json": {
       "model_id": "7549c79059f54f8b85c393de912e8fe6",
       "version_major": 2,
       "version_minor": 0
      },
      "text/plain": [
       "Train Epoch 16:   0%|          | 0/196 [00:00<?, ?it/s]"
      ]
     },
     "metadata": {},
     "output_type": "display_data"
    },
    {
     "data": {
      "application/vnd.jupyter.widget-view+json": {
       "model_id": "54ad76f7b67841098d7126d579427aff",
       "version_major": 2,
       "version_minor": 0
      },
      "text/plain": [
       "Train Epoch 17:   0%|          | 0/196 [00:00<?, ?it/s]"
      ]
     },
     "metadata": {},
     "output_type": "display_data"
    },
    {
     "data": {
      "application/vnd.jupyter.widget-view+json": {
       "model_id": "b4d7fa6d4d214752b3213f588f41dca7",
       "version_major": 2,
       "version_minor": 0
      },
      "text/plain": [
       "Train Epoch 18:   0%|          | 0/196 [00:00<?, ?it/s]"
      ]
     },
     "metadata": {},
     "output_type": "display_data"
    },
    {
     "data": {
      "application/vnd.jupyter.widget-view+json": {
       "model_id": "7f26517e57a742fa8a27bc19baf9c151",
       "version_major": 2,
       "version_minor": 0
      },
      "text/plain": [
       "Train Epoch 19:   0%|          | 0/196 [00:00<?, ?it/s]"
      ]
     },
     "metadata": {},
     "output_type": "display_data"
    },
    {
     "data": {
      "application/vnd.jupyter.widget-view+json": {
       "model_id": "a03253e880f6414183531d3f6dc9e793",
       "version_major": 2,
       "version_minor": 0
      },
      "text/plain": [
       "Train Epoch 20:   0%|          | 0/196 [00:00<?, ?it/s]"
      ]
     },
     "metadata": {},
     "output_type": "display_data"
    },
    {
     "data": {
      "application/vnd.jupyter.widget-view+json": {
       "model_id": "04d6e580ed8e4fa9b6cf2e45a2f0e0e3",
       "version_major": 2,
       "version_minor": 0
      },
      "text/plain": [
       "Train Epoch 21:   0%|          | 0/196 [00:00<?, ?it/s]"
      ]
     },
     "metadata": {},
     "output_type": "display_data"
    },
    {
     "data": {
      "application/vnd.jupyter.widget-view+json": {
       "model_id": "09af6858c48c4b86a6d190e9e3d7b118",
       "version_major": 2,
       "version_minor": 0
      },
      "text/plain": [
       "Train Epoch 22:   0%|          | 0/196 [00:00<?, ?it/s]"
      ]
     },
     "metadata": {},
     "output_type": "display_data"
    },
    {
     "data": {
      "application/vnd.jupyter.widget-view+json": {
       "model_id": "fcc2e055a0d94946af40d8ac1297129c",
       "version_major": 2,
       "version_minor": 0
      },
      "text/plain": [
       "Train Epoch 23:   0%|          | 0/196 [00:00<?, ?it/s]"
      ]
     },
     "metadata": {},
     "output_type": "display_data"
    },
    {
     "data": {
      "application/vnd.jupyter.widget-view+json": {
       "model_id": "7340c34bfb034e3ea1c73f843edfa64d",
       "version_major": 2,
       "version_minor": 0
      },
      "text/plain": [
       "Train Epoch 24:   0%|          | 0/196 [00:00<?, ?it/s]"
      ]
     },
     "metadata": {},
     "output_type": "display_data"
    },
    {
     "data": {
      "application/vnd.jupyter.widget-view+json": {
       "model_id": "0974d3ba812c4aab89c31658d1936864",
       "version_major": 2,
       "version_minor": 0
      },
      "text/plain": [
       "Train Epoch 25:   0%|          | 0/196 [00:00<?, ?it/s]"
      ]
     },
     "metadata": {},
     "output_type": "display_data"
    },
    {
     "data": {
      "application/vnd.jupyter.widget-view+json": {
       "model_id": "5ac0a0c782914dcd99c47d8ae91b4d50",
       "version_major": 2,
       "version_minor": 0
      },
      "text/plain": [
       "Train Epoch 26:   0%|          | 0/196 [00:00<?, ?it/s]"
      ]
     },
     "metadata": {},
     "output_type": "display_data"
    },
    {
     "data": {
      "application/vnd.jupyter.widget-view+json": {
       "model_id": "4eda3f0498b046e49888f820150d7e8f",
       "version_major": 2,
       "version_minor": 0
      },
      "text/plain": [
       "Train Epoch 27:   0%|          | 0/196 [00:00<?, ?it/s]"
      ]
     },
     "metadata": {},
     "output_type": "display_data"
    },
    {
     "data": {
      "application/vnd.jupyter.widget-view+json": {
       "model_id": "7a65cc6a350746c8882260f13d769c08",
       "version_major": 2,
       "version_minor": 0
      },
      "text/plain": [
       "Train Epoch 28:   0%|          | 0/196 [00:00<?, ?it/s]"
      ]
     },
     "metadata": {},
     "output_type": "display_data"
    },
    {
     "data": {
      "application/vnd.jupyter.widget-view+json": {
       "model_id": "675bd196f6fc48558adaed08f8852e7c",
       "version_major": 2,
       "version_minor": 0
      },
      "text/plain": [
       "Train Epoch 29:   0%|          | 0/196 [00:00<?, ?it/s]"
      ]
     },
     "metadata": {},
     "output_type": "display_data"
    },
    {
     "data": {
      "application/vnd.jupyter.widget-view+json": {
       "model_id": "a3c2567f820e4bd0be10b07a584f73b3",
       "version_major": 2,
       "version_minor": 0
      },
      "text/plain": [
       "Train Epoch 30:   0%|          | 0/196 [00:00<?, ?it/s]"
      ]
     },
     "metadata": {},
     "output_type": "display_data"
    },
    {
     "data": {
      "application/vnd.jupyter.widget-view+json": {
       "model_id": "fc6cd1db136a4dae8d5d62b90d326094",
       "version_major": 2,
       "version_minor": 0
      },
      "text/plain": [
       "Train Epoch 31:   0%|          | 0/196 [00:00<?, ?it/s]"
      ]
     },
     "metadata": {},
     "output_type": "display_data"
    },
    {
     "data": {
      "application/vnd.jupyter.widget-view+json": {
       "model_id": "f772607b8fb34ffe9f6b80e9ac7e9255",
       "version_major": 2,
       "version_minor": 0
      },
      "text/plain": [
       "Train Epoch 32:   0%|          | 0/196 [00:00<?, ?it/s]"
      ]
     },
     "metadata": {},
     "output_type": "display_data"
    },
    {
     "data": {
      "application/vnd.jupyter.widget-view+json": {
       "model_id": "edcb80647d054d2aba1269ee23a289a0",
       "version_major": 2,
       "version_minor": 0
      },
      "text/plain": [
       "Train Epoch 33:   0%|          | 0/196 [00:00<?, ?it/s]"
      ]
     },
     "metadata": {},
     "output_type": "display_data"
    },
    {
     "data": {
      "application/vnd.jupyter.widget-view+json": {
       "model_id": "36d9377d0dfe49ea9edb5c6f5e4369e8",
       "version_major": 2,
       "version_minor": 0
      },
      "text/plain": [
       "Train Epoch 34:   0%|          | 0/196 [00:00<?, ?it/s]"
      ]
     },
     "metadata": {},
     "output_type": "display_data"
    },
    {
     "data": {
      "application/vnd.jupyter.widget-view+json": {
       "model_id": "8b6ff8f28e9740419904dea93d3df0a0",
       "version_major": 2,
       "version_minor": 0
      },
      "text/plain": [
       "Train Epoch 35:   0%|          | 0/196 [00:00<?, ?it/s]"
      ]
     },
     "metadata": {},
     "output_type": "display_data"
    },
    {
     "data": {
      "application/vnd.jupyter.widget-view+json": {
       "model_id": "49c486f1919a4670ab17f7183cb096e4",
       "version_major": 2,
       "version_minor": 0
      },
      "text/plain": [
       "Train Epoch 36:   0%|          | 0/196 [00:00<?, ?it/s]"
      ]
     },
     "metadata": {},
     "output_type": "display_data"
    },
    {
     "data": {
      "application/vnd.jupyter.widget-view+json": {
       "model_id": "0bdeeeabe6f943928cf94f7da320d502",
       "version_major": 2,
       "version_minor": 0
      },
      "text/plain": [
       "Train Epoch 37:   0%|          | 0/196 [00:00<?, ?it/s]"
      ]
     },
     "metadata": {},
     "output_type": "display_data"
    },
    {
     "data": {
      "application/vnd.jupyter.widget-view+json": {
       "model_id": "ebd88c34abc64c828c17d67fa97a72c1",
       "version_major": 2,
       "version_minor": 0
      },
      "text/plain": [
       "Train Epoch 38:   0%|          | 0/196 [00:00<?, ?it/s]"
      ]
     },
     "metadata": {},
     "output_type": "display_data"
    },
    {
     "data": {
      "application/vnd.jupyter.widget-view+json": {
       "model_id": "3409d28b90464874a19a85010bb79850",
       "version_major": 2,
       "version_minor": 0
      },
      "text/plain": [
       "Train Epoch 39:   0%|          | 0/196 [00:00<?, ?it/s]"
      ]
     },
     "metadata": {},
     "output_type": "display_data"
    },
    {
     "data": {
      "application/vnd.jupyter.widget-view+json": {
       "model_id": "34c2ad76d1214f2fbeb6fe5f426fa35f",
       "version_major": 2,
       "version_minor": 0
      },
      "text/plain": [
       "Train Epoch 40:   0%|          | 0/196 [00:00<?, ?it/s]"
      ]
     },
     "metadata": {},
     "output_type": "display_data"
    },
    {
     "data": {
      "application/vnd.jupyter.widget-view+json": {
       "model_id": "3e611ea3a8da43b29dceb179c9f4154a",
       "version_major": 2,
       "version_minor": 0
      },
      "text/plain": [
       "Train Epoch 41:   0%|          | 0/196 [00:00<?, ?it/s]"
      ]
     },
     "metadata": {},
     "output_type": "display_data"
    },
    {
     "data": {
      "application/vnd.jupyter.widget-view+json": {
       "model_id": "ef6f153c5f7e488b80aed669cd4d159e",
       "version_major": 2,
       "version_minor": 0
      },
      "text/plain": [
       "Train Epoch 42:   0%|          | 0/196 [00:00<?, ?it/s]"
      ]
     },
     "metadata": {},
     "output_type": "display_data"
    },
    {
     "data": {
      "application/vnd.jupyter.widget-view+json": {
       "model_id": "08378258f178476e8cba79237aa075e2",
       "version_major": 2,
       "version_minor": 0
      },
      "text/plain": [
       "Train Epoch 43:   0%|          | 0/196 [00:00<?, ?it/s]"
      ]
     },
     "metadata": {},
     "output_type": "display_data"
    },
    {
     "data": {
      "application/vnd.jupyter.widget-view+json": {
       "model_id": "ab762eb04d8a47c0991e4375a0f10c76",
       "version_major": 2,
       "version_minor": 0
      },
      "text/plain": [
       "Train Epoch 44:   0%|          | 0/196 [00:00<?, ?it/s]"
      ]
     },
     "metadata": {},
     "output_type": "display_data"
    },
    {
     "data": {
      "application/vnd.jupyter.widget-view+json": {
       "model_id": "8e0fed0229cb466095ee68d1353be0ac",
       "version_major": 2,
       "version_minor": 0
      },
      "text/plain": [
       "Train Epoch 45:   0%|          | 0/196 [00:00<?, ?it/s]"
      ]
     },
     "metadata": {},
     "output_type": "display_data"
    },
    {
     "data": {
      "application/vnd.jupyter.widget-view+json": {
       "model_id": "48f241c0f0794732beb6ad9b87ecd4ad",
       "version_major": 2,
       "version_minor": 0
      },
      "text/plain": [
       "Train Epoch 46:   0%|          | 0/196 [00:00<?, ?it/s]"
      ]
     },
     "metadata": {},
     "output_type": "display_data"
    },
    {
     "data": {
      "application/vnd.jupyter.widget-view+json": {
       "model_id": "16e6ba6b25254a45b8e7d54389ee65ad",
       "version_major": 2,
       "version_minor": 0
      },
      "text/plain": [
       "Train Epoch 47:   0%|          | 0/196 [00:00<?, ?it/s]"
      ]
     },
     "metadata": {},
     "output_type": "display_data"
    },
    {
     "data": {
      "application/vnd.jupyter.widget-view+json": {
       "model_id": "7830bdbf97a44781988caecf4da5de17",
       "version_major": 2,
       "version_minor": 0
      },
      "text/plain": [
       "Train Epoch 48:   0%|          | 0/196 [00:00<?, ?it/s]"
      ]
     },
     "metadata": {},
     "output_type": "display_data"
    },
    {
     "data": {
      "application/vnd.jupyter.widget-view+json": {
       "model_id": "2de7430cd44d43bd954cd14d2c3d8069",
       "version_major": 2,
       "version_minor": 0
      },
      "text/plain": [
       "Train Epoch 49:   0%|          | 0/196 [00:00<?, ?it/s]"
      ]
     },
     "metadata": {},
     "output_type": "display_data"
    },
    {
     "data": {
      "application/vnd.jupyter.widget-view+json": {
       "model_id": "2bfa4b64b0a043ba9ade49dea0f9f7cc",
       "version_major": 2,
       "version_minor": 0
      },
      "text/plain": [
       "Train Epoch 50:   0%|          | 0/196 [00:00<?, ?it/s]"
      ]
     },
     "metadata": {},
     "output_type": "display_data"
    },
    {
     "data": {
      "application/vnd.jupyter.widget-view+json": {
       "model_id": "b18ac316251449a995b10b477c05bc11",
       "version_major": 2,
       "version_minor": 0
      },
      "text/plain": [
       "Train Epoch 51:   0%|          | 0/196 [00:00<?, ?it/s]"
      ]
     },
     "metadata": {},
     "output_type": "display_data"
    },
    {
     "data": {
      "application/vnd.jupyter.widget-view+json": {
       "model_id": "6cf4957e53ba46ffa098c671f4d54e79",
       "version_major": 2,
       "version_minor": 0
      },
      "text/plain": [
       "Train Epoch 52:   0%|          | 0/196 [00:00<?, ?it/s]"
      ]
     },
     "metadata": {},
     "output_type": "display_data"
    },
    {
     "data": {
      "application/vnd.jupyter.widget-view+json": {
       "model_id": "5c0d97e42ede46d4925e35b7f73593ca",
       "version_major": 2,
       "version_minor": 0
      },
      "text/plain": [
       "Train Epoch 53:   0%|          | 0/196 [00:00<?, ?it/s]"
      ]
     },
     "metadata": {},
     "output_type": "display_data"
    },
    {
     "data": {
      "application/vnd.jupyter.widget-view+json": {
       "model_id": "b3ff73986f6140d7abd0357c4f3e4057",
       "version_major": 2,
       "version_minor": 0
      },
      "text/plain": [
       "Train Epoch 54:   0%|          | 0/196 [00:00<?, ?it/s]"
      ]
     },
     "metadata": {},
     "output_type": "display_data"
    },
    {
     "data": {
      "application/vnd.jupyter.widget-view+json": {
       "model_id": "6dd0b11616e744f1a1603df9ae893c07",
       "version_major": 2,
       "version_minor": 0
      },
      "text/plain": [
       "Train Epoch 55:   0%|          | 0/196 [00:00<?, ?it/s]"
      ]
     },
     "metadata": {},
     "output_type": "display_data"
    },
    {
     "data": {
      "application/vnd.jupyter.widget-view+json": {
       "model_id": "b005a3ac99d9469d8259e635e48cf189",
       "version_major": 2,
       "version_minor": 0
      },
      "text/plain": [
       "Train Epoch 56:   0%|          | 0/196 [00:00<?, ?it/s]"
      ]
     },
     "metadata": {},
     "output_type": "display_data"
    },
    {
     "data": {
      "application/vnd.jupyter.widget-view+json": {
       "model_id": "f632c0021f5040839577285c815f7ade",
       "version_major": 2,
       "version_minor": 0
      },
      "text/plain": [
       "Train Epoch 57:   0%|          | 0/196 [00:00<?, ?it/s]"
      ]
     },
     "metadata": {},
     "output_type": "display_data"
    },
    {
     "data": {
      "application/vnd.jupyter.widget-view+json": {
       "model_id": "d0473f437f54468da6501a1aef98a8f3",
       "version_major": 2,
       "version_minor": 0
      },
      "text/plain": [
       "Train Epoch 58:   0%|          | 0/196 [00:00<?, ?it/s]"
      ]
     },
     "metadata": {},
     "output_type": "display_data"
    },
    {
     "data": {
      "application/vnd.jupyter.widget-view+json": {
       "model_id": "8de4a4d0107f4d73b9d189e44f034d4e",
       "version_major": 2,
       "version_minor": 0
      },
      "text/plain": [
       "Train Epoch 59:   0%|          | 0/196 [00:00<?, ?it/s]"
      ]
     },
     "metadata": {},
     "output_type": "display_data"
    },
    {
     "data": {
      "application/vnd.jupyter.widget-view+json": {
       "model_id": "4b8ffcca67b0405a827418333d876bc3",
       "version_major": 2,
       "version_minor": 0
      },
      "text/plain": [
       "Train Epoch 60:   0%|          | 0/196 [00:00<?, ?it/s]"
      ]
     },
     "metadata": {},
     "output_type": "display_data"
    },
    {
     "data": {
      "application/vnd.jupyter.widget-view+json": {
       "model_id": "b03bfa0b6110417db32e9cc3c0815af3",
       "version_major": 2,
       "version_minor": 0
      },
      "text/plain": [
       "Train Epoch 61:   0%|          | 0/196 [00:00<?, ?it/s]"
      ]
     },
     "metadata": {},
     "output_type": "display_data"
    },
    {
     "data": {
      "application/vnd.jupyter.widget-view+json": {
       "model_id": "e1b9535cc14e4f149b69b5d99e454b30",
       "version_major": 2,
       "version_minor": 0
      },
      "text/plain": [
       "Train Epoch 62:   0%|          | 0/196 [00:00<?, ?it/s]"
      ]
     },
     "metadata": {},
     "output_type": "display_data"
    },
    {
     "data": {
      "application/vnd.jupyter.widget-view+json": {
       "model_id": "19594d6473f442f680e6fb17ee2748ba",
       "version_major": 2,
       "version_minor": 0
      },
      "text/plain": [
       "Train Epoch 63:   0%|          | 0/196 [00:00<?, ?it/s]"
      ]
     },
     "metadata": {},
     "output_type": "display_data"
    },
    {
     "data": {
      "application/vnd.jupyter.widget-view+json": {
       "model_id": "1fc966107fa241d4bd5280dbd7859969",
       "version_major": 2,
       "version_minor": 0
      },
      "text/plain": [
       "Train Epoch 64:   0%|          | 0/196 [00:00<?, ?it/s]"
      ]
     },
     "metadata": {},
     "output_type": "display_data"
    },
    {
     "data": {
      "application/vnd.jupyter.widget-view+json": {
       "model_id": "5537f93d4bea4d969dbd910060788649",
       "version_major": 2,
       "version_minor": 0
      },
      "text/plain": [
       "Train Epoch 65:   0%|          | 0/196 [00:00<?, ?it/s]"
      ]
     },
     "metadata": {},
     "output_type": "display_data"
    },
    {
     "data": {
      "application/vnd.jupyter.widget-view+json": {
       "model_id": "97486a5de6d74054917fc6412c861625",
       "version_major": 2,
       "version_minor": 0
      },
      "text/plain": [
       "Train Epoch 66:   0%|          | 0/196 [00:00<?, ?it/s]"
      ]
     },
     "metadata": {},
     "output_type": "display_data"
    },
    {
     "data": {
      "application/vnd.jupyter.widget-view+json": {
       "model_id": "9cfa855cf3be44c7a5f91bc522b83b80",
       "version_major": 2,
       "version_minor": 0
      },
      "text/plain": [
       "Train Epoch 67:   0%|          | 0/196 [00:00<?, ?it/s]"
      ]
     },
     "metadata": {},
     "output_type": "display_data"
    },
    {
     "data": {
      "application/vnd.jupyter.widget-view+json": {
       "model_id": "fc875fa0e13d4e0c9b32549f6078ecea",
       "version_major": 2,
       "version_minor": 0
      },
      "text/plain": [
       "Train Epoch 68:   0%|          | 0/196 [00:00<?, ?it/s]"
      ]
     },
     "metadata": {},
     "output_type": "display_data"
    },
    {
     "data": {
      "application/vnd.jupyter.widget-view+json": {
       "model_id": "938858fb8d6d4584a650e319309676f4",
       "version_major": 2,
       "version_minor": 0
      },
      "text/plain": [
       "Train Epoch 69:   0%|          | 0/196 [00:00<?, ?it/s]"
      ]
     },
     "metadata": {},
     "output_type": "display_data"
    },
    {
     "data": {
      "application/vnd.jupyter.widget-view+json": {
       "model_id": "5ef7199c0c6a43c79972efb86d50a1d8",
       "version_major": 2,
       "version_minor": 0
      },
      "text/plain": [
       "Train Epoch 70:   0%|          | 0/196 [00:00<?, ?it/s]"
      ]
     },
     "metadata": {},
     "output_type": "display_data"
    },
    {
     "data": {
      "application/vnd.jupyter.widget-view+json": {
       "model_id": "20d5855345e846a6969e4b4933584aa7",
       "version_major": 2,
       "version_minor": 0
      },
      "text/plain": [
       "Train Epoch 71:   0%|          | 0/196 [00:00<?, ?it/s]"
      ]
     },
     "metadata": {},
     "output_type": "display_data"
    },
    {
     "data": {
      "application/vnd.jupyter.widget-view+json": {
       "model_id": "90210b309ab54ce789a7fda56acedc83",
       "version_major": 2,
       "version_minor": 0
      },
      "text/plain": [
       "Train Epoch 72:   0%|          | 0/196 [00:00<?, ?it/s]"
      ]
     },
     "metadata": {},
     "output_type": "display_data"
    },
    {
     "data": {
      "application/vnd.jupyter.widget-view+json": {
       "model_id": "d5cd99aefdf9425dad353fc9925995ea",
       "version_major": 2,
       "version_minor": 0
      },
      "text/plain": [
       "Train Epoch 73:   0%|          | 0/196 [00:00<?, ?it/s]"
      ]
     },
     "metadata": {},
     "output_type": "display_data"
    },
    {
     "data": {
      "application/vnd.jupyter.widget-view+json": {
       "model_id": "29701bb340544676b269035e57f7a848",
       "version_major": 2,
       "version_minor": 0
      },
      "text/plain": [
       "Train Epoch 74:   0%|          | 0/196 [00:00<?, ?it/s]"
      ]
     },
     "metadata": {},
     "output_type": "display_data"
    },
    {
     "data": {
      "application/vnd.jupyter.widget-view+json": {
       "model_id": "8396110075174c938267a675a3609f68",
       "version_major": 2,
       "version_minor": 0
      },
      "text/plain": [
       "Train Epoch 75:   0%|          | 0/196 [00:00<?, ?it/s]"
      ]
     },
     "metadata": {},
     "output_type": "display_data"
    },
    {
     "data": {
      "application/vnd.jupyter.widget-view+json": {
       "model_id": "ad07537f6424498488136eb906a0c23f",
       "version_major": 2,
       "version_minor": 0
      },
      "text/plain": [
       "Train Epoch 76:   0%|          | 0/196 [00:00<?, ?it/s]"
      ]
     },
     "metadata": {},
     "output_type": "display_data"
    },
    {
     "data": {
      "application/vnd.jupyter.widget-view+json": {
       "model_id": "92f46dc870a543019d925ce9501d19da",
       "version_major": 2,
       "version_minor": 0
      },
      "text/plain": [
       "Train Epoch 77:   0%|          | 0/196 [00:00<?, ?it/s]"
      ]
     },
     "metadata": {},
     "output_type": "display_data"
    },
    {
     "data": {
      "application/vnd.jupyter.widget-view+json": {
       "model_id": "24ce3b682f674fda93166f200a9ed835",
       "version_major": 2,
       "version_minor": 0
      },
      "text/plain": [
       "Train Epoch 78:   0%|          | 0/196 [00:00<?, ?it/s]"
      ]
     },
     "metadata": {},
     "output_type": "display_data"
    },
    {
     "data": {
      "application/vnd.jupyter.widget-view+json": {
       "model_id": "b5729f332bce4946baeadb11713d0938",
       "version_major": 2,
       "version_minor": 0
      },
      "text/plain": [
       "Train Epoch 79:   0%|          | 0/196 [00:00<?, ?it/s]"
      ]
     },
     "metadata": {},
     "output_type": "display_data"
    },
    {
     "data": {
      "application/vnd.jupyter.widget-view+json": {
       "model_id": "9385d0b204ed43db81a336b58d355e64",
       "version_major": 2,
       "version_minor": 0
      },
      "text/plain": [
       "Train Epoch 80:   0%|          | 0/196 [00:00<?, ?it/s]"
      ]
     },
     "metadata": {},
     "output_type": "display_data"
    },
    {
     "data": {
      "application/vnd.jupyter.widget-view+json": {
       "model_id": "a4b5843413894fff968e7c06684cead2",
       "version_major": 2,
       "version_minor": 0
      },
      "text/plain": [
       "Train Epoch 81:   0%|          | 0/196 [00:00<?, ?it/s]"
      ]
     },
     "metadata": {},
     "output_type": "display_data"
    },
    {
     "data": {
      "application/vnd.jupyter.widget-view+json": {
       "model_id": "82e9cca119b749678bb0457736d81287",
       "version_major": 2,
       "version_minor": 0
      },
      "text/plain": [
       "Train Epoch 82:   0%|          | 0/196 [00:00<?, ?it/s]"
      ]
     },
     "metadata": {},
     "output_type": "display_data"
    },
    {
     "data": {
      "application/vnd.jupyter.widget-view+json": {
       "model_id": "193ed793e32c40648a03cb358bfb4608",
       "version_major": 2,
       "version_minor": 0
      },
      "text/plain": [
       "Train Epoch 83:   0%|          | 0/196 [00:00<?, ?it/s]"
      ]
     },
     "metadata": {},
     "output_type": "display_data"
    },
    {
     "data": {
      "application/vnd.jupyter.widget-view+json": {
       "model_id": "3bfd405f1d4344abb13db4455f5ea4b3",
       "version_major": 2,
       "version_minor": 0
      },
      "text/plain": [
       "Train Epoch 84:   0%|          | 0/196 [00:00<?, ?it/s]"
      ]
     },
     "metadata": {},
     "output_type": "display_data"
    },
    {
     "data": {
      "application/vnd.jupyter.widget-view+json": {
       "model_id": "6c5b2db9dab841549341962048a62970",
       "version_major": 2,
       "version_minor": 0
      },
      "text/plain": [
       "Train Epoch 85:   0%|          | 0/196 [00:00<?, ?it/s]"
      ]
     },
     "metadata": {},
     "output_type": "display_data"
    },
    {
     "data": {
      "application/vnd.jupyter.widget-view+json": {
       "model_id": "24794c7337634f68855b9b59749bfdd1",
       "version_major": 2,
       "version_minor": 0
      },
      "text/plain": [
       "Train Epoch 86:   0%|          | 0/196 [00:00<?, ?it/s]"
      ]
     },
     "metadata": {},
     "output_type": "display_data"
    },
    {
     "data": {
      "application/vnd.jupyter.widget-view+json": {
       "model_id": "b6c3f08e0d24486ca99a53e9333ad62c",
       "version_major": 2,
       "version_minor": 0
      },
      "text/plain": [
       "Train Epoch 87:   0%|          | 0/196 [00:00<?, ?it/s]"
      ]
     },
     "metadata": {},
     "output_type": "display_data"
    },
    {
     "data": {
      "application/vnd.jupyter.widget-view+json": {
       "model_id": "93c48881f128445bb7dfc5f5bda35dec",
       "version_major": 2,
       "version_minor": 0
      },
      "text/plain": [
       "Train Epoch 88:   0%|          | 0/196 [00:00<?, ?it/s]"
      ]
     },
     "metadata": {},
     "output_type": "display_data"
    },
    {
     "data": {
      "application/vnd.jupyter.widget-view+json": {
       "model_id": "60051c78a0a541058ebeeaffe2972153",
       "version_major": 2,
       "version_minor": 0
      },
      "text/plain": [
       "Train Epoch 89:   0%|          | 0/196 [00:00<?, ?it/s]"
      ]
     },
     "metadata": {},
     "output_type": "display_data"
    },
    {
     "data": {
      "application/vnd.jupyter.widget-view+json": {
       "model_id": "e1d154077ebe4a8ca89a871d2b6b8700",
       "version_major": 2,
       "version_minor": 0
      },
      "text/plain": [
       "Train Epoch 90:   0%|          | 0/196 [00:00<?, ?it/s]"
      ]
     },
     "metadata": {},
     "output_type": "display_data"
    },
    {
     "data": {
      "application/vnd.jupyter.widget-view+json": {
       "model_id": "43da65e377ae4087b466de9322bcba0d",
       "version_major": 2,
       "version_minor": 0
      },
      "text/plain": [
       "Train Epoch 91:   0%|          | 0/196 [00:00<?, ?it/s]"
      ]
     },
     "metadata": {},
     "output_type": "display_data"
    },
    {
     "data": {
      "application/vnd.jupyter.widget-view+json": {
       "model_id": "d364177749f94d7aaabd30e5497e60ef",
       "version_major": 2,
       "version_minor": 0
      },
      "text/plain": [
       "Train Epoch 92:   0%|          | 0/196 [00:00<?, ?it/s]"
      ]
     },
     "metadata": {},
     "output_type": "display_data"
    },
    {
     "data": {
      "application/vnd.jupyter.widget-view+json": {
       "model_id": "5d04b1836bb6466a8bc40269dd788a90",
       "version_major": 2,
       "version_minor": 0
      },
      "text/plain": [
       "Train Epoch 93:   0%|          | 0/196 [00:00<?, ?it/s]"
      ]
     },
     "metadata": {},
     "output_type": "display_data"
    },
    {
     "data": {
      "application/vnd.jupyter.widget-view+json": {
       "model_id": "58a3b12c9ccb418ebc7fddda18789f2c",
       "version_major": 2,
       "version_minor": 0
      },
      "text/plain": [
       "Train Epoch 94:   0%|          | 0/196 [00:00<?, ?it/s]"
      ]
     },
     "metadata": {},
     "output_type": "display_data"
    },
    {
     "data": {
      "application/vnd.jupyter.widget-view+json": {
       "model_id": "2df660254dce410d8be5e456c591e797",
       "version_major": 2,
       "version_minor": 0
      },
      "text/plain": [
       "Train Epoch 95:   0%|          | 0/196 [00:00<?, ?it/s]"
      ]
     },
     "metadata": {},
     "output_type": "display_data"
    },
    {
     "data": {
      "application/vnd.jupyter.widget-view+json": {
       "model_id": "2e2be12c1c184ba19f60588ef21568ac",
       "version_major": 2,
       "version_minor": 0
      },
      "text/plain": [
       "Train Epoch 96:   0%|          | 0/196 [00:00<?, ?it/s]"
      ]
     },
     "metadata": {},
     "output_type": "display_data"
    },
    {
     "data": {
      "application/vnd.jupyter.widget-view+json": {
       "model_id": "ecabb7c9bdde46dcb4922afb25be400f",
       "version_major": 2,
       "version_minor": 0
      },
      "text/plain": [
       "Train Epoch 97:   0%|          | 0/196 [00:00<?, ?it/s]"
      ]
     },
     "metadata": {},
     "output_type": "display_data"
    },
    {
     "data": {
      "application/vnd.jupyter.widget-view+json": {
       "model_id": "f16f3115918d455d8985ccdcdb67c69d",
       "version_major": 2,
       "version_minor": 0
      },
      "text/plain": [
       "Train Epoch 98:   0%|          | 0/196 [00:00<?, ?it/s]"
      ]
     },
     "metadata": {},
     "output_type": "display_data"
    },
    {
     "data": {
      "application/vnd.jupyter.widget-view+json": {
       "model_id": "7fddb6b6c6534d9983812ed2639eedcf",
       "version_major": 2,
       "version_minor": 0
      },
      "text/plain": [
       "Train Epoch 99:   0%|          | 0/196 [00:00<?, ?it/s]"
      ]
     },
     "metadata": {},
     "output_type": "display_data"
    },
    {
     "data": {
      "application/vnd.jupyter.widget-view+json": {
       "model_id": "8a710f29e12a4a2d8c62005cf88f8b14",
       "version_major": 2,
       "version_minor": 0
      },
      "text/plain": [
       "Train Epoch 100:   0%|          | 0/196 [00:00<?, ?it/s]"
      ]
     },
     "metadata": {},
     "output_type": "display_data"
    }
   ],
   "source": [
    "'''\n",
    "M5. Transfer model to GPU\n",
    "'''\n",
    "\n",
    "# Device configuration\n",
    "# device = torch.device('cuda' if torch.cuda.is_available() else 'cpu')\n",
    "\n",
    "device = torch.device('mps' if torch.backends.mps.is_available() else 'cpu')\n",
    "print('device : {}'.format(device))\n",
    "# model = CNN_Model(input_size, hidden_size, output_dim).to(device)\n",
    "relu_model = CNN(act='ReLU').to(device)\n",
    "sig_model = CNN(act='Sigmoid').to(device)\n",
    "\n",
    "'''\n",
    "M6. Optimizer\n",
    "'''\n",
    "optimizer = torch.optim.Adam(relu_model.parameters(), lr=learning_rate)\n",
    "sig_optimizer = torch.optim.Adam(sig_model.parameters(), lr=learning_rate)\n",
    "\n",
    "'''\n",
    "M7. Define Loss Fumction\n",
    "'''\n",
    "criterion = nn.CrossEntropyLoss()\n",
    "sig_criterion = nn.CrossEntropyLoss()\n",
    "\n",
    "'''\n",
    "M10. Define Episode / each step process\n",
    "'''\n",
    "from tqdm import tqdm, tqdm_notebook, trange\n",
    "\n",
    "NoT = len(train_ds.dataset)\n",
    "NoB = 0\n",
    "for idx, module in enumerate(relu_model.modules()):\n",
    "    if isinstance(module, nn.Conv2d) or isinstance(module, nn.Linear):\n",
    "        NoB += 1\n",
    "\n",
    "sig_mean_grad_history = []\n",
    "sig_mean_weight_history = []\n",
    "\n",
    "relu_mean_grad_history = []\n",
    "relu_mean_weight_history = []\n",
    "\n",
    "sig_train_losses = []\n",
    "sig_train_accuracies = []\n",
    "\n",
    "relu_train_losses = []\n",
    "relu_train_accuracies = []\n",
    "\n",
    "EPOCHS = 100\n",
    "\n",
    "for epoch in range(EPOCHS):\n",
    "    \n",
    "    relu_temp_loss = []\n",
    "    relu_temp_acc = []\n",
    "    \n",
    "    sig_temp_loss = []\n",
    "    sig_temp_acc = []\n",
    "    \n",
    "    relu_r_grad = torch.zeros(NoB) # +1 : 마지막 fc 까지 \n",
    "    relu_r_weight = torch.zeros(NoB)\n",
    "    \n",
    "    sig_r_grad = torch.zeros(NoB) # +1 : 마지막 fc 까지 \n",
    "    sig_r_weight = torch.zeros(NoB)\n",
    "    \n",
    "    with tqdm_notebook(total=len(train_ds), desc=f\"Train Epoch {epoch+1}\") as pbar:    \n",
    "        for i, (images, labels) in enumerate(train_ds):\n",
    "\n",
    "            relu_loss_val, relu_acc, relu_rgrad, relu_rweight = train_step(relu_model, \n",
    "                                                                           images, \n",
    "                                                                           labels, \n",
    "                                                                           NoB, \n",
    "                                                                           optimizer, \n",
    "                                                                           criterion)\n",
    "            \n",
    "            relu_temp_loss.append(relu_loss_val)\n",
    "            relu_temp_acc.append(relu_acc)\n",
    "            \n",
    "            relu_r_grad += relu_rgrad\n",
    "            relu_r_weight += relu_rweight\n",
    "            \n",
    "            sig_loss_val, sig_acc, sig_rgrad, sig_rweight = train_step(sig_model, \n",
    "                                                                       images, \n",
    "                                                                       labels, \n",
    "                                                                       NoB, \n",
    "                                                                       sig_optimizer, \n",
    "                                                                       sig_criterion)\n",
    "            \n",
    "            sig_temp_loss.append(sig_loss_val)\n",
    "            sig_temp_acc.append(sig_acc)\n",
    "            \n",
    "            sig_r_grad += sig_rgrad\n",
    "            sig_r_weight += sig_rweight\n",
    "            \n",
    "            pbar.update(1)\n",
    "            pbar.set_postfix_str(f\"ReLU Loss: {relu_loss_val:.4f} ({np.mean(relu_temp_loss):.4f}) Acc: {relu_acc:.3f} ({np.mean(relu_temp_acc):.3f}), \")     \n",
    "            \n",
    "    # loss, acc\n",
    "    relu_train_accuracies.append(sum(relu_temp_acc) / len(train_ds))\n",
    "    relu_train_losses.append(sum(relu_temp_loss) / len(train_ds))\n",
    "    \n",
    "    sig_train_accuracies.append(sum(sig_temp_acc) / len(train_ds))\n",
    "    sig_train_losses.append(sum(sig_temp_loss) / len(train_ds))\n",
    "     \n",
    "    # gradient, weight\n",
    "    relu_mean_grad_history += [relu_r_grad/NoT] \n",
    "    relu_mean_weight_history += [relu_r_weight/len(train_ds)]\n",
    "    \n",
    "    sig_mean_grad_history += [sig_r_grad/NoT] \n",
    "    sig_mean_weight_history += [sig_r_weight/len(train_ds)]"
   ]
  },
  {
   "cell_type": "code",
   "execution_count": 151,
   "id": "b7afaa25",
   "metadata": {},
   "outputs": [
    {
     "name": "stdout",
     "output_type": "stream",
     "text": [
      "Parameter: conv.0.weight, Gradient: 39.47504425048828\n",
      "Parameter: conv.3.weight, Gradient: 3.029339551925659\n",
      "Parameter: conv.5.weight, Gradient: 2.334834575653076\n",
      "Parameter: conv.7.weight, Gradient: 1.7223056554794312\n",
      "Parameter: conv.9.weight, Gradient: 1.9063270092010498\n",
      "Parameter: conv.11.weight, Gradient: 1.4004573822021484\n",
      "Parameter: conv.13.weight, Gradient: 1.558940052986145\n",
      "Parameter: d1.weight, Gradient: 1.1770068407058716\n"
     ]
    }
   ],
   "source": [
    "r_grad = torch.zeros(NoB) # +1 : 마지막 fc 까지\n",
    "r_weight = torch.zeros(NoB) # +1 : 마지막 fc 까지\n",
    "\n",
    "images = images.to(device)\n",
    "labels = labels.to(device)\n",
    "\n",
    "# Forward pass\n",
    "predictions = relu_model(images)\n",
    "loss = criterion(predictions, labels)\n",
    "loss_val = loss.item()\n",
    "\n",
    "# Backward and optimize\n",
    "optimizer.zero_grad()\n",
    "loss.backward()\n",
    "optimizer.step()\n",
    "\n",
    "with torch.no_grad():\n",
    "    weight_list = [m.weight for m in relu_model.modules() if isinstance(m, nn.Conv2d) or isinstance(m, nn.Linear)]\n",
    "    r_grad += torch.tensor([w.grad.abs().sum() * images.shape[0] / w.numel() for w in weight_list])\n",
    "    r_weight += torch.tensor([w.abs().sum() / w.numel() for w in weight_list])\n",
    "\n",
    "for name, param in relu_model.named_parameters():\n",
    "    if param.grad is not None:\n",
    "        print(f\"Parameter: {name}, Gradient: {param.grad.abs().sum() * (images.shape[0] / param.numel())}\")"
   ]
  },
  {
   "cell_type": "code",
   "execution_count": 157,
   "id": "1abd68c9",
   "metadata": {},
   "outputs": [
    {
     "data": {
      "image/png": "[encoded data removed]",
      "text/plain": [
       "<Figure size 1000x800 with 4 Axes>"
      ]
     },
     "metadata": {},
     "output_type": "display_data"
    }
   ],
   "source": [
    "fig, axs = plt.subplots(2, 2, figsize=(10, 8), layout='constrained')\n",
    "\n",
    "relu_ymax_grad = max([i.max().item() for i in relu_mean_grad_history])*1.1\n",
    "relu_ymax_weight = max([i.max().item() for i in relu_mean_weight_history])*1.1\n",
    "\n",
    "i = 1\n",
    "\n",
    "x_axis = [f\"conv {i}\" for i in range(1,8)]+[f\"fc {i}\" for i in range(1, 2)]\n",
    "\n",
    "ax = axs[0][0]\n",
    "ax.bar(x_axis,relu_mean_grad_history[i].cpu(), width=0.8)\n",
    "ax.set_ylim([0,relu_ymax_grad])\n",
    "ax.set_xlabel(\"layer\")\n",
    "ax.set_ylabel(\"mean absolute value\")\n",
    "ax.set_title(\"ReLU gradient\")\n",
    "\n",
    "ax = axs[0][1]\n",
    "ax.bar(x_axis,relu_mean_weight_history[i].cpu(), width=0.8)\n",
    "ax.set_ylim([0,relu_ymax_weight])\n",
    "ax.set_xlabel(\"layer\")\n",
    "ax.set_ylabel(\"mean absolute value\")\n",
    "ax.set_title(\"ReLU weight\")\n",
    "\n",
    "sig_ymax_grad = max([i.max().item() for i in sig_mean_grad_history])*1.1\n",
    "sig_ymax_weight = max([i.max().item() for i in sig_mean_weight_history])*1.1\n",
    "\n",
    "ax = axs[1][0]\n",
    "ax.bar(x_axis,sig_mean_grad_history[i].cpu(), width=0.8)\n",
    "ax.set_ylim([0, sig_ymax_grad])\n",
    "ax.set_xlabel(\"layer\")\n",
    "ax.set_ylabel(\"mean absolute value\")\n",
    "ax.set_title(\"Sigmoid gradient\")\n",
    "\n",
    "ax = axs[1][1]\n",
    "ax.bar(x_axis,sig_mean_weight_history[i].cpu(), width=0.8)\n",
    "ax.set_ylim([0, sig_ymax_weight])\n",
    "ax.set_xlabel(\"layer\")\n",
    "ax.set_ylabel(\"mean absolute value\")\n",
    "ax.set_title(\"Sigmoid weight\")\n",
    "\n",
    "fig.suptitle('ReLU vs Sigmoid Gradient and Weight', fontsize=15)\n",
    "plt.show()"
   ]
  },
  {
   "cell_type": "code",
   "execution_count": 183,
   "id": "879b68e5",
   "metadata": {},
   "outputs": [
    {
     "data": {
      "text/plain": [
       "([tensor([1.4561e-08, 3.9446e-08, 2.2690e-07, 1.2466e-06, 9.9191e-06, 6.9647e-05,\n",
       "          7.9116e-04, 3.4350e-03]),\n",
       "  tensor([6.2329e-09, 5.5573e-09, 1.8084e-08, 9.6244e-08, 9.2243e-07, 8.2846e-06,\n",
       "          2.2160e-04, 5.1297e-04]),\n",
       "  tensor([8.0391e-09, 6.3792e-09, 1.2885e-08, 4.9717e-08, 3.6648e-07, 3.3720e-06,\n",
       "          1.2855e-04, 3.0897e-04]),\n",
       "  tensor([1.0300e-08, 7.5475e-09, 1.1705e-08, 3.6412e-08, 2.0806e-07, 1.8829e-06,\n",
       "          8.2613e-05, 2.0734e-04]),\n",
       "  tensor([1.2558e-07, 3.8772e-08, 5.1717e-08, 1.1181e-07, 3.2624e-07, 1.6172e-06,\n",
       "          6.7806e-05, 1.5666e-04])],\n",
       " [tensor([0.0307, 0.0110, 0.0068, 0.0066, 0.0084, 0.0078, 0.0134, 0.0055]),\n",
       "  tensor([0.0258, 0.0098, 0.0060, 0.0059, 0.0074, 0.0072, 0.0126, 0.0054]),\n",
       "  tensor([0.0261, 0.0094, 0.0058, 0.0059, 0.0075, 0.0072, 0.0128, 0.0054]),\n",
       "  tensor([0.0308, 0.0113, 0.0069, 0.0066, 0.0079, 0.0076, 0.0129, 0.0054]),\n",
       "  tensor([0.0309, 0.0109, 0.0068, 0.0068, 0.0084, 0.0083, 0.0143, 0.0055])])"
      ]
     },
     "execution_count": 183,
     "metadata": {},
     "output_type": "execute_result"
    }
   ],
   "source": [
    "sig_mean_grad_history[:5], sig_mean_grad_history[-5:]"
   ]
  },
  {
   "cell_type": "code",
   "execution_count": 154,
   "id": "1f33e57a",
   "metadata": {},
   "outputs": [
    {
     "data": {
      "image/png": "[encoded data removed]",
      "text/plain": [
       "<Figure size 1000x800 with 4 Axes>"
      ]
     },
     "metadata": {},
     "output_type": "display_data"
    }
   ],
   "source": [
    "fig, axs = plt.subplots(2, 2, figsize=(10, 8), layout='constrained')\n",
    "\n",
    "xaxis = np.arange(1, EPOCHS+1)\n",
    "\n",
    "ax = axs[0][0]\n",
    "ax.plot(xaxis, relu_train_losses)\n",
    "ax.set_ylim([0,2.5])\n",
    "ax.set_xlabel(\"epoch\")\n",
    "ax.set_ylabel(\"loss\")\n",
    "ax.set_title(\"ReLU Loss\")\n",
    "\n",
    "ax = axs[0][1]\n",
    "ax.plot(xaxis, sig_train_losses)\n",
    "ax.set_ylim([0,2.5])\n",
    "ax.set_xlabel(\"epoch\")\n",
    "ax.set_title(\"Sigmoid Loss\")\n",
    "\n",
    "ax = axs[1][0]\n",
    "ax.plot(xaxis, relu_train_accuracies)\n",
    "ax.set_ylim([0,100])\n",
    "ax.set_xlabel(\"epoch\")\n",
    "ax.set_ylabel(\"accuracy\")\n",
    "ax.set_title(\"ReLU Accuracy\")\n",
    "\n",
    "ax = axs[1][1]\n",
    "ax.plot(xaxis, sig_train_accuracies)\n",
    "ax.set_ylim([0,100])\n",
    "ax.set_xlabel(\"epoch\")\n",
    "ax.set_title(\"Sigmoid Accuracy\")\n",
    "\n",
    "fig.suptitle('ReLU vs Sigmoid Loss and Accuracy', fontsize=15)\n",
    "plt.show()"
   ]
  },
  {
   "cell_type": "code",
   "execution_count": 155,
   "id": "2559f008",
   "metadata": {},
   "outputs": [
    {
     "name": "stderr",
     "output_type": "stream",
     "text": [
      "/var/folders/bx/kws8rd4525gfj8xnyb4pbjrh0000gn/T/ipykernel_35041/89647063.py:7: TqdmDeprecationWarning: This function will be removed in tqdm==5.0.0\n",
      "Please use `tqdm.notebook.tqdm` instead of `tqdm.tqdm_notebook`\n",
      "  with tqdm_notebook(total=len(test_ds), desc=f\"Test_ Epoch {epoch+1}\") as pbar:\n"
     ]
    },
    {
     "data": {
      "application/vnd.jupyter.widget-view+json": {
       "model_id": "ca3e9c40d815467a94290b9413269924",
       "version_major": 2,
       "version_minor": 0
      },
      "text/plain": [
       "Test_ Epoch 100:   0%|          | 0/40 [00:00<?, ?it/s]"
      ]
     },
     "metadata": {},
     "output_type": "display_data"
    }
   ],
   "source": [
    "'''\n",
    "M11. Model evaluation\n",
    "'''\n",
    "# In test phase, we don't need to compute gradients (for memory efficiency)\n",
    "with torch.no_grad():\n",
    "\n",
    "    with tqdm_notebook(total=len(test_ds), desc=f\"Test_ Epoch {epoch+1}\") as pbar:    \n",
    "        test_losses = []\n",
    "        test_accuracies = []\n",
    "\n",
    "        for images, labels in test_ds:\n",
    "            loss_val, acc = test_step(relu_model, images, labels)\n",
    "\n",
    "            test_losses.append(loss_val)\n",
    "            test_accuracies.append(acc)\n",
    "\n",
    "            pbar.update(1)\n",
    "            pbar.set_postfix_str(f\"Loss: {loss_val:.4f} ({np.mean(test_losses):.4f}) Acc: {acc:.3f} ({np.mean(test_accuracies):.3f})\")"
   ]
  },
  {
   "cell_type": "code",
   "execution_count": 160,
   "id": "3fbbf5bf",
   "metadata": {},
   "outputs": [
    {
     "data": {
      "text/plain": [
       "(0.9781741976737977, 67.578125)"
      ]
     },
     "execution_count": 160,
     "metadata": {},
     "output_type": "execute_result"
    }
   ],
   "source": [
    "np.mean(test_losses), np.mean(test_accuracies)"
   ]
  },
  {
   "cell_type": "code",
   "execution_count": 182,
   "id": "dc636a32",
   "metadata": {},
   "outputs": [
    {
     "data": {
      "image/png": "[encoded data removed]",
      "text/plain": [
       "<Figure size 1200x500 with 2 Axes>"
      ]
     },
     "metadata": {},
     "output_type": "display_data"
    }
   ],
   "source": [
    "fig, axs = plt.subplots(1, 2, figsize=(12, 5))\n",
    "\n",
    "ax = axs[0]\n",
    "ax.plot(test_losses)\n",
    "ax.set_title('Loss(mean) : {:.4f}'.format(np.mean(test_losses)))\n",
    "\n",
    "ax = axs[1]\n",
    "ax.plot(test_accuracies)\n",
    "ax.set_title('Acc(mean) : {:.4f}'.format(np.mean(test_accuracies)))\n",
    "\n",
    "plt.suptitle('Test Loss & Acc', fontsize = 16)\n",
    "plt.show()"
   ]
  }
 ],
 "metadata": {
  "kernelspec": {
   "display_name": "Python 3 (ipykernel)",
   "language": "python",
   "name": "python3"
  },
  "language_info": {
   "codemirror_mode": {
    "name": "ipython",
    "version": 3
   },
   "file_extension": ".py",
   "mimetype": "text/x-python",
   "name": "python",
   "nbconvert_exporter": "python",
   "pygments_lexer": "ipython3",
   "version": "3.8.17"
  }
 },
 "nbformat": 4,
 "nbformat_minor": 5
}
