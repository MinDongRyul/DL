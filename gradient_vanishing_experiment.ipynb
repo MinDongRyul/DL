{
 "cells": [
  {
   "cell_type": "code",
   "execution_count": 57,
   "id": "7d095333",
   "metadata": {},
   "outputs": [],
   "source": [
    "'''\n",
    "Data Engineering\n",
    "'''\n",
    "\n",
    "'''\n",
    "D1. Import Libraries for Data Engineering\n",
    "'''\n",
    "import numpy as np\n",
    "\n",
    "import torch\n",
    "import torchvision\n",
    "from torchvision import datasets\n",
    "import torchvision.transforms as transforms\n",
    "\n",
    "import matplotlib.pyplot as plt"
   ]
  },
  {
   "cell_type": "code",
   "execution_count": 2,
   "id": "769817e9",
   "metadata": {},
   "outputs": [
    {
     "name": "stdout",
     "output_type": "stream",
     "text": [
      "Downloading https://www.cs.toronto.edu/~kriz/cifar-10-python.tar.gz to ./data/cifar-10-python.tar.gz\n"
     ]
    },
    {
     "name": "stderr",
     "output_type": "stream",
     "text": [
      "100%|████████████████████████| 170498071/170498071 [00:17<00:00, 9725614.40it/s]\n"
     ]
    },
    {
     "name": "stdout",
     "output_type": "stream",
     "text": [
      "Extracting ./data/cifar-10-python.tar.gz to ./data\n",
      "Files already downloaded and verified\n"
     ]
    }
   ],
   "source": [
    "'''\n",
    "D2. Load CIFAR10 data\n",
    "'''\n",
    "train_dataset = datasets.CIFAR10(root='./data', \n",
    "                             download=True,\n",
    "                             train=True,\n",
    "                             transform=transforms.ToTensor())\n",
    "\n",
    "test_dataset = datasets.CIFAR10(root='./data', \n",
    "                            download=True,\n",
    "                            train=False,\n",
    "                             transform=transforms.ToTensor())"
   ]
  },
  {
   "cell_type": "code",
   "execution_count": 3,
   "id": "ac407796",
   "metadata": {},
   "outputs": [
    {
     "data": {
      "text/plain": [
       "<torch._C.Generator at 0x113602190>"
      ]
     },
     "execution_count": 3,
     "metadata": {},
     "output_type": "execute_result"
    }
   ],
   "source": [
    "'''\n",
    "Model Engineering\n",
    "'''\n",
    "\n",
    "'''\n",
    "M1. Import Libraries for Model Engineering\n",
    "'''\n",
    "\n",
    "import torch.nn as nn\n",
    "import torch.optim as optimizers\n",
    "\n",
    "np.random.seed(123)\n",
    "torch.manual_seed(123)"
   ]
  },
  {
   "cell_type": "code",
   "execution_count": 383,
   "id": "06f63214",
   "metadata": {},
   "outputs": [],
   "source": [
    "'''\n",
    "M2. Set Hyperparameters\n",
    "'''\n",
    "hidden_size = 256 \n",
    "output_dim = 10 # output layer dimensionality = num_classes\n",
    "EPOCHS = 30\n",
    "batch_size = 256\n",
    "learning_rate = 0.001"
   ]
  },
  {
   "cell_type": "code",
   "execution_count": 384,
   "id": "27beab2d",
   "metadata": {},
   "outputs": [],
   "source": [
    "'''\n",
    "M3. DataLoader\n",
    "'''\n",
    "\n",
    "train_ds = torch.utils.data.DataLoader(dataset=train_dataset,\n",
    "                                       batch_size=batch_size, \n",
    "                                       shuffle=True)\n",
    "test_ds = torch.utils.data.DataLoader(dataset=test_dataset,\n",
    "                                      batch_size=batch_size, \n",
    "                                      shuffle=False)"
   ]
  },
  {
   "cell_type": "code",
   "execution_count": 473,
   "id": "06fd4fb7",
   "metadata": {},
   "outputs": [],
   "source": [
    "'''\n",
    "M4. Build NN model\n",
    "'''\n",
    "# 3-Layers Convolution neural network with one hidden layer\n",
    "class CNN_Model(nn.Module):\n",
    "    def __init__(self):\n",
    "        super(CNN_Model, self).__init__()\n",
    "\n",
    "        # Convolution 1\n",
    "        self.conv1 = nn.Conv2d(in_channels=3, out_channels=3, kernel_size=3, stride=1, padding=0, bias=False)\n",
    "        self.relu1 = nn.ReLU()\n",
    "\n",
    "        # Max pool 1\n",
    "        self.maxpool2d1 = nn.MaxPool2d(kernel_size=2)\n",
    "\n",
    "        # Convolution 2\n",
    "        self.conv2 = nn.Conv2d(in_channels=3, out_channels=3, kernel_size=3, stride=1, padding=0, bias=False)\n",
    "        self.relu2 = nn.ReLU()\n",
    "\n",
    "        # Max pool 2\n",
    "        self.maxpool2d2 = nn.MaxPool2d(kernel_size=2)\n",
    "\n",
    "        # Convolution 3\n",
    "        self.conv3 = nn.Conv2d(in_channels=3, out_channels=3, kernel_size=3, stride=1, padding=0, bias=False)\n",
    "        self.relu3 = nn.ReLU()\n",
    "\n",
    "        # Max pool 3\n",
    "        self.maxpool2d3 = nn.MaxPool2d(kernel_size=2)\n",
    "\n",
    "        # Fully connected 1 (readout)\n",
    "        self.d1 = nn.Linear(3 * 2 * 2, output_dim, bias=False) \n",
    "#         self.d2 = nn.Dropout(0.2)\n",
    "#         self.d3 = nn.Linear(16, output_dim) \n",
    "\n",
    "    def forward(self, x):\n",
    "        # Convolution 1\n",
    "        x = self.conv1(x)\n",
    "        x = self.relu1(x)\n",
    "\n",
    "        # Max pool 1\n",
    "        x = self.maxpool2d1(x)\n",
    "\n",
    "        # Convolution 2 \n",
    "        x = self.conv2(x)\n",
    "        x = self.relu2(x)\n",
    "\n",
    "        # Max pool 2 \n",
    "        x = self.maxpool2d2(x)\n",
    "\n",
    "        # Convolution 3\n",
    "        x = self.conv3(x)\n",
    "        x = self.relu3(x)\n",
    "\n",
    "        # Max pool 3\n",
    "        x = self.maxpool2d3(x)\n",
    "\n",
    "        # Resize\n",
    "        # Original size: (100, 256, 2, 2)\n",
    "        # out.size(0): 100\n",
    "        # New out size: (100, 256*2*2)\n",
    "        x = x.view(x.size(0), -1)\n",
    "\n",
    "        # Linear function (readout)\n",
    "        out = self.d1(x)\n",
    "        # x = self.d2(x)\n",
    "        # out = self.d3(x)\n",
    "        return out"
   ]
  },
  {
   "cell_type": "code",
   "execution_count": 474,
   "id": "27f7f938",
   "metadata": {},
   "outputs": [],
   "source": [
    "'''\n",
    "M4. Build NN model\n",
    "'''\n",
    "# 3-Layers Convolution neural network with one hidden layer\n",
    "class CNN_Sigmoid_Model(nn.Module):\n",
    "    def __init__(self):\n",
    "        super(CNN_Sigmoid_Model, self).__init__()\n",
    "\n",
    "        # Convolution 1\n",
    "        self.conv1 = nn.Conv2d(in_channels=3, out_channels=3, kernel_size=3, stride=1, padding=0, bias=False)\n",
    "        self.sig1 = nn.Sigmoid()\n",
    "\n",
    "        # Max pool 1\n",
    "        self.maxpool2d1 = nn.MaxPool2d(kernel_size=2)\n",
    "\n",
    "        # Convolution 2\n",
    "        self.conv2 = nn.Conv2d(in_channels=3, out_channels=3, kernel_size=3, stride=1, padding=0, bias=False)\n",
    "        self.sig2 = nn.Sigmoid()\n",
    "\n",
    "        # Max pool 2\n",
    "        self.maxpool2d2 = nn.MaxPool2d(kernel_size=2)\n",
    "\n",
    "        # Convolution 3\n",
    "        self.conv3 = nn.Conv2d(in_channels=3, out_channels=3, kernel_size=3, stride=1, padding=0, bias=False)\n",
    "        self.sig3 = nn.Sigmoid()\n",
    "\n",
    "        # Max pool 3\n",
    "        self.maxpool2d3 = nn.MaxPool2d(kernel_size=2)\n",
    "\n",
    "        # Fully connected 1 (readout)\n",
    "        self.d1 = nn.Linear(3 * 2 * 2, output_dim, bias=False) \n",
    "#         self.d2 = nn.Dropout(0.2)\n",
    "#         self.d3 = nn.Linear(16, output_dim) \n",
    "\n",
    "    def forward(self, x):\n",
    "        # Convolution 1\n",
    "        x = self.conv1(x)\n",
    "        x = self.sig1(x)\n",
    "\n",
    "        # Max pool 1\n",
    "        x = self.maxpool2d1(x)\n",
    "\n",
    "        # Convolution 2 \n",
    "        x = self.conv2(x)\n",
    "        x = self.sig2(x)\n",
    "\n",
    "        # Max pool 2 \n",
    "        x = self.maxpool2d2(x)\n",
    "\n",
    "        # Convolution 3\n",
    "        x = self.conv3(x)\n",
    "        x = self.sig3(x)\n",
    "\n",
    "        # Max pool 3\n",
    "        x = self.maxpool2d3(x)\n",
    "\n",
    "        # Resize\n",
    "        # Original size: (100, 256, 2, 2)\n",
    "        # out.size(0): 100\n",
    "        # New out size: (100, 256*2*2)\n",
    "        x = x.view(x.size(0), -1)\n",
    "\n",
    "        # Linear function (readout)\n",
    "        out = self.d1(x)\n",
    "        # x = self.d2(x)\n",
    "        # out = self.d3(x)\n",
    "        return out"
   ]
  },
  {
   "cell_type": "code",
   "execution_count": 387,
   "id": "c7bbd431",
   "metadata": {},
   "outputs": [],
   "source": [
    "'''\n",
    "M8. Define train loop\n",
    "'''\n",
    "\n",
    "def train_step(model, images, labels, NoB):\n",
    "        \n",
    "    r_grad = torch.zeros(NoB+1)\n",
    "    r_weight = torch.zeros(NoB+1)\n",
    "        \n",
    "    model.train()\n",
    "    # origin shape: [100, 1, 28, 28]\n",
    "    images = images.to(device)\n",
    "    labels = labels.to(device)\n",
    "\n",
    "    # Forward pass\n",
    "    predictions = model(images)\n",
    "    loss = criterion(predictions, labels)\n",
    "    loss_val = loss.item()\n",
    "\n",
    "    # Backward and optimize\n",
    "    optimizer.zero_grad()\n",
    "    loss.backward()\n",
    "    optimizer.step()\n",
    "    \n",
    "    with torch.no_grad():\n",
    "        weight_list = [m.weight for m in model.modules() if isinstance(m, nn.Conv2d) or isinstance(m, nn.Linear)]\n",
    "        r_grad += torch.tensor([w.grad.abs().sum() * images.shape[0] / w.numel() for w in weight_list])\n",
    "        r_weight += torch.tensor([w.abs().sum() / w.numel() for w in weight_list])\n",
    "\n",
    "    # Pytorch need a manual coding for accuracy\n",
    "    # max returns (value ,index)\n",
    "    _, predicted = torch.max(predictions.data, 1)           \n",
    "    n_samples = labels.size(0)\n",
    "    n_correct = (predicted == labels).sum().item()\n",
    "    acc = 100.0 * n_correct / n_samples\n",
    "\n",
    "    return loss_val, acc, r_grad, r_weight"
   ]
  },
  {
   "cell_type": "code",
   "execution_count": 388,
   "id": "83d68338",
   "metadata": {},
   "outputs": [],
   "source": [
    "'''\n",
    "M9. Define validation / test loop\n",
    "'''\n",
    "\n",
    "def test_step(model, images, labels):\n",
    "    model.eval()\n",
    "    # origin shape: [100, 1, 28, 28]\n",
    "    images = images.to(device)\n",
    "    labels = labels.to(device)\n",
    "\n",
    "    # Forward pass\n",
    "    predictions = model(images)\n",
    "    loss = criterion(predictions, labels)\n",
    "    loss_val = loss.item()\n",
    "\n",
    "    # Pytorch need a manual coding for accuracy\n",
    "    # max returns (value ,index)\n",
    "    _, predicted = torch.max(predictions.data, 1)           \n",
    "    n_samples = labels.size(0)\n",
    "    n_correct = (predicted == labels).sum().item()\n",
    "    acc = 100.0 * n_correct / n_samples\n",
    "\n",
    "    return loss_val, acc"
   ]
  },
  {
   "cell_type": "code",
   "execution_count": 482,
   "id": "8739bb2b",
   "metadata": {
    "scrolled": true
   },
   "outputs": [
    {
     "name": "stdout",
     "output_type": "stream",
     "text": [
      "device : mps\n"
     ]
    },
    {
     "name": "stderr",
     "output_type": "stream",
     "text": [
      "/var/folders/bx/kws8rd4525gfj8xnyb4pbjrh0000gn/T/ipykernel_892/3394310837.py:60: TqdmDeprecationWarning: This function will be removed in tqdm==5.0.0\n",
      "Please use `tqdm.notebook.tqdm` instead of `tqdm.tqdm_notebook`\n",
      "  with tqdm_notebook(total=len(train_ds), desc=f\"Train Epoch {epoch+1}\") as pbar:\n"
     ]
    },
    {
     "data": {
      "application/vnd.jupyter.widget-view+json": {
       "model_id": "70dd6e3f5360489295b8427430500f95",
       "version_major": 2,
       "version_minor": 0
      },
      "text/plain": [
       "Train Epoch 1:   0%|          | 0/196 [00:00<?, ?it/s]"
      ]
     },
     "metadata": {},
     "output_type": "display_data"
    },
    {
     "data": {
      "application/vnd.jupyter.widget-view+json": {
       "model_id": "d084a3f8f76a4948b3d5c38c0a28817c",
       "version_major": 2,
       "version_minor": 0
      },
      "text/plain": [
       "Train Epoch 2:   0%|          | 0/196 [00:00<?, ?it/s]"
      ]
     },
     "metadata": {},
     "output_type": "display_data"
    },
    {
     "data": {
      "application/vnd.jupyter.widget-view+json": {
       "model_id": "144d65f3d95a4af2a935903600c46ca1",
       "version_major": 2,
       "version_minor": 0
      },
      "text/plain": [
       "Train Epoch 3:   0%|          | 0/196 [00:00<?, ?it/s]"
      ]
     },
     "metadata": {},
     "output_type": "display_data"
    },
    {
     "data": {
      "application/vnd.jupyter.widget-view+json": {
       "model_id": "013d287c04c44cc491db8a38300f470c",
       "version_major": 2,
       "version_minor": 0
      },
      "text/plain": [
       "Train Epoch 4:   0%|          | 0/196 [00:00<?, ?it/s]"
      ]
     },
     "metadata": {},
     "output_type": "display_data"
    },
    {
     "data": {
      "application/vnd.jupyter.widget-view+json": {
       "model_id": "55480bdb528a471493c024c851f05903",
       "version_major": 2,
       "version_minor": 0
      },
      "text/plain": [
       "Train Epoch 5:   0%|          | 0/196 [00:00<?, ?it/s]"
      ]
     },
     "metadata": {},
     "output_type": "display_data"
    },
    {
     "data": {
      "application/vnd.jupyter.widget-view+json": {
       "model_id": "1dfd43839475487dafdc33d892fb2555",
       "version_major": 2,
       "version_minor": 0
      },
      "text/plain": [
       "Train Epoch 6:   0%|          | 0/196 [00:00<?, ?it/s]"
      ]
     },
     "metadata": {},
     "output_type": "display_data"
    },
    {
     "data": {
      "application/vnd.jupyter.widget-view+json": {
       "model_id": "16b9b4f62a244d90be2a67c6732ea4f5",
       "version_major": 2,
       "version_minor": 0
      },
      "text/plain": [
       "Train Epoch 7:   0%|          | 0/196 [00:00<?, ?it/s]"
      ]
     },
     "metadata": {},
     "output_type": "display_data"
    },
    {
     "data": {
      "application/vnd.jupyter.widget-view+json": {
       "model_id": "7a2574c558cb4195a6787687661b2f9d",
       "version_major": 2,
       "version_minor": 0
      },
      "text/plain": [
       "Train Epoch 8:   0%|          | 0/196 [00:00<?, ?it/s]"
      ]
     },
     "metadata": {},
     "output_type": "display_data"
    },
    {
     "data": {
      "application/vnd.jupyter.widget-view+json": {
       "model_id": "3b14c0143b54402c94b5bebb853b6a3f",
       "version_major": 2,
       "version_minor": 0
      },
      "text/plain": [
       "Train Epoch 9:   0%|          | 0/196 [00:00<?, ?it/s]"
      ]
     },
     "metadata": {},
     "output_type": "display_data"
    },
    {
     "data": {
      "application/vnd.jupyter.widget-view+json": {
       "model_id": "c814952d516a4393af0734f48ba6ac6a",
       "version_major": 2,
       "version_minor": 0
      },
      "text/plain": [
       "Train Epoch 10:   0%|          | 0/196 [00:00<?, ?it/s]"
      ]
     },
     "metadata": {},
     "output_type": "display_data"
    },
    {
     "data": {
      "application/vnd.jupyter.widget-view+json": {
       "model_id": "23fecae411cb497b91904341d5f488b2",
       "version_major": 2,
       "version_minor": 0
      },
      "text/plain": [
       "Train Epoch 11:   0%|          | 0/196 [00:00<?, ?it/s]"
      ]
     },
     "metadata": {},
     "output_type": "display_data"
    },
    {
     "data": {
      "application/vnd.jupyter.widget-view+json": {
       "model_id": "63d96a4c6b9f425ca3839459a7ec583c",
       "version_major": 2,
       "version_minor": 0
      },
      "text/plain": [
       "Train Epoch 12:   0%|          | 0/196 [00:00<?, ?it/s]"
      ]
     },
     "metadata": {},
     "output_type": "display_data"
    },
    {
     "data": {
      "application/vnd.jupyter.widget-view+json": {
       "model_id": "2f30863d4fdc47e8a5a0de2bce806af2",
       "version_major": 2,
       "version_minor": 0
      },
      "text/plain": [
       "Train Epoch 13:   0%|          | 0/196 [00:00<?, ?it/s]"
      ]
     },
     "metadata": {},
     "output_type": "display_data"
    },
    {
     "data": {
      "application/vnd.jupyter.widget-view+json": {
       "model_id": "4984500da5df4941a5738a9d9e635494",
       "version_major": 2,
       "version_minor": 0
      },
      "text/plain": [
       "Train Epoch 14:   0%|          | 0/196 [00:00<?, ?it/s]"
      ]
     },
     "metadata": {},
     "output_type": "display_data"
    },
    {
     "data": {
      "application/vnd.jupyter.widget-view+json": {
       "model_id": "f17d6c3456034def95db6c537ca131fd",
       "version_major": 2,
       "version_minor": 0
      },
      "text/plain": [
       "Train Epoch 15:   0%|          | 0/196 [00:00<?, ?it/s]"
      ]
     },
     "metadata": {},
     "output_type": "display_data"
    },
    {
     "data": {
      "application/vnd.jupyter.widget-view+json": {
       "model_id": "90885d285a1a4a7f84e0b9b1a4e3246f",
       "version_major": 2,
       "version_minor": 0
      },
      "text/plain": [
       "Train Epoch 16:   0%|          | 0/196 [00:00<?, ?it/s]"
      ]
     },
     "metadata": {},
     "output_type": "display_data"
    },
    {
     "data": {
      "application/vnd.jupyter.widget-view+json": {
       "model_id": "f7bda3accb8c43759894bcac489b28fb",
       "version_major": 2,
       "version_minor": 0
      },
      "text/plain": [
       "Train Epoch 17:   0%|          | 0/196 [00:00<?, ?it/s]"
      ]
     },
     "metadata": {},
     "output_type": "display_data"
    },
    {
     "data": {
      "application/vnd.jupyter.widget-view+json": {
       "model_id": "549d098f21d84d41ad342441b035aa7a",
       "version_major": 2,
       "version_minor": 0
      },
      "text/plain": [
       "Train Epoch 18:   0%|          | 0/196 [00:00<?, ?it/s]"
      ]
     },
     "metadata": {},
     "output_type": "display_data"
    },
    {
     "data": {
      "application/vnd.jupyter.widget-view+json": {
       "model_id": "c6761e06b52d43fc86a45daef7b7fef8",
       "version_major": 2,
       "version_minor": 0
      },
      "text/plain": [
       "Train Epoch 19:   0%|          | 0/196 [00:00<?, ?it/s]"
      ]
     },
     "metadata": {},
     "output_type": "display_data"
    },
    {
     "data": {
      "application/vnd.jupyter.widget-view+json": {
       "model_id": "d79be6c060ba4916bdd6aeaeaea34dfa",
       "version_major": 2,
       "version_minor": 0
      },
      "text/plain": [
       "Train Epoch 20:   0%|          | 0/196 [00:00<?, ?it/s]"
      ]
     },
     "metadata": {},
     "output_type": "display_data"
    },
    {
     "data": {
      "application/vnd.jupyter.widget-view+json": {
       "model_id": "7884709cefc54ec78f91e527082546f6",
       "version_major": 2,
       "version_minor": 0
      },
      "text/plain": [
       "Train Epoch 21:   0%|          | 0/196 [00:00<?, ?it/s]"
      ]
     },
     "metadata": {},
     "output_type": "display_data"
    },
    {
     "data": {
      "application/vnd.jupyter.widget-view+json": {
       "model_id": "737639b8477549f7b97dc6046a1b6315",
       "version_major": 2,
       "version_minor": 0
      },
      "text/plain": [
       "Train Epoch 22:   0%|          | 0/196 [00:00<?, ?it/s]"
      ]
     },
     "metadata": {},
     "output_type": "display_data"
    },
    {
     "data": {
      "application/vnd.jupyter.widget-view+json": {
       "model_id": "e7b9c8b812034905a52bb9f696c3faa3",
       "version_major": 2,
       "version_minor": 0
      },
      "text/plain": [
       "Train Epoch 23:   0%|          | 0/196 [00:00<?, ?it/s]"
      ]
     },
     "metadata": {},
     "output_type": "display_data"
    },
    {
     "data": {
      "application/vnd.jupyter.widget-view+json": {
       "model_id": "511ff11c5f8d4481988a8cdaab861ea0",
       "version_major": 2,
       "version_minor": 0
      },
      "text/plain": [
       "Train Epoch 24:   0%|          | 0/196 [00:00<?, ?it/s]"
      ]
     },
     "metadata": {},
     "output_type": "display_data"
    },
    {
     "data": {
      "application/vnd.jupyter.widget-view+json": {
       "model_id": "b2afcc9fb3374019831eeafc278cdfd8",
       "version_major": 2,
       "version_minor": 0
      },
      "text/plain": [
       "Train Epoch 25:   0%|          | 0/196 [00:00<?, ?it/s]"
      ]
     },
     "metadata": {},
     "output_type": "display_data"
    },
    {
     "data": {
      "application/vnd.jupyter.widget-view+json": {
       "model_id": "6d2f7c00f6f8438a8e30ec79255edcf1",
       "version_major": 2,
       "version_minor": 0
      },
      "text/plain": [
       "Train Epoch 26:   0%|          | 0/196 [00:00<?, ?it/s]"
      ]
     },
     "metadata": {},
     "output_type": "display_data"
    },
    {
     "data": {
      "application/vnd.jupyter.widget-view+json": {
       "model_id": "cc0c1ef434ab4aaeb6268fa5c1513200",
       "version_major": 2,
       "version_minor": 0
      },
      "text/plain": [
       "Train Epoch 27:   0%|          | 0/196 [00:00<?, ?it/s]"
      ]
     },
     "metadata": {},
     "output_type": "display_data"
    },
    {
     "data": {
      "application/vnd.jupyter.widget-view+json": {
       "model_id": "11da3104402a40f28d0613c8d2dd624d",
       "version_major": 2,
       "version_minor": 0
      },
      "text/plain": [
       "Train Epoch 28:   0%|          | 0/196 [00:00<?, ?it/s]"
      ]
     },
     "metadata": {},
     "output_type": "display_data"
    },
    {
     "data": {
      "application/vnd.jupyter.widget-view+json": {
       "model_id": "7868f70553f546a19da78a22c9103c3c",
       "version_major": 2,
       "version_minor": 0
      },
      "text/plain": [
       "Train Epoch 29:   0%|          | 0/196 [00:00<?, ?it/s]"
      ]
     },
     "metadata": {},
     "output_type": "display_data"
    },
    {
     "data": {
      "application/vnd.jupyter.widget-view+json": {
       "model_id": "a1abcb806bcc43deab4e4ba265935bd8",
       "version_major": 2,
       "version_minor": 0
      },
      "text/plain": [
       "Train Epoch 30:   0%|          | 0/196 [00:00<?, ?it/s]"
      ]
     },
     "metadata": {},
     "output_type": "display_data"
    },
    {
     "data": {
      "application/vnd.jupyter.widget-view+json": {
       "model_id": "111c34b0f3d44928846fe64cc4b6d1c8",
       "version_major": 2,
       "version_minor": 0
      },
      "text/plain": [
       "Train Epoch 31:   0%|          | 0/196 [00:00<?, ?it/s]"
      ]
     },
     "metadata": {},
     "output_type": "display_data"
    },
    {
     "data": {
      "application/vnd.jupyter.widget-view+json": {
       "model_id": "83398b3adf904b068b2f0e70ac5df692",
       "version_major": 2,
       "version_minor": 0
      },
      "text/plain": [
       "Train Epoch 32:   0%|          | 0/196 [00:00<?, ?it/s]"
      ]
     },
     "metadata": {},
     "output_type": "display_data"
    },
    {
     "data": {
      "application/vnd.jupyter.widget-view+json": {
       "model_id": "3a2593f445e844a2ad0f01ed4826076b",
       "version_major": 2,
       "version_minor": 0
      },
      "text/plain": [
       "Train Epoch 33:   0%|          | 0/196 [00:00<?, ?it/s]"
      ]
     },
     "metadata": {},
     "output_type": "display_data"
    },
    {
     "data": {
      "application/vnd.jupyter.widget-view+json": {
       "model_id": "133bde07f9c242a0869868f3fa572d36",
       "version_major": 2,
       "version_minor": 0
      },
      "text/plain": [
       "Train Epoch 34:   0%|          | 0/196 [00:00<?, ?it/s]"
      ]
     },
     "metadata": {},
     "output_type": "display_data"
    },
    {
     "data": {
      "application/vnd.jupyter.widget-view+json": {
       "model_id": "aba85b16775549b5ada8c8c6faf0f429",
       "version_major": 2,
       "version_minor": 0
      },
      "text/plain": [
       "Train Epoch 35:   0%|          | 0/196 [00:00<?, ?it/s]"
      ]
     },
     "metadata": {},
     "output_type": "display_data"
    },
    {
     "data": {
      "application/vnd.jupyter.widget-view+json": {
       "model_id": "1fcace050d90480c9d492c786c261b63",
       "version_major": 2,
       "version_minor": 0
      },
      "text/plain": [
       "Train Epoch 36:   0%|          | 0/196 [00:00<?, ?it/s]"
      ]
     },
     "metadata": {},
     "output_type": "display_data"
    },
    {
     "data": {
      "application/vnd.jupyter.widget-view+json": {
       "model_id": "a2df39d06b334bedacb8e9f4783c26a3",
       "version_major": 2,
       "version_minor": 0
      },
      "text/plain": [
       "Train Epoch 37:   0%|          | 0/196 [00:00<?, ?it/s]"
      ]
     },
     "metadata": {},
     "output_type": "display_data"
    },
    {
     "data": {
      "application/vnd.jupyter.widget-view+json": {
       "model_id": "5b7aa005266f46db8ba3ebfd99f057d3",
       "version_major": 2,
       "version_minor": 0
      },
      "text/plain": [
       "Train Epoch 38:   0%|          | 0/196 [00:00<?, ?it/s]"
      ]
     },
     "metadata": {},
     "output_type": "display_data"
    },
    {
     "data": {
      "application/vnd.jupyter.widget-view+json": {
       "model_id": "3417f06e70d44dea8ea6a4d8cbc4b80f",
       "version_major": 2,
       "version_minor": 0
      },
      "text/plain": [
       "Train Epoch 39:   0%|          | 0/196 [00:00<?, ?it/s]"
      ]
     },
     "metadata": {},
     "output_type": "display_data"
    },
    {
     "data": {
      "application/vnd.jupyter.widget-view+json": {
       "model_id": "bdeeb02ac5824a439da48cee79546ba1",
       "version_major": 2,
       "version_minor": 0
      },
      "text/plain": [
       "Train Epoch 40:   0%|          | 0/196 [00:00<?, ?it/s]"
      ]
     },
     "metadata": {},
     "output_type": "display_data"
    },
    {
     "data": {
      "application/vnd.jupyter.widget-view+json": {
       "model_id": "36c3c27e31f04a44938923d2d6e8c35a",
       "version_major": 2,
       "version_minor": 0
      },
      "text/plain": [
       "Train Epoch 41:   0%|          | 0/196 [00:00<?, ?it/s]"
      ]
     },
     "metadata": {},
     "output_type": "display_data"
    },
    {
     "data": {
      "application/vnd.jupyter.widget-view+json": {
       "model_id": "2dca34863ba84a6c8e5829f7d1964031",
       "version_major": 2,
       "version_minor": 0
      },
      "text/plain": [
       "Train Epoch 42:   0%|          | 0/196 [00:00<?, ?it/s]"
      ]
     },
     "metadata": {},
     "output_type": "display_data"
    },
    {
     "data": {
      "application/vnd.jupyter.widget-view+json": {
       "model_id": "0b64adfe4b1d44dcb8cc01d8a97ff08e",
       "version_major": 2,
       "version_minor": 0
      },
      "text/plain": [
       "Train Epoch 43:   0%|          | 0/196 [00:00<?, ?it/s]"
      ]
     },
     "metadata": {},
     "output_type": "display_data"
    },
    {
     "data": {
      "application/vnd.jupyter.widget-view+json": {
       "model_id": "d66e49afc7fe4fb1bfc795f4b7e6d34a",
       "version_major": 2,
       "version_minor": 0
      },
      "text/plain": [
       "Train Epoch 44:   0%|          | 0/196 [00:00<?, ?it/s]"
      ]
     },
     "metadata": {},
     "output_type": "display_data"
    },
    {
     "data": {
      "application/vnd.jupyter.widget-view+json": {
       "model_id": "caa22f04e0e148f787ffbcb706361afe",
       "version_major": 2,
       "version_minor": 0
      },
      "text/plain": [
       "Train Epoch 45:   0%|          | 0/196 [00:00<?, ?it/s]"
      ]
     },
     "metadata": {},
     "output_type": "display_data"
    },
    {
     "data": {
      "application/vnd.jupyter.widget-view+json": {
       "model_id": "214dc4e6152d41788d12fe7b4fb2448a",
       "version_major": 2,
       "version_minor": 0
      },
      "text/plain": [
       "Train Epoch 46:   0%|          | 0/196 [00:00<?, ?it/s]"
      ]
     },
     "metadata": {},
     "output_type": "display_data"
    },
    {
     "data": {
      "application/vnd.jupyter.widget-view+json": {
       "model_id": "dda169591d814cbd97ad264872a07cdd",
       "version_major": 2,
       "version_minor": 0
      },
      "text/plain": [
       "Train Epoch 47:   0%|          | 0/196 [00:00<?, ?it/s]"
      ]
     },
     "metadata": {},
     "output_type": "display_data"
    },
    {
     "data": {
      "application/vnd.jupyter.widget-view+json": {
       "model_id": "f459e0ea6f1e48998bb11c6afd88f3a5",
       "version_major": 2,
       "version_minor": 0
      },
      "text/plain": [
       "Train Epoch 48:   0%|          | 0/196 [00:00<?, ?it/s]"
      ]
     },
     "metadata": {},
     "output_type": "display_data"
    },
    {
     "data": {
      "application/vnd.jupyter.widget-view+json": {
       "model_id": "6e200f48666c4804ac4a28e1cbec0617",
       "version_major": 2,
       "version_minor": 0
      },
      "text/plain": [
       "Train Epoch 49:   0%|          | 0/196 [00:00<?, ?it/s]"
      ]
     },
     "metadata": {},
     "output_type": "display_data"
    },
    {
     "data": {
      "application/vnd.jupyter.widget-view+json": {
       "model_id": "eed4805a4892409294f1ee8235ca0b49",
       "version_major": 2,
       "version_minor": 0
      },
      "text/plain": [
       "Train Epoch 50:   0%|          | 0/196 [00:00<?, ?it/s]"
      ]
     },
     "metadata": {},
     "output_type": "display_data"
    }
   ],
   "source": [
    "'''\n",
    "M5. Transfer model to GPU\n",
    "'''\n",
    "\n",
    "# Device configuration\n",
    "# device = torch.device('cuda' if torch.cuda.is_available() else 'cpu')\n",
    "\n",
    "device = torch.device('mps' if torch.backends.mps.is_available() else 'cpu')\n",
    "print('device : {}'.format(device))\n",
    "# model = CNN_Model(input_size, hidden_size, output_dim).to(device)\n",
    "model = CNN_Model().to(device)\n",
    "sig_model = CNN_Sigmoid_Model().to(device)\n",
    "\n",
    "'''\n",
    "M6. Optimizer\n",
    "'''\n",
    "optimizer = torch.optim.Adam(model.parameters(), lr=learning_rate)\n",
    "\n",
    "'''\n",
    "M7. Define Loss Fumction\n",
    "'''\n",
    "criterion = nn.CrossEntropyLoss()\n",
    "\n",
    "'''\n",
    "M10. Define Episode / each step process\n",
    "'''\n",
    "from tqdm import tqdm, tqdm_notebook, trange\n",
    "\n",
    "NoT = len(train_ds.dataset)\n",
    "NoB = 3\n",
    "\n",
    "sig_mean_grad_history = []\n",
    "sig_mean_weight_history = []\n",
    "\n",
    "relu_mean_grad_history = []\n",
    "relu_mean_weight_history = []\n",
    "\n",
    "sig_train_losses = []\n",
    "sig_train_accuracies = []\n",
    "\n",
    "relu_train_losses = []\n",
    "relu_train_accuracies = []\n",
    "\n",
    "EPOCHS = 50\n",
    "\n",
    "for epoch in range(EPOCHS):\n",
    "    \n",
    "    relu_temp_loss = []\n",
    "    relu_temp_acc = []\n",
    "    \n",
    "    sig_temp_loss = []\n",
    "    sig_temp_acc = []\n",
    "    \n",
    "    relu_r_grad = torch.zeros(NoB+1) # +1 : 마지막 fc 까지 \n",
    "    relu_r_weight = torch.zeros(NoB+1)\n",
    "    \n",
    "    sig_r_grad = torch.zeros(NoB+1) # +1 : 마지막 fc 까지 \n",
    "    sig_r_weight = torch.zeros(NoB+1)\n",
    "    \n",
    "    with tqdm_notebook(total=len(train_ds), desc=f\"Train Epoch {epoch+1}\") as pbar:    \n",
    "        for i, (images, labels) in enumerate(train_ds):\n",
    "\n",
    "            relu_loss_val, relu_acc, relu_rgrad, relu_rweight = train_step(model, images, labels, NoB)\n",
    "            \n",
    "            relu_temp_loss.append(relu_loss_val)\n",
    "            relu_temp_acc.append(relu_acc)\n",
    "            \n",
    "            relu_r_grad += relu_rgrad\n",
    "            relu_r_weight += relu_rweight\n",
    "            \n",
    "            sig_loss_val, sig_acc, sig_rgrad, sig_rweight = train_step(sig_model, images, labels, NoB)\n",
    "            \n",
    "            sig_temp_loss.append(sig_loss_val)\n",
    "            sig_temp_acc.append(sig_acc)\n",
    "            \n",
    "            sig_r_grad += sig_rgrad\n",
    "            sig_r_weight += sig_rweight\n",
    "            \n",
    "            pbar.update(1)\n",
    "            pbar.set_postfix_str(f\"ReLU Loss: {relu_loss_val:.4f} ({np.mean(relu_temp_loss):.4f}) Acc: {relu_acc:.3f} ({np.mean(relu_temp_acc):.3f}), \")     \n",
    "            \n",
    "    # loss, acc\n",
    "    relu_train_accuracies.append(sum(relu_temp_acc) / len(train_ds))\n",
    "    relu_train_losses.append(sum(relu_temp_loss) / len(train_ds))\n",
    "    \n",
    "    sig_train_accuracies.append(sum(sig_temp_acc) / len(train_ds))\n",
    "    sig_train_losses.append(sum(sig_temp_loss) / len(train_ds))\n",
    "     \n",
    "    # gradient, weight\n",
    "    relu_mean_grad_history += [relu_r_grad/NoT] \n",
    "    relu_mean_weight_history += [relu_r_weight/len(train_ds)]\n",
    "    \n",
    "    sig_mean_grad_history += [sig_r_grad/NoT] \n",
    "    sig_mean_weight_history += [sig_r_weight/len(train_ds)]"
   ]
  },
  {
   "cell_type": "code",
   "execution_count": 483,
   "id": "089a02b5",
   "metadata": {},
   "outputs": [
    {
     "name": "stdout",
     "output_type": "stream",
     "text": [
      "Parameter: conv1.weight, Gradient: 14.620363235473633\n",
      "Parameter: conv2.weight, Gradient: 3.2815635204315186\n",
      "Parameter: conv3.weight, Gradient: 2.258451461791992\n",
      "Parameter: d1.weight, Gradient: 3.974392890930176\n"
     ]
    }
   ],
   "source": [
    "r_grad = torch.zeros(NoB+1) # +1 : 마지막 fc 까지\n",
    "r_weight = torch.zeros(NoB+1) # +1 : 마지막 fc 까지\n",
    "\n",
    "images = images.to(device)\n",
    "labels = labels.to(device)\n",
    "\n",
    "# Forward pass\n",
    "predictions = model(images)\n",
    "loss = criterion(predictions, labels)\n",
    "loss_val = loss.item()\n",
    "\n",
    "# Backward and optimize\n",
    "optimizer.zero_grad()\n",
    "loss.backward()\n",
    "optimizer.step()\n",
    "\n",
    "with torch.no_grad():\n",
    "    weight_list = [m.weight for m in model.modules() if isinstance(m, nn.Conv2d) or isinstance(m, nn.Linear)]\n",
    "    r_grad += torch.tensor([w.grad.abs().sum() * images.shape[0] / w.numel() for w in weight_list])\n",
    "    r_weight += torch.tensor([w.abs().sum() / w.numel() for w in weight_list])\n",
    "\n",
    "for name, param in model.named_parameters():\n",
    "    if param.grad is not None:\n",
    "        print(f\"Parameter: {name}, Gradient: {param.grad.abs().sum() * (images.shape[0] / param.numel())}\")"
   ]
  },
  {
   "cell_type": "code",
   "execution_count": 484,
   "id": "4190dc16",
   "metadata": {},
   "outputs": [
    {
     "data": {
      "image/png": "[encoded data removed]",
      "text/plain": [
       "<Figure size 1000x800 with 4 Axes>"
      ]
     },
     "metadata": {},
     "output_type": "display_data"
    }
   ],
   "source": [
    "fig, axs = plt.subplots(2, 2, figsize=(10, 8), layout='constrained')\n",
    "\n",
    "relu_ymax_grad = max([i.max().item() for i in relu_mean_grad_history])*1.1\n",
    "relu_ymax_weight = max([i.max().item() for i in relu_mean_weight_history])*1.1\n",
    "\n",
    "i = -1\n",
    "\n",
    "x_axis = [f\"conv {i}\" for i in range(1,4)]+[f\"fc {i}\" for i in range(1, 2)]\n",
    "\n",
    "ax = axs[0][0]\n",
    "ax.bar(x_axis,relu_mean_grad_history[i].cpu(), width=0.8)\n",
    "ax.set_ylim([0,relu_ymax_grad])\n",
    "ax.set_xlabel(\"layer\")\n",
    "ax.set_ylabel(\"mean absolute value\")\n",
    "ax.set_title(\"ReLU gradient\")\n",
    "\n",
    "ax = axs[0][1]\n",
    "ax.bar(x_axis,relu_mean_weight_history[i].cpu(), width=0.8)\n",
    "ax.set_ylim([0,relu_ymax_weight])\n",
    "ax.set_xlabel(\"layer\")\n",
    "ax.set_ylabel(\"mean absolute value\")\n",
    "ax.set_title(\"ReLU weight\")\n",
    "\n",
    "sig_ymax_grad = max([i.max().item() for i in sig_mean_grad_history])*1.1\n",
    "sig_ymax_weight = max([i.max().item() for i in sig_mean_weight_history])*1.1\n",
    "\n",
    "ax = axs[1][0]\n",
    "ax.bar(x_axis,sig_mean_grad_history[i].cpu(), width=0.8)\n",
    "ax.set_ylim([0, sig_ymax_grad])\n",
    "ax.set_xlabel(\"layer\")\n",
    "ax.set_ylabel(\"mean absolute value\")\n",
    "ax.set_title(\"Sigmoid gradient\")\n",
    "\n",
    "ax = axs[1][1]\n",
    "ax.bar(x_axis,sig_mean_weight_history[i].cpu(), width=0.8)\n",
    "ax.set_ylim([0, sig_ymax_weight])\n",
    "ax.set_xlabel(\"layer\")\n",
    "ax.set_ylabel(\"mean absolute value\")\n",
    "ax.set_title(\"Sigmoid weight\")\n",
    "\n",
    "fig.suptitle('ReLU vs Sigmoid Gradient and Weight', fontsize=15)\n",
    "plt.show()"
   ]
  },
  {
   "cell_type": "code",
   "execution_count": 485,
   "id": "3db9075b",
   "metadata": {},
   "outputs": [
    {
     "data": {
      "text/plain": [
       "[tensor([0.0113, 0.0416, 0.3899, 1.0453]),\n",
       " tensor([0.0344, 0.1250, 1.1740, 3.1313]),\n",
       " tensor([0.0576, 0.2096, 1.9567, 5.2461]),\n",
       " tensor([0.0809, 0.2936, 2.7447, 7.3498]),\n",
       " tensor([0.1033, 0.3754, 3.5159, 9.4066]),\n",
       " tensor([ 0.1266,  0.4599,  4.2973, 11.5017]),\n",
       " tensor([ 0.1492,  0.5433,  5.0653, 13.5687]),\n",
       " tensor([ 0.1723,  0.6271,  5.8537, 15.6800]),\n",
       " tensor([ 0.1957,  0.7109,  6.6358, 17.7682]),\n",
       " tensor([ 0.2186,  0.7947,  7.4219, 19.8809]),\n",
       " tensor([ 0.2415,  0.8782,  8.1997, 21.9602]),\n",
       " tensor([ 0.2645,  0.9616,  8.9789, 24.0398]),\n",
       " tensor([ 0.2874,  1.0454,  9.7561, 26.1167]),\n",
       " tensor([ 0.3098,  1.1268, 10.5379, 28.2117]),\n",
       " tensor([ 0.3333,  1.2119, 11.3171, 30.3160]),\n",
       " tensor([ 0.3563,  1.2964, 12.0953, 32.4033]),\n",
       " tensor([ 0.3793,  1.3797, 12.8841, 34.5085]),\n",
       " tensor([ 0.4022,  1.4634, 13.6673, 36.6042]),\n",
       " tensor([ 0.4252,  1.5462, 14.4410, 38.6774]),\n",
       " tensor([ 0.4479,  1.6295, 15.2161, 40.7431]),\n",
       " tensor([ 0.4716,  1.7148, 16.0072, 42.8699]),\n",
       " tensor([ 0.4942,  1.7985, 16.7774, 44.9452]),\n",
       " tensor([ 0.5172,  1.8814, 17.5639, 47.0424]),\n",
       " tensor([ 0.5402,  1.9655, 18.3414, 49.1263]),\n",
       " tensor([ 0.5633,  2.0487, 19.1259, 51.2093]),\n",
       " tensor([ 0.5860,  2.1317, 19.9000, 53.2849]),\n",
       " tensor([ 0.6086,  2.2130, 20.6763, 55.3558]),\n",
       " tensor([ 0.6318,  2.2979, 21.4576, 57.4572]),\n",
       " tensor([ 0.6551,  2.3823, 22.2454, 59.5527]),\n",
       " tensor([ 0.6779,  2.4651, 23.0254, 61.6483]),\n",
       " tensor([ 0.7013,  2.5512, 23.8066, 63.7467]),\n",
       " tensor([ 0.7236,  2.6320, 24.5787, 65.8139]),\n",
       " tensor([ 0.7472,  2.7181, 25.3702, 67.9316]),\n",
       " tensor([ 0.7700,  2.8008, 26.1400, 70.0079]),\n",
       " tensor([ 0.7933,  2.8859, 26.9274, 72.1232]),\n",
       " tensor([ 0.8161,  2.9684, 27.7089, 74.2166]),\n",
       " tensor([ 0.8386,  3.0504, 28.4793, 76.2621]),\n",
       " tensor([ 0.8622,  3.1357, 29.2691, 78.3739]),\n",
       " tensor([ 0.8852,  3.2188, 30.0522, 80.4765]),\n",
       " tensor([ 0.9082,  3.3032, 30.8317, 82.5708]),\n",
       " tensor([ 0.9313,  3.3875, 31.6196, 84.6777]),\n",
       " tensor([ 0.9539,  3.4696, 32.3890, 86.7458]),\n",
       " tensor([ 0.9773,  3.5537, 33.1850, 88.8598]),\n",
       " tensor([ 1.0002,  3.6371, 33.9580, 90.9384]),\n",
       " tensor([ 1.0230,  3.7206, 34.7370, 93.0176]),\n",
       " tensor([ 1.0462,  3.8050, 35.5188, 95.1295]),\n",
       " tensor([ 1.0685,  3.8864, 36.2928, 97.1915]),\n",
       " tensor([ 1.0918,  3.9709, 37.0800, 99.3003]),\n",
       " tensor([  1.1153,   4.0562,  37.8690, 101.4014]),\n",
       " tensor([  1.1375,   4.1380,  38.6355, 103.4645])]"
      ]
     },
     "execution_count": 485,
     "metadata": {},
     "output_type": "execute_result"
    }
   ],
   "source": [
    "sig_mean_grad_history"
   ]
  },
  {
   "cell_type": "code",
   "execution_count": 486,
   "id": "487756f9",
   "metadata": {},
   "outputs": [
    {
     "data": {
      "image/png": "[encoded data removed]",
      "text/plain": [
       "<Figure size 1000x800 with 4 Axes>"
      ]
     },
     "metadata": {},
     "output_type": "display_data"
    }
   ],
   "source": [
    "fig, axs = plt.subplots(2, 2, figsize=(10, 8), layout='constrained')\n",
    "\n",
    "xaxis = np.arange(1, EPOCHS+1)\n",
    "\n",
    "ax = axs[0][0]\n",
    "ax.plot(xaxis, relu_train_losses)\n",
    "ax.set_ylim([0,2.5])\n",
    "ax.set_xlabel(\"epoch\")\n",
    "ax.set_ylabel(\"loss\")\n",
    "ax.set_title(\"ReLU Loss\")\n",
    "\n",
    "ax = axs[0][1]\n",
    "ax.plot(xaxis, sig_train_losses)\n",
    "ax.set_ylim([0,2.5])\n",
    "ax.set_xlabel(\"epoch\")\n",
    "ax.set_title(\"Sigmoid Loss\")\n",
    "\n",
    "ax = axs[1][0]\n",
    "ax.plot(xaxis, relu_train_accuracies)\n",
    "ax.set_ylim([0,100])\n",
    "ax.set_xlabel(\"epoch\")\n",
    "ax.set_ylabel(\"accuracy\")\n",
    "ax.set_title(\"ReLU Accuracy\")\n",
    "\n",
    "ax = axs[1][1]\n",
    "ax.plot(xaxis, sig_train_accuracies)\n",
    "ax.set_ylim([0,100])\n",
    "ax.set_xlabel(\"epoch\")\n",
    "ax.set_title(\"Sigmoid Accuracy\")\n",
    "\n",
    "fig.suptitle('ReLU vs Sigmoid Loss and Accuracy', fontsize=15)\n",
    "plt.show()"
   ]
  },
  {
   "cell_type": "code",
   "execution_count": 487,
   "id": "112d60f2",
   "metadata": {},
   "outputs": [
    {
     "name": "stderr",
     "output_type": "stream",
     "text": [
      "/var/folders/bx/kws8rd4525gfj8xnyb4pbjrh0000gn/T/ipykernel_892/2424828649.py:7: TqdmDeprecationWarning: This function will be removed in tqdm==5.0.0\n",
      "Please use `tqdm.notebook.tqdm` instead of `tqdm.tqdm_notebook`\n",
      "  with tqdm_notebook(total=len(test_ds), desc=f\"Test_ Epoch {epoch+1}\") as pbar:\n"
     ]
    },
    {
     "data": {
      "application/vnd.jupyter.widget-view+json": {
       "model_id": "f756aaa5a5164978a2d47df08c373923",
       "version_major": 2,
       "version_minor": 0
      },
      "text/plain": [
       "Test_ Epoch 50:   0%|          | 0/40 [00:00<?, ?it/s]"
      ]
     },
     "metadata": {},
     "output_type": "display_data"
    }
   ],
   "source": [
    "'''\n",
    "M11. Model evaluation\n",
    "'''\n",
    "# In test phase, we don't need to compute gradients (for memory efficiency)\n",
    "with torch.no_grad():\n",
    "\n",
    "    with tqdm_notebook(total=len(test_ds), desc=f\"Test_ Epoch {epoch+1}\") as pbar:    \n",
    "        test_losses = []\n",
    "        test_accuracies = []\n",
    "\n",
    "        for images, labels in test_ds:\n",
    "            loss_val, acc = test_step(model, images, labels)\n",
    "\n",
    "            test_losses.append(loss_val)\n",
    "            test_accuracies.append(acc)\n",
    "\n",
    "            pbar.update(1)\n",
    "            pbar.set_postfix_str(f\"Loss: {loss_val:.4f} ({np.mean(test_losses):.4f}) Acc: {acc:.3f} ({np.mean(test_accuracies):.3f})\")"
   ]
  },
  {
   "cell_type": "code",
   "execution_count": 488,
   "id": "692b36e6",
   "metadata": {},
   "outputs": [
    {
     "data": {
      "text/plain": [
       "[<matplotlib.lines.Line2D at 0x376f30190>]"
      ]
     },
     "execution_count": 488,
     "metadata": {},
     "output_type": "execute_result"
    },
    {
     "data": {
      "image/png": "[encoded data removed]",
      "text/plain": [
       "<Figure size 640x480 with 1 Axes>"
      ]
     },
     "metadata": {},
     "output_type": "display_data"
    }
   ],
   "source": [
    "plt.plot(test_losses)"
   ]
  }
 ],
 "metadata": {
  "kernelspec": {
   "display_name": "Python 3 (ipykernel)",
   "language": "python",
   "name": "python3"
  },
  "language_info": {
   "codemirror_mode": {
    "name": "ipython",
    "version": 3
   },
   "file_extension": ".py",
   "mimetype": "text/x-python",
   "name": "python",
   "nbconvert_exporter": "python",
   "pygments_lexer": "ipython3",
   "version": "3.8.17"
  }
 },
 "nbformat": 4,
 "nbformat_minor": 5
}
