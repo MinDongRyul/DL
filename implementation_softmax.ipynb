{
 "cells": [
  {
   "cell_type": "code",
   "execution_count": 30,
   "id": "04cdd1fd",
   "metadata": {},
   "outputs": [],
   "source": [
    "import numpy as np\n",
    "import math\n",
    "import torch\n",
    "\n",
    "import torch.nn as nn"
   ]
  },
  {
   "cell_type": "code",
   "execution_count": 32,
   "id": "c20c505c",
   "metadata": {
    "scrolled": true
   },
   "outputs": [
    {
     "data": {
      "text/plain": [
       "(tensor([[72., 28., 34.],\n",
       "         [42., 19., 35.]]),\n",
       " tensor([[9.0000, 3.5000, 4.2500],\n",
       "         [5.2500, 2.3750, 4.3750]]))"
      ]
     },
     "execution_count": 32,
     "metadata": {},
     "output_type": "execute_result"
    }
   ],
   "source": [
    "tensor = torch.randint(1, 100, size=(2, 3), dtype=torch.float32)\n",
    "tensor2 = tensor / 8\n",
    "tensor, tensor2"
   ]
  },
  {
   "cell_type": "code",
   "execution_count": 33,
   "id": "41ce0b24",
   "metadata": {},
   "outputs": [
    {
     "data": {
      "text/plain": [
       "tensor([1.8587e+31, 1.7409e+18])"
      ]
     },
     "execution_count": 33,
     "metadata": {},
     "output_type": "execute_result"
    }
   ],
   "source": [
    "torch.sum(np.exp(tensor), dim=-1)"
   ]
  },
  {
   "cell_type": "code",
   "execution_count": 34,
   "id": "aab5c1aa",
   "metadata": {},
   "outputs": [
    {
     "data": {
      "text/plain": [
       "tensor([1.0000e+00, 7.7811e-20, 3.1391e-17])"
      ]
     },
     "execution_count": 34,
     "metadata": {},
     "output_type": "execute_result"
    }
   ],
   "source": [
    "np.exp(tensor[0]) / torch.sum(np.exp(tensor), dim=-1)[0]"
   ]
  },
  {
   "cell_type": "code",
   "execution_count": 36,
   "id": "61dd28f0",
   "metadata": {},
   "outputs": [
    {
     "data": {
      "text/plain": [
       "tensor([9.9909e-01, 1.0253e-10, 9.1105e-04])"
      ]
     },
     "execution_count": 36,
     "metadata": {},
     "output_type": "execute_result"
    }
   ],
   "source": [
    "np.exp(tensor[1]) / torch.sum(np.exp(tensor), dim=-1)[1]"
   ]
  },
  {
   "cell_type": "code",
   "execution_count": 35,
   "id": "27f521e5",
   "metadata": {},
   "outputs": [
    {
     "data": {
      "text/plain": [
       "tensor([0.9874, 0.0040, 0.0085])"
      ]
     },
     "execution_count": 35,
     "metadata": {},
     "output_type": "execute_result"
    }
   ],
   "source": [
    "np.exp(tensor2[0]) / torch.sum(np.exp(tensor2), dim=-1)[0]"
   ]
  },
  {
   "cell_type": "code",
   "execution_count": 37,
   "id": "6bf783b0",
   "metadata": {},
   "outputs": [
    {
     "data": {
      "text/plain": [
       "tensor([0.6788, 0.0383, 0.2829])"
      ]
     },
     "execution_count": 37,
     "metadata": {},
     "output_type": "execute_result"
    }
   ],
   "source": [
    "np.exp(tensor2[1]) / torch.sum(np.exp(tensor2), dim=-1)[1]"
   ]
  },
  {
   "cell_type": "code",
   "execution_count": 39,
   "id": "16be4dee",
   "metadata": {},
   "outputs": [
    {
     "data": {
      "text/plain": [
       "(tensor([[1.0000e+00, 7.7811e-20, 3.1391e-17],\n",
       "         [9.9909e-01, 1.0253e-10, 9.1105e-04]]),\n",
       " tensor([[0.9874, 0.0040, 0.0085],\n",
       "         [0.6788, 0.0383, 0.2829]]))"
      ]
     },
     "execution_count": 39,
     "metadata": {},
     "output_type": "execute_result"
    }
   ],
   "source": [
    "softmax = nn.Softmax(dim=-1)\n",
    "softmax(tensor), softmax(tensor2)"
   ]
  },
  {
   "cell_type": "markdown",
   "id": "fb175040",
   "metadata": {},
   "source": [
    "scale을 적용함으로서 softmax 이후 값들의 편차가 조금은 줄어들은 것을 볼 수 있음."
   ]
  }
 ],
 "metadata": {
  "kernelspec": {
   "display_name": "Python 3 (ipykernel)",
   "language": "python",
   "name": "python3"
  },
  "language_info": {
   "codemirror_mode": {
    "name": "ipython",
    "version": 3
   },
   "file_extension": ".py",
   "mimetype": "text/x-python",
   "name": "python",
   "nbconvert_exporter": "python",
   "pygments_lexer": "ipython3",
   "version": "3.8.17"
  }
 },
 "nbformat": 4,
 "nbformat_minor": 5
}
