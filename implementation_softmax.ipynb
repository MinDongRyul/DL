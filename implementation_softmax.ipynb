{
 "cells": [
  {
   "cell_type": "code",
   "execution_count": 2,
   "id": "44c71f78",
   "metadata": {},
   "outputs": [],
   "source": [
    "import numpy as np\n",
    "import math\n",
    "import torch\n",
    "\n",
    "import torch.nn as nn"
   ]
  },
  {
   "cell_type": "code",
   "execution_count": 50,
   "id": "0a5fddcb",
   "metadata": {
    "scrolled": true
   },
   "outputs": [
    {
     "data": {
      "text/plain": [
       "(array([[18, 38, 45],\n",
       "        [ 4, 43, 14]]),\n",
       " array([[2.25 , 4.75 , 5.625],\n",
       "        [0.5  , 5.375, 1.75 ]]))"
      ]
     },
     "execution_count": 50,
     "metadata": {},
     "output_type": "execute_result"
    }
   ],
   "source": [
    "tensor = np.random.randint(1, 50, size=(2, 3))\n",
    "tensor2 = tensor / 8\n",
    "tensor, tensor2"
   ]
  },
  {
   "cell_type": "code",
   "execution_count": 51,
   "id": "30bc0b24",
   "metadata": {},
   "outputs": [
    {
     "data": {
      "text/plain": [
       "array([[18, 38, 45],\n",
       "       [ 4, 43, 14]])"
      ]
     },
     "execution_count": 51,
     "metadata": {},
     "output_type": "execute_result"
    }
   ],
   "source": [
    "tensor"
   ]
  },
  {
   "cell_type": "code",
   "execution_count": 52,
   "id": "efbdb45c",
   "metadata": {},
   "outputs": [
    {
     "data": {
      "text/plain": [
       "3.637970947608805e+42"
      ]
     },
     "execution_count": 52,
     "metadata": {},
     "output_type": "execute_result"
    }
   ],
   "source": [
    "np.exp(98)"
   ]
  },
  {
   "cell_type": "code",
   "execution_count": 53,
   "id": "d2aa7591",
   "metadata": {},
   "outputs": [
    {
     "data": {
      "text/plain": [
       "array([[6.56599691e+07, 3.18559318e+16, 3.49342711e+19],\n",
       "       [5.45981500e+01, 4.72783947e+18, 1.20260428e+06]])"
      ]
     },
     "execution_count": 53,
     "metadata": {},
     "output_type": "execute_result"
    }
   ],
   "source": [
    "np.exp(tensor)"
   ]
  },
  {
   "cell_type": "code",
   "execution_count": 57,
   "id": "c5f10025",
   "metadata": {},
   "outputs": [
    {
     "data": {
      "text/plain": [
       "array([3.49661270e+19, 4.72783947e+18])"
      ]
     },
     "execution_count": 57,
     "metadata": {},
     "output_type": "execute_result"
    }
   ],
   "source": [
    "np.sum(np.exp(tensor), axis=1)"
   ]
  },
  {
   "cell_type": "code",
   "execution_count": 59,
   "id": "2cda4a7b",
   "metadata": {},
   "outputs": [
    {
     "data": {
      "text/plain": [
       "array([1.87781647e-12, 9.11051194e-04, 9.99088949e-01])"
      ]
     },
     "execution_count": 59,
     "metadata": {},
     "output_type": "execute_result"
    }
   ],
   "source": [
    "np.exp(tensor[0]) / np.sum(np.exp(tensor), axis=1)[0]"
   ]
  },
  {
   "cell_type": "code",
   "execution_count": 60,
   "id": "282ba1c7",
   "metadata": {},
   "outputs": [
    {
     "data": {
      "text/plain": [
       "array([1.15482242e-17, 1.00000000e+00, 2.54366565e-13])"
      ]
     },
     "execution_count": 60,
     "metadata": {},
     "output_type": "execute_result"
    }
   ],
   "source": [
    "np.exp(tensor[1]) / np.sum(np.exp(tensor), axis=1)[1]"
   ]
  },
  {
   "cell_type": "code",
   "execution_count": 61,
   "id": "831035a8",
   "metadata": {},
   "outputs": [
    {
     "data": {
      "text/plain": [
       "array([0.02358114, 0.28727705, 0.68914181])"
      ]
     },
     "execution_count": 61,
     "metadata": {},
     "output_type": "execute_result"
    }
   ],
   "source": [
    "np.exp(tensor2[0]) / np.sum(np.exp(tensor2), axis=1)[0]"
   ]
  },
  {
   "cell_type": "code",
   "execution_count": 62,
   "id": "c79dc664",
   "metadata": {},
   "outputs": [
    {
     "data": {
      "text/plain": [
       "array([0.00738201, 0.96685225, 0.02576574])"
      ]
     },
     "execution_count": 62,
     "metadata": {},
     "output_type": "execute_result"
    }
   ],
   "source": [
    "np.exp(tensor2[1]) / np.sum(np.exp(tensor2), axis=1)[1]"
   ]
  },
  {
   "cell_type": "code",
   "execution_count": 66,
   "id": "7c21e3d0",
   "metadata": {},
   "outputs": [
    {
     "data": {
      "text/plain": [
       "(tensor([[1.8778e-12, 9.1105e-04, 9.9909e-01],\n",
       "         [1.1548e-17, 1.0000e+00, 2.5437e-13]]),\n",
       " tensor([[0.0236, 0.2873, 0.6891],\n",
       "         [0.0074, 0.9669, 0.0258]]))"
      ]
     },
     "execution_count": 66,
     "metadata": {},
     "output_type": "execute_result"
    }
   ],
   "source": [
    "softmax = nn.Softmax(dim=1)\n",
    "softmax(torch.tensor(tensor, dtype=torch.float32)), softmax(torch.tensor(tensor2, dtype=torch.float32))"
   ]
  },
  {
   "cell_type": "markdown",
   "id": "d93bf55f",
   "metadata": {},
   "source": [
    "### scale을 적용함으로서 softmax 이후 값들의 편차가 조금은 줄어들은 것을 볼 수 있음.\n",
    "- 어느 한쪽에 가중치가 치우치는 것을 막을 수 있고 그래디언트 계산 시 너무 큰 값들에 의해 작아지는걸 방지할 수 있음."
   ]
  },
  {
   "cell_type": "code",
   "execution_count": 88,
   "id": "481b0d8c",
   "metadata": {},
   "outputs": [],
   "source": [
    "def softmax_func(x):\n",
    "    e_x = np.exp(x - np.max(x, axis=1, keepdims=True))\n",
    "    return e_x / e_x.sum(axis=1, keepdims=True)"
   ]
  },
  {
   "cell_type": "code",
   "execution_count": 89,
   "id": "d43dbbe4",
   "metadata": {
    "scrolled": true
   },
   "outputs": [
    {
     "data": {
      "text/plain": [
       "array([[1.87781647e-12, 9.11051194e-04, 9.99088949e-01],\n",
       "       [1.15482242e-17, 1.00000000e+00, 2.54366565e-13]])"
      ]
     },
     "execution_count": 89,
     "metadata": {},
     "output_type": "execute_result"
    }
   ],
   "source": [
    "softmax_func(tensor)"
   ]
  },
  {
   "cell_type": "code",
   "execution_count": 96,
   "id": "cdcdd78b",
   "metadata": {},
   "outputs": [],
   "source": [
    "def softmax_temperature(x, t):\n",
    "    x = x / t\n",
    "    e_x = np.exp(x - np.max(x, axis=1, keepdims=True))\n",
    "    return e_x / e_x.sum(axis=1, keepdims=True)"
   ]
  },
  {
   "cell_type": "code",
   "execution_count": 101,
   "id": "227ede3a",
   "metadata": {},
   "outputs": [
    {
     "data": {
      "text/plain": [
       "array([[0.28317644, 0.34587249, 0.37095107],\n",
       "       [0.27916182, 0.41231665, 0.30852153]])"
      ]
     },
     "execution_count": 101,
     "metadata": {},
     "output_type": "execute_result"
    }
   ],
   "source": [
    "softmax_temperature(tensor, 100)"
   ]
  }
 ],
 "metadata": {
  "kernelspec": {
   "display_name": "Python 3 (ipykernel)",
   "language": "python",
   "name": "python3"
  },
  "language_info": {
   "codemirror_mode": {
    "name": "ipython",
    "version": 3
   },
   "file_extension": ".py",
   "mimetype": "text/x-python",
   "name": "python",
   "nbconvert_exporter": "python",
   "pygments_lexer": "ipython3",
   "version": "3.8.17"
  }
 },
 "nbformat": 4,
 "nbformat_minor": 5
}
