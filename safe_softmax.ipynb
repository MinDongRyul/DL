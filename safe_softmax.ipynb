{
 "cells": [
  {
   "cell_type": "code",
   "execution_count": 14,
   "id": "73fcef14",
   "metadata": {},
   "outputs": [],
   "source": [
    "import torch\n",
    "import torch.nn as nn\n",
    "import numpy as np"
   ]
  },
  {
   "cell_type": "code",
   "execution_count": 5,
   "id": "5398d0ce",
   "metadata": {},
   "outputs": [
    {
     "data": {
      "text/plain": [
       "tensor([0.8613, 0.0239, 0.3926], dtype=torch.float16)"
      ]
     },
     "execution_count": 5,
     "metadata": {},
     "output_type": "execute_result"
    }
   ],
   "source": [
    "tensor = torch.rand(3, dtype=torch.half)\n",
    "tensor"
   ]
  },
  {
   "cell_type": "code",
   "execution_count": 23,
   "id": "128d8e8e",
   "metadata": {},
   "outputs": [
    {
     "data": {
      "text/plain": [
       "[0.4857685009487666, 0.21025684003096848, 0.3039861602633308]"
      ]
     },
     "execution_count": 23,
     "metadata": {},
     "output_type": "execute_result"
    }
   ],
   "source": [
    "# Safe softmax\n",
    "\n",
    "m = [float(-np.inf)]\n",
    "for k in range(1, 4):\n",
    "    m.append(max(m[k-1],tensor[k-1].item()))\n",
    "d_0 = 0\n",
    "for j in range(1, 4):\n",
    "    d_0 += np.exp(tensor[j-1] - m[-1])\n",
    "d_0\n",
    "y = []\n",
    "for i in range(1, 4):\n",
    "    y.append((np.exp(tensor[i-1].item() - m[-1]))/d_0.item())\n",
    "y"
   ]
  },
  {
   "cell_type": "code",
   "execution_count": 24,
   "id": "b3ca64ab",
   "metadata": {},
   "outputs": [
    {
     "data": {
      "text/plain": [
       "[0.4857685009487666, 0.21025684003096848, 0.3039861602633308]"
      ]
     },
     "execution_count": 24,
     "metadata": {},
     "output_type": "execute_result"
    }
   ],
   "source": [
    "# Safe softmax with online normzlizer calculation\n",
    "\n",
    "m = [float(-np.inf)]\n",
    "d_0 = 0\n",
    "for k in range(1, 4):\n",
    "    # 이전값과 현재값 중 max 삽입\n",
    "    m.append(max(m[k-1],tensor[k-1].item()))\n",
    "    # \n",
    "    d_0 = d_0 * np.exp(m[k-1] - m[k]) + np.exp(tensor[k-1] - m[k])\n",
    "    # k = 1, d_0 = np.exp(tensor[0] - m[1])\n",
    "    # k = 2, d_0 = d_0 x np.exp(m[1] - m[2]) + np.exp(tensor[1] - m[2])\n",
    "\n",
    "y = []\n",
    "for i in range(1, 4):\n",
    "    y.append((np.exp(tensor[i-1].item() - m[-1]))/d_0.item())\n",
    "y"
   ]
  },
  {
   "cell_type": "code",
   "execution_count": 21,
   "id": "41e62637",
   "metadata": {},
   "outputs": [
    {
     "data": {
      "text/plain": [
       "Softmax(dim=-1)"
      ]
     },
     "execution_count": 21,
     "metadata": {},
     "output_type": "execute_result"
    }
   ],
   "source": [
    "# Naive softmax\n",
    "softmax = nn.Softmax(dim=-1)\n",
    "softmax"
   ]
  },
  {
   "cell_type": "code",
   "execution_count": 28,
   "id": "c911c1b5",
   "metadata": {},
   "outputs": [
    {
     "data": {
      "text/plain": [
       "array([0.4858, 0.2102, 0.304 ], dtype=float16)"
      ]
     },
     "execution_count": 28,
     "metadata": {},
     "output_type": "execute_result"
    }
   ],
   "source": [
    "softmax(tensor).detach().numpy()"
   ]
  },
  {
   "cell_type": "code",
   "execution_count": null,
   "id": "60cb6fd0",
   "metadata": {},
   "outputs": [],
   "source": []
  }
 ],
 "metadata": {
  "kernelspec": {
   "display_name": "Python 3 (ipykernel)",
   "language": "python",
   "name": "python3"
  },
  "language_info": {
   "codemirror_mode": {
    "name": "ipython",
    "version": 3
   },
   "file_extension": ".py",
   "mimetype": "text/x-python",
   "name": "python",
   "nbconvert_exporter": "python",
   "pygments_lexer": "ipython3",
   "version": "3.8.17"
  }
 },
 "nbformat": 4,
 "nbformat_minor": 5
}
